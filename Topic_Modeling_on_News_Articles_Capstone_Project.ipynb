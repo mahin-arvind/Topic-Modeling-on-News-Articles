{
  "nbformat": 4,
  "nbformat_minor": 0,
  "metadata": {
    "kernelspec": {
      "display_name": "Python 3",
      "language": "python",
      "name": "python3"
    },
    "language_info": {
      "codemirror_mode": {
        "name": "ipython",
        "version": 3
      },
      "file_extension": ".py",
      "mimetype": "text/x-python",
      "name": "python",
      "nbconvert_exporter": "python",
      "pygments_lexer": "ipython3",
      "version": "3.6.6"
    },
    "colab": {
      "name": "Topic Modeling on News Articles - Capstone Project.ipynb",
      "provenance": [],
      "collapsed_sections": [],
      "include_colab_link": true
    }
  },
  "cells": [
    {
      "cell_type": "markdown",
      "metadata": {
        "id": "view-in-github",
        "colab_type": "text"
      },
      "source": [
        "<a href=\"https://colab.research.google.com/github/mahin-arvind/Topic-Modeling-on-News-Articles/blob/main/Topic_Modeling_on_News_Articles_Capstone_Project.ipynb\" target=\"_parent\"><img src=\"https://colab.research.google.com/assets/colab-badge.svg\" alt=\"Open In Colab\"/></a>"
      ]
    },
    {
      "cell_type": "markdown",
      "metadata": {
        "id": "tOGC-qoyhJeX"
      },
      "source": [
        "# <b><u> Project Title : Extraction/identification of major topics & themes discussed in news articles. </u></b>"
      ]
    },
    {
      "cell_type": "markdown",
      "metadata": {
        "id": "Y06xIdG26kRF"
      },
      "source": [
        "## <b> Problem Description </b>\n",
        "\n",
        "### In this project your task is to identify major themes/topics across a collection of BBC news articles. You can use clustering algorithms such as Latent Dirichlet Allocation (LDA), Latent Semantic Analysis (LSA) etc."
      ]
    },
    {
      "cell_type": "markdown",
      "metadata": {
        "id": "AlLxAtlziMbP"
      },
      "source": [
        "## <b> Data Description </b>\n",
        "\n",
        "### The dataset contains a set of news articles for each major segment consisting of business, entertainment, politics, sports and technology. You need to create an aggregate dataset of all the news articles and perform topic modeling on this dataset. Verify whether these topics correspond to the different tags available."
      ]
    },
    {
      "cell_type": "code",
      "metadata": {
        "_cell_guid": "b1f10f39-91d4-45f1-b62f-d1f590e50438",
        "_kg_hide-input": false,
        "_kg_hide-output": false,
        "_uuid": "7edd510ba8ac857514e34d6b38c0466d125cffb9",
        "id": "CTnp4LkiuYj0"
      },
      "source": [
        "import numpy as np\n",
        "import pandas as pd\n",
        "from IPython.display import display\n",
        "from tqdm import tqdm\n",
        "from collections import Counter\n",
        "import ast\n",
        "\n",
        "import matplotlib.pyplot as plt\n",
        "import matplotlib.mlab as mlab\n",
        "import seaborn as sb\n",
        "\n",
        "from sklearn.feature_extraction.text import CountVectorizer\n",
        "from textblob import TextBlob\n",
        "import scipy.stats as stats\n",
        "\n",
        "from sklearn.decomposition import TruncatedSVD\n",
        "from sklearn.decomposition import LatentDirichletAllocation\n",
        "from sklearn.manifold import TSNE\n",
        "\n",
        "\n",
        "%matplotlib inline"
      ],
      "execution_count": 2,
      "outputs": []
    },
    {
      "cell_type": "code",
      "metadata": {
        "colab": {
          "base_uri": "https://localhost:8080/"
        },
        "id": "kjRvkD-OxPgT",
        "outputId": "c195a249-65c1-4684-9c82-9c2ff3d13c8f"
      },
      "source": [
        "from google.colab import drive\n",
        "drive.mount('/content/drive')"
      ],
      "execution_count": 3,
      "outputs": [
        {
          "output_type": "stream",
          "name": "stdout",
          "text": [
            "Mounted at /content/drive\n"
          ]
        }
      ]
    },
    {
      "cell_type": "code",
      "source": [
        "import os, glob"
      ],
      "metadata": {
        "id": "BZQk2DczTduL"
      },
      "execution_count": 5,
      "outputs": []
    },
    {
      "cell_type": "code",
      "source": [
        "pip install nltk"
      ],
      "metadata": {
        "id": "2p3ZHltQUnqY",
        "outputId": "2794a401-95bd-4dbb-8974-680e6365127f",
        "colab": {
          "base_uri": "https://localhost:8080/"
        }
      },
      "execution_count": 32,
      "outputs": [
        {
          "output_type": "stream",
          "name": "stdout",
          "text": [
            "Looking in indexes: https://pypi.org/simple, https://us-python.pkg.dev/colab-wheels/public/simple/\n",
            "Requirement already satisfied: nltk in /usr/local/lib/python3.7/dist-packages (3.2.5)\n",
            "Requirement already satisfied: six in /usr/local/lib/python3.7/dist-packages (from nltk) (1.15.0)\n"
          ]
        }
      ]
    },
    {
      "cell_type": "code",
      "source": [
        "import nltk\n",
        "nltk.download('punkt')"
      ],
      "metadata": {
        "id": "tuHyN05EbQAB",
        "outputId": "5939f7e8-870e-4db2-957c-cee28fbc39e8",
        "colab": {
          "base_uri": "https://localhost:8080/"
        }
      },
      "execution_count": 35,
      "outputs": [
        {
          "output_type": "stream",
          "name": "stdout",
          "text": [
            "[nltk_data] Downloading package punkt to /root/nltk_data...\n",
            "[nltk_data]   Unzipping tokenizers/punkt.zip.\n"
          ]
        },
        {
          "output_type": "execute_result",
          "data": {
            "text/plain": [
              "True"
            ]
          },
          "metadata": {},
          "execution_count": 35
        }
      ]
    },
    {
      "cell_type": "code",
      "source": [
        "from collections import defaultdict\n",
        "from pathlib import Path\n",
        "import string, re\n",
        "from nltk import sent_tokenize\n"
      ],
      "metadata": {
        "id": "_vkDeuEsTfMM"
      },
      "execution_count": 127,
      "outputs": []
    },
    {
      "cell_type": "code",
      "source": [
        "'''\n",
        "extracting news articles from folders in the dataset using their path and\n",
        "storing them into a dataframe named after their topic\n",
        "'''\n",
        "\n",
        "#Folder paths of news articles\n",
        "f1 = '/content/drive/MyDrive/Datasets/Unsupervised/Topic Modeling/Topic Modeling on BBC News Articles/bbc/business'\n",
        "f2 = '/content/drive/MyDrive/Datasets/Unsupervised/Topic Modeling/Topic Modeling on BBC News Articles/bbc/entertainment'\n",
        "f3 = '/content/drive/MyDrive/Datasets/Unsupervised/Topic Modeling/Topic Modeling on BBC News Articles/bbc/politics'\n",
        "f4 = '/content/drive/MyDrive/Datasets/Unsupervised/Topic Modeling/Topic Modeling on BBC News Articles/bbc/sport'\n",
        "f5 = '/content/drive/MyDrive/Datasets/Unsupervised/Topic Modeling/Topic Modeling on BBC News Articles/bbc/tech'\n",
        "\n",
        "#topic dictionaries to store headline and content of the articles\n",
        "business = defaultdict(list)\n",
        "entertainment = defaultdict(list)\n",
        "politics = defaultdict(list)\n",
        "tech = defaultdict(list)\n",
        "sport = defaultdict(list)\n",
        "\n",
        "#iterating through the topics and folderpaths to update articles into dictionaries\n",
        "for folder, results in [(f1,business),(f2,entertainment),(f3,politics),(f4,sport),(f5,tech)]:\n",
        "  for file in Path(folder).iterdir():\n",
        "    file = open(file,'rt')\n",
        "    if file.name != '/content/drive/MyDrive/Datasets/Unsupervised/Topic Modeling/Topic Modeling on BBC News Articles/bbc/sport/199.txt': # as this file has a euro sign, it is not able to be decoded\n",
        "      text = file.read()\n",
        "      sentences = sent_tokenize(text)\n",
        "      if '\\n\\n' in sentences[0]:\n",
        "        headline = sentences[0].split('\\n\\n')[0] # extracts headline using '\\n\\n'\n",
        "        sentences[0] = sentences[0].split('\\n\\n')[1] #removing headline from content\n",
        "      else:\n",
        "        headline = sentences[0]\n",
        "        sentences= sentences[1:]\n",
        "        \n",
        "      results['Headline'].append(headline)\n",
        "      results['Content'].append( ' '.join(sentences))\n",
        "      file.close()\n",
        "\n"
      ],
      "metadata": {
        "id": "q-ty5Y0szSXi"
      },
      "execution_count": 270,
      "outputs": []
    },
    {
      "cell_type": "code",
      "source": [
        "#converting dictionaries into dataframes\n",
        "business = pd.DataFrame(business)\n",
        "entertainment = pd.DataFrame(entertainment)\n",
        "politics = pd.DataFrame(politics)\n",
        "tech = pd.DataFrame(tech)\n",
        "sport = pd.DataFrame(sport)"
      ],
      "metadata": {
        "id": "YdNHbQOgz5XH"
      },
      "execution_count": 271,
      "outputs": []
    },
    {
      "cell_type": "code",
      "source": [
        "business"
      ],
      "metadata": {
        "id": "j0dcjJdI0Kqa",
        "outputId": "ffa42409-5d7a-4d77-e214-a0ae43229f47",
        "colab": {
          "base_uri": "https://localhost:8080/",
          "height": 424
        }
      },
      "execution_count": 239,
      "outputs": [
        {
          "output_type": "execute_result",
          "data": {
            "text/plain": [
              "                              Headline  \\\n",
              "0    Yukos unit buyer faces loan claim   \n",
              "1    Ad sales boost Time Warner profit   \n",
              "2     Dollar gains on Greenspan speech   \n",
              "3     US trade gap hits record in 2004   \n",
              "4    High fuel prices hit BA's profits   \n",
              "..                                 ...   \n",
              "505    China now top trader with Japan   \n",
              "506    UK economy ends year with spurt   \n",
              "507    Euro firms miss out on optimism   \n",
              "508  Aids and climate top Davos agenda   \n",
              "509  HealthSouth ex-boss goes on trial   \n",
              "\n",
              "                                               Content  \n",
              "0    The owners of embattled Russian oil giant Yuko...  \n",
              "1    Quarterly profits at US media giant TimeWarner...  \n",
              "2    The dollar has hit its highest level against t...  \n",
              "3    The gap between US exports and imports hit an ...  \n",
              "4    British Airways has blamed high fuel prices fo...  \n",
              "..                                                 ...  \n",
              "505  China overtook the US to become Japan's bigges...  \n",
              "506  The UK economy grew by an estimated 3.1% in 20...  \n",
              "507  More than 90% of large companies around the wo...  \n",
              "508  Climate change and the fight against Aids are ...  \n",
              "509  The former head of US medical services firm He...  \n",
              "\n",
              "[510 rows x 2 columns]"
            ],
            "text/html": [
              "\n",
              "  <div id=\"df-0d70318f-3c22-4709-b663-792af4bbde5f\">\n",
              "    <div class=\"colab-df-container\">\n",
              "      <div>\n",
              "<style scoped>\n",
              "    .dataframe tbody tr th:only-of-type {\n",
              "        vertical-align: middle;\n",
              "    }\n",
              "\n",
              "    .dataframe tbody tr th {\n",
              "        vertical-align: top;\n",
              "    }\n",
              "\n",
              "    .dataframe thead th {\n",
              "        text-align: right;\n",
              "    }\n",
              "</style>\n",
              "<table border=\"1\" class=\"dataframe\">\n",
              "  <thead>\n",
              "    <tr style=\"text-align: right;\">\n",
              "      <th></th>\n",
              "      <th>Headline</th>\n",
              "      <th>Content</th>\n",
              "    </tr>\n",
              "  </thead>\n",
              "  <tbody>\n",
              "    <tr>\n",
              "      <th>0</th>\n",
              "      <td>Yukos unit buyer faces loan claim</td>\n",
              "      <td>The owners of embattled Russian oil giant Yuko...</td>\n",
              "    </tr>\n",
              "    <tr>\n",
              "      <th>1</th>\n",
              "      <td>Ad sales boost Time Warner profit</td>\n",
              "      <td>Quarterly profits at US media giant TimeWarner...</td>\n",
              "    </tr>\n",
              "    <tr>\n",
              "      <th>2</th>\n",
              "      <td>Dollar gains on Greenspan speech</td>\n",
              "      <td>The dollar has hit its highest level against t...</td>\n",
              "    </tr>\n",
              "    <tr>\n",
              "      <th>3</th>\n",
              "      <td>US trade gap hits record in 2004</td>\n",
              "      <td>The gap between US exports and imports hit an ...</td>\n",
              "    </tr>\n",
              "    <tr>\n",
              "      <th>4</th>\n",
              "      <td>High fuel prices hit BA's profits</td>\n",
              "      <td>British Airways has blamed high fuel prices fo...</td>\n",
              "    </tr>\n",
              "    <tr>\n",
              "      <th>...</th>\n",
              "      <td>...</td>\n",
              "      <td>...</td>\n",
              "    </tr>\n",
              "    <tr>\n",
              "      <th>505</th>\n",
              "      <td>China now top trader with Japan</td>\n",
              "      <td>China overtook the US to become Japan's bigges...</td>\n",
              "    </tr>\n",
              "    <tr>\n",
              "      <th>506</th>\n",
              "      <td>UK economy ends year with spurt</td>\n",
              "      <td>The UK economy grew by an estimated 3.1% in 20...</td>\n",
              "    </tr>\n",
              "    <tr>\n",
              "      <th>507</th>\n",
              "      <td>Euro firms miss out on optimism</td>\n",
              "      <td>More than 90% of large companies around the wo...</td>\n",
              "    </tr>\n",
              "    <tr>\n",
              "      <th>508</th>\n",
              "      <td>Aids and climate top Davos agenda</td>\n",
              "      <td>Climate change and the fight against Aids are ...</td>\n",
              "    </tr>\n",
              "    <tr>\n",
              "      <th>509</th>\n",
              "      <td>HealthSouth ex-boss goes on trial</td>\n",
              "      <td>The former head of US medical services firm He...</td>\n",
              "    </tr>\n",
              "  </tbody>\n",
              "</table>\n",
              "<p>510 rows × 2 columns</p>\n",
              "</div>\n",
              "      <button class=\"colab-df-convert\" onclick=\"convertToInteractive('df-0d70318f-3c22-4709-b663-792af4bbde5f')\"\n",
              "              title=\"Convert this dataframe to an interactive table.\"\n",
              "              style=\"display:none;\">\n",
              "        \n",
              "  <svg xmlns=\"http://www.w3.org/2000/svg\" height=\"24px\"viewBox=\"0 0 24 24\"\n",
              "       width=\"24px\">\n",
              "    <path d=\"M0 0h24v24H0V0z\" fill=\"none\"/>\n",
              "    <path d=\"M18.56 5.44l.94 2.06.94-2.06 2.06-.94-2.06-.94-.94-2.06-.94 2.06-2.06.94zm-11 1L8.5 8.5l.94-2.06 2.06-.94-2.06-.94L8.5 2.5l-.94 2.06-2.06.94zm10 10l.94 2.06.94-2.06 2.06-.94-2.06-.94-.94-2.06-.94 2.06-2.06.94z\"/><path d=\"M17.41 7.96l-1.37-1.37c-.4-.4-.92-.59-1.43-.59-.52 0-1.04.2-1.43.59L10.3 9.45l-7.72 7.72c-.78.78-.78 2.05 0 2.83L4 21.41c.39.39.9.59 1.41.59.51 0 1.02-.2 1.41-.59l7.78-7.78 2.81-2.81c.8-.78.8-2.07 0-2.86zM5.41 20L4 18.59l7.72-7.72 1.47 1.35L5.41 20z\"/>\n",
              "  </svg>\n",
              "      </button>\n",
              "      \n",
              "  <style>\n",
              "    .colab-df-container {\n",
              "      display:flex;\n",
              "      flex-wrap:wrap;\n",
              "      gap: 12px;\n",
              "    }\n",
              "\n",
              "    .colab-df-convert {\n",
              "      background-color: #E8F0FE;\n",
              "      border: none;\n",
              "      border-radius: 50%;\n",
              "      cursor: pointer;\n",
              "      display: none;\n",
              "      fill: #1967D2;\n",
              "      height: 32px;\n",
              "      padding: 0 0 0 0;\n",
              "      width: 32px;\n",
              "    }\n",
              "\n",
              "    .colab-df-convert:hover {\n",
              "      background-color: #E2EBFA;\n",
              "      box-shadow: 0px 1px 2px rgba(60, 64, 67, 0.3), 0px 1px 3px 1px rgba(60, 64, 67, 0.15);\n",
              "      fill: #174EA6;\n",
              "    }\n",
              "\n",
              "    [theme=dark] .colab-df-convert {\n",
              "      background-color: #3B4455;\n",
              "      fill: #D2E3FC;\n",
              "    }\n",
              "\n",
              "    [theme=dark] .colab-df-convert:hover {\n",
              "      background-color: #434B5C;\n",
              "      box-shadow: 0px 1px 3px 1px rgba(0, 0, 0, 0.15);\n",
              "      filter: drop-shadow(0px 1px 2px rgba(0, 0, 0, 0.3));\n",
              "      fill: #FFFFFF;\n",
              "    }\n",
              "  </style>\n",
              "\n",
              "      <script>\n",
              "        const buttonEl =\n",
              "          document.querySelector('#df-0d70318f-3c22-4709-b663-792af4bbde5f button.colab-df-convert');\n",
              "        buttonEl.style.display =\n",
              "          google.colab.kernel.accessAllowed ? 'block' : 'none';\n",
              "\n",
              "        async function convertToInteractive(key) {\n",
              "          const element = document.querySelector('#df-0d70318f-3c22-4709-b663-792af4bbde5f');\n",
              "          const dataTable =\n",
              "            await google.colab.kernel.invokeFunction('convertToInteractive',\n",
              "                                                     [key], {});\n",
              "          if (!dataTable) return;\n",
              "\n",
              "          const docLinkHtml = 'Like what you see? Visit the ' +\n",
              "            '<a target=\"_blank\" href=https://colab.research.google.com/notebooks/data_table.ipynb>data table notebook</a>'\n",
              "            + ' to learn more about interactive tables.';\n",
              "          element.innerHTML = '';\n",
              "          dataTable['output_type'] = 'display_data';\n",
              "          await google.colab.output.renderOutput(dataTable, element);\n",
              "          const docLink = document.createElement('div');\n",
              "          docLink.innerHTML = docLinkHtml;\n",
              "          element.appendChild(docLink);\n",
              "        }\n",
              "      </script>\n",
              "    </div>\n",
              "  </div>\n",
              "  "
            ]
          },
          "metadata": {},
          "execution_count": 239
        }
      ]
    },
    {
      "cell_type": "code",
      "source": [
        "entertainment"
      ],
      "metadata": {
        "id": "jLdh94U2zKiK",
        "outputId": "e96a2cc5-f23e-4b6b-be94-7551327adca1",
        "colab": {
          "base_uri": "https://localhost:8080/",
          "height": 424
        }
      },
      "execution_count": 244,
      "outputs": [
        {
          "output_type": "execute_result",
          "data": {
            "text/plain": [
              "                                   Headline  \\\n",
              "0          Gallery unveils interactive tree   \n",
              "1    Arthur Hailey: King of the bestsellers   \n",
              "2          Hundreds vie for best film Oscar   \n",
              "3           Neeson in bid to revive theatre   \n",
              "4              Vera Drake scoops film award   \n",
              "..                                      ...   \n",
              "381        Original Exorcist to be screened   \n",
              "382      US 'afflicted' with awards fatigue   \n",
              "383         Boogeyman takes box office lead   \n",
              "384         Hitch holds on to US box office   \n",
              "385        Shark Tale DVD is US best-seller   \n",
              "\n",
              "                                               Content  \n",
              "0    A Christmas tree that can receive text message...  \n",
              "1    Novelist Arthur Hailey, who has died at the ag...  \n",
              "2    A total of 267 films are eligible for the best...  \n",
              "3    Hollywood film star Liam Neeson has held a din...  \n",
              "4    Oscar hopefuls Mike Leigh and Imelda Staunton ...  \n",
              "..                                                 ...  \n",
              "381  The original version of horror prequel Exorcis...  \n",
              "382  The film world and media may be wild about the...  \n",
              "383  The low-budget horror film Boogeyman has knock...  \n",
              "384  Will Smith's first romantic comedy, Hitch, has...  \n",
              "385  Oscar-nominated animation Shark Tale has raked...  \n",
              "\n",
              "[386 rows x 2 columns]"
            ],
            "text/html": [
              "\n",
              "  <div id=\"df-dd127651-fd51-4b8b-be4f-d8d09d8230e4\">\n",
              "    <div class=\"colab-df-container\">\n",
              "      <div>\n",
              "<style scoped>\n",
              "    .dataframe tbody tr th:only-of-type {\n",
              "        vertical-align: middle;\n",
              "    }\n",
              "\n",
              "    .dataframe tbody tr th {\n",
              "        vertical-align: top;\n",
              "    }\n",
              "\n",
              "    .dataframe thead th {\n",
              "        text-align: right;\n",
              "    }\n",
              "</style>\n",
              "<table border=\"1\" class=\"dataframe\">\n",
              "  <thead>\n",
              "    <tr style=\"text-align: right;\">\n",
              "      <th></th>\n",
              "      <th>Headline</th>\n",
              "      <th>Content</th>\n",
              "    </tr>\n",
              "  </thead>\n",
              "  <tbody>\n",
              "    <tr>\n",
              "      <th>0</th>\n",
              "      <td>Gallery unveils interactive tree</td>\n",
              "      <td>A Christmas tree that can receive text message...</td>\n",
              "    </tr>\n",
              "    <tr>\n",
              "      <th>1</th>\n",
              "      <td>Arthur Hailey: King of the bestsellers</td>\n",
              "      <td>Novelist Arthur Hailey, who has died at the ag...</td>\n",
              "    </tr>\n",
              "    <tr>\n",
              "      <th>2</th>\n",
              "      <td>Hundreds vie for best film Oscar</td>\n",
              "      <td>A total of 267 films are eligible for the best...</td>\n",
              "    </tr>\n",
              "    <tr>\n",
              "      <th>3</th>\n",
              "      <td>Neeson in bid to revive theatre</td>\n",
              "      <td>Hollywood film star Liam Neeson has held a din...</td>\n",
              "    </tr>\n",
              "    <tr>\n",
              "      <th>4</th>\n",
              "      <td>Vera Drake scoops film award</td>\n",
              "      <td>Oscar hopefuls Mike Leigh and Imelda Staunton ...</td>\n",
              "    </tr>\n",
              "    <tr>\n",
              "      <th>...</th>\n",
              "      <td>...</td>\n",
              "      <td>...</td>\n",
              "    </tr>\n",
              "    <tr>\n",
              "      <th>381</th>\n",
              "      <td>Original Exorcist to be screened</td>\n",
              "      <td>The original version of horror prequel Exorcis...</td>\n",
              "    </tr>\n",
              "    <tr>\n",
              "      <th>382</th>\n",
              "      <td>US 'afflicted' with awards fatigue</td>\n",
              "      <td>The film world and media may be wild about the...</td>\n",
              "    </tr>\n",
              "    <tr>\n",
              "      <th>383</th>\n",
              "      <td>Boogeyman takes box office lead</td>\n",
              "      <td>The low-budget horror film Boogeyman has knock...</td>\n",
              "    </tr>\n",
              "    <tr>\n",
              "      <th>384</th>\n",
              "      <td>Hitch holds on to US box office</td>\n",
              "      <td>Will Smith's first romantic comedy, Hitch, has...</td>\n",
              "    </tr>\n",
              "    <tr>\n",
              "      <th>385</th>\n",
              "      <td>Shark Tale DVD is US best-seller</td>\n",
              "      <td>Oscar-nominated animation Shark Tale has raked...</td>\n",
              "    </tr>\n",
              "  </tbody>\n",
              "</table>\n",
              "<p>386 rows × 2 columns</p>\n",
              "</div>\n",
              "      <button class=\"colab-df-convert\" onclick=\"convertToInteractive('df-dd127651-fd51-4b8b-be4f-d8d09d8230e4')\"\n",
              "              title=\"Convert this dataframe to an interactive table.\"\n",
              "              style=\"display:none;\">\n",
              "        \n",
              "  <svg xmlns=\"http://www.w3.org/2000/svg\" height=\"24px\"viewBox=\"0 0 24 24\"\n",
              "       width=\"24px\">\n",
              "    <path d=\"M0 0h24v24H0V0z\" fill=\"none\"/>\n",
              "    <path d=\"M18.56 5.44l.94 2.06.94-2.06 2.06-.94-2.06-.94-.94-2.06-.94 2.06-2.06.94zm-11 1L8.5 8.5l.94-2.06 2.06-.94-2.06-.94L8.5 2.5l-.94 2.06-2.06.94zm10 10l.94 2.06.94-2.06 2.06-.94-2.06-.94-.94-2.06-.94 2.06-2.06.94z\"/><path d=\"M17.41 7.96l-1.37-1.37c-.4-.4-.92-.59-1.43-.59-.52 0-1.04.2-1.43.59L10.3 9.45l-7.72 7.72c-.78.78-.78 2.05 0 2.83L4 21.41c.39.39.9.59 1.41.59.51 0 1.02-.2 1.41-.59l7.78-7.78 2.81-2.81c.8-.78.8-2.07 0-2.86zM5.41 20L4 18.59l7.72-7.72 1.47 1.35L5.41 20z\"/>\n",
              "  </svg>\n",
              "      </button>\n",
              "      \n",
              "  <style>\n",
              "    .colab-df-container {\n",
              "      display:flex;\n",
              "      flex-wrap:wrap;\n",
              "      gap: 12px;\n",
              "    }\n",
              "\n",
              "    .colab-df-convert {\n",
              "      background-color: #E8F0FE;\n",
              "      border: none;\n",
              "      border-radius: 50%;\n",
              "      cursor: pointer;\n",
              "      display: none;\n",
              "      fill: #1967D2;\n",
              "      height: 32px;\n",
              "      padding: 0 0 0 0;\n",
              "      width: 32px;\n",
              "    }\n",
              "\n",
              "    .colab-df-convert:hover {\n",
              "      background-color: #E2EBFA;\n",
              "      box-shadow: 0px 1px 2px rgba(60, 64, 67, 0.3), 0px 1px 3px 1px rgba(60, 64, 67, 0.15);\n",
              "      fill: #174EA6;\n",
              "    }\n",
              "\n",
              "    [theme=dark] .colab-df-convert {\n",
              "      background-color: #3B4455;\n",
              "      fill: #D2E3FC;\n",
              "    }\n",
              "\n",
              "    [theme=dark] .colab-df-convert:hover {\n",
              "      background-color: #434B5C;\n",
              "      box-shadow: 0px 1px 3px 1px rgba(0, 0, 0, 0.15);\n",
              "      filter: drop-shadow(0px 1px 2px rgba(0, 0, 0, 0.3));\n",
              "      fill: #FFFFFF;\n",
              "    }\n",
              "  </style>\n",
              "\n",
              "      <script>\n",
              "        const buttonEl =\n",
              "          document.querySelector('#df-dd127651-fd51-4b8b-be4f-d8d09d8230e4 button.colab-df-convert');\n",
              "        buttonEl.style.display =\n",
              "          google.colab.kernel.accessAllowed ? 'block' : 'none';\n",
              "\n",
              "        async function convertToInteractive(key) {\n",
              "          const element = document.querySelector('#df-dd127651-fd51-4b8b-be4f-d8d09d8230e4');\n",
              "          const dataTable =\n",
              "            await google.colab.kernel.invokeFunction('convertToInteractive',\n",
              "                                                     [key], {});\n",
              "          if (!dataTable) return;\n",
              "\n",
              "          const docLinkHtml = 'Like what you see? Visit the ' +\n",
              "            '<a target=\"_blank\" href=https://colab.research.google.com/notebooks/data_table.ipynb>data table notebook</a>'\n",
              "            + ' to learn more about interactive tables.';\n",
              "          element.innerHTML = '';\n",
              "          dataTable['output_type'] = 'display_data';\n",
              "          await google.colab.output.renderOutput(dataTable, element);\n",
              "          const docLink = document.createElement('div');\n",
              "          docLink.innerHTML = docLinkHtml;\n",
              "          element.appendChild(docLink);\n",
              "        }\n",
              "      </script>\n",
              "    </div>\n",
              "  </div>\n",
              "  "
            ]
          },
          "metadata": {},
          "execution_count": 244
        }
      ]
    },
    {
      "cell_type": "code",
      "source": [
        "politics"
      ],
      "metadata": {
        "id": "D8IRP3U100CM",
        "outputId": "a6e7fd2a-b05d-41cf-9eca-8372ba894ebb",
        "colab": {
          "base_uri": "https://localhost:8080/",
          "height": 424
        }
      },
      "execution_count": 245,
      "outputs": [
        {
          "output_type": "execute_result",
          "data": {
            "text/plain": [
              "                              Headline  \\\n",
              "0      Fox attacks Blair's Tory 'lies'   \n",
              "1            Labour chooses Manchester   \n",
              "2       Hewitt decries 'career sexism'   \n",
              "3     Watchdog probes e-mail deletions   \n",
              "4    Mrs Howard gets key election role   \n",
              "..                                 ...   \n",
              "412    Tories urge 'change at the top'   \n",
              "413    Sayeed to stand down as Tory MP   \n",
              "414    Labour MP praises Tory campaign   \n",
              "415   'Last chance' warning for voters   \n",
              "416   Boateng to step down at election   \n",
              "\n",
              "                                               Content  \n",
              "0    Tony Blair lied when he took the UK to war so ...  \n",
              "1    The Labour Party will hold its 2006 autumn con...  \n",
              "2    Plans to extend paid maternity leave beyond si...  \n",
              "3    The information commissioner says he is urgent...  \n",
              "4    Michael Howard's ex-model wife, Sandra, is to ...  \n",
              "..                                                 ...  \n",
              "412  Tory delegates are gathering for what is expec...  \n",
              "413  Tory MP Jonathan Sayeed is to stand down on th...  \n",
              "414  The Conservatives have been \"a lot smarter\" in...  \n",
              "415  People in England, Scotland and Wales must hav...  \n",
              "416  Paul Boateng, Chief Secretary to the Treasury,...  \n",
              "\n",
              "[417 rows x 2 columns]"
            ],
            "text/html": [
              "\n",
              "  <div id=\"df-1c787a9b-39c4-4042-96a3-99b4c3c3f4c5\">\n",
              "    <div class=\"colab-df-container\">\n",
              "      <div>\n",
              "<style scoped>\n",
              "    .dataframe tbody tr th:only-of-type {\n",
              "        vertical-align: middle;\n",
              "    }\n",
              "\n",
              "    .dataframe tbody tr th {\n",
              "        vertical-align: top;\n",
              "    }\n",
              "\n",
              "    .dataframe thead th {\n",
              "        text-align: right;\n",
              "    }\n",
              "</style>\n",
              "<table border=\"1\" class=\"dataframe\">\n",
              "  <thead>\n",
              "    <tr style=\"text-align: right;\">\n",
              "      <th></th>\n",
              "      <th>Headline</th>\n",
              "      <th>Content</th>\n",
              "    </tr>\n",
              "  </thead>\n",
              "  <tbody>\n",
              "    <tr>\n",
              "      <th>0</th>\n",
              "      <td>Fox attacks Blair's Tory 'lies'</td>\n",
              "      <td>Tony Blair lied when he took the UK to war so ...</td>\n",
              "    </tr>\n",
              "    <tr>\n",
              "      <th>1</th>\n",
              "      <td>Labour chooses Manchester</td>\n",
              "      <td>The Labour Party will hold its 2006 autumn con...</td>\n",
              "    </tr>\n",
              "    <tr>\n",
              "      <th>2</th>\n",
              "      <td>Hewitt decries 'career sexism'</td>\n",
              "      <td>Plans to extend paid maternity leave beyond si...</td>\n",
              "    </tr>\n",
              "    <tr>\n",
              "      <th>3</th>\n",
              "      <td>Watchdog probes e-mail deletions</td>\n",
              "      <td>The information commissioner says he is urgent...</td>\n",
              "    </tr>\n",
              "    <tr>\n",
              "      <th>4</th>\n",
              "      <td>Mrs Howard gets key election role</td>\n",
              "      <td>Michael Howard's ex-model wife, Sandra, is to ...</td>\n",
              "    </tr>\n",
              "    <tr>\n",
              "      <th>...</th>\n",
              "      <td>...</td>\n",
              "      <td>...</td>\n",
              "    </tr>\n",
              "    <tr>\n",
              "      <th>412</th>\n",
              "      <td>Tories urge 'change at the top'</td>\n",
              "      <td>Tory delegates are gathering for what is expec...</td>\n",
              "    </tr>\n",
              "    <tr>\n",
              "      <th>413</th>\n",
              "      <td>Sayeed to stand down as Tory MP</td>\n",
              "      <td>Tory MP Jonathan Sayeed is to stand down on th...</td>\n",
              "    </tr>\n",
              "    <tr>\n",
              "      <th>414</th>\n",
              "      <td>Labour MP praises Tory campaign</td>\n",
              "      <td>The Conservatives have been \"a lot smarter\" in...</td>\n",
              "    </tr>\n",
              "    <tr>\n",
              "      <th>415</th>\n",
              "      <td>'Last chance' warning for voters</td>\n",
              "      <td>People in England, Scotland and Wales must hav...</td>\n",
              "    </tr>\n",
              "    <tr>\n",
              "      <th>416</th>\n",
              "      <td>Boateng to step down at election</td>\n",
              "      <td>Paul Boateng, Chief Secretary to the Treasury,...</td>\n",
              "    </tr>\n",
              "  </tbody>\n",
              "</table>\n",
              "<p>417 rows × 2 columns</p>\n",
              "</div>\n",
              "      <button class=\"colab-df-convert\" onclick=\"convertToInteractive('df-1c787a9b-39c4-4042-96a3-99b4c3c3f4c5')\"\n",
              "              title=\"Convert this dataframe to an interactive table.\"\n",
              "              style=\"display:none;\">\n",
              "        \n",
              "  <svg xmlns=\"http://www.w3.org/2000/svg\" height=\"24px\"viewBox=\"0 0 24 24\"\n",
              "       width=\"24px\">\n",
              "    <path d=\"M0 0h24v24H0V0z\" fill=\"none\"/>\n",
              "    <path d=\"M18.56 5.44l.94 2.06.94-2.06 2.06-.94-2.06-.94-.94-2.06-.94 2.06-2.06.94zm-11 1L8.5 8.5l.94-2.06 2.06-.94-2.06-.94L8.5 2.5l-.94 2.06-2.06.94zm10 10l.94 2.06.94-2.06 2.06-.94-2.06-.94-.94-2.06-.94 2.06-2.06.94z\"/><path d=\"M17.41 7.96l-1.37-1.37c-.4-.4-.92-.59-1.43-.59-.52 0-1.04.2-1.43.59L10.3 9.45l-7.72 7.72c-.78.78-.78 2.05 0 2.83L4 21.41c.39.39.9.59 1.41.59.51 0 1.02-.2 1.41-.59l7.78-7.78 2.81-2.81c.8-.78.8-2.07 0-2.86zM5.41 20L4 18.59l7.72-7.72 1.47 1.35L5.41 20z\"/>\n",
              "  </svg>\n",
              "      </button>\n",
              "      \n",
              "  <style>\n",
              "    .colab-df-container {\n",
              "      display:flex;\n",
              "      flex-wrap:wrap;\n",
              "      gap: 12px;\n",
              "    }\n",
              "\n",
              "    .colab-df-convert {\n",
              "      background-color: #E8F0FE;\n",
              "      border: none;\n",
              "      border-radius: 50%;\n",
              "      cursor: pointer;\n",
              "      display: none;\n",
              "      fill: #1967D2;\n",
              "      height: 32px;\n",
              "      padding: 0 0 0 0;\n",
              "      width: 32px;\n",
              "    }\n",
              "\n",
              "    .colab-df-convert:hover {\n",
              "      background-color: #E2EBFA;\n",
              "      box-shadow: 0px 1px 2px rgba(60, 64, 67, 0.3), 0px 1px 3px 1px rgba(60, 64, 67, 0.15);\n",
              "      fill: #174EA6;\n",
              "    }\n",
              "\n",
              "    [theme=dark] .colab-df-convert {\n",
              "      background-color: #3B4455;\n",
              "      fill: #D2E3FC;\n",
              "    }\n",
              "\n",
              "    [theme=dark] .colab-df-convert:hover {\n",
              "      background-color: #434B5C;\n",
              "      box-shadow: 0px 1px 3px 1px rgba(0, 0, 0, 0.15);\n",
              "      filter: drop-shadow(0px 1px 2px rgba(0, 0, 0, 0.3));\n",
              "      fill: #FFFFFF;\n",
              "    }\n",
              "  </style>\n",
              "\n",
              "      <script>\n",
              "        const buttonEl =\n",
              "          document.querySelector('#df-1c787a9b-39c4-4042-96a3-99b4c3c3f4c5 button.colab-df-convert');\n",
              "        buttonEl.style.display =\n",
              "          google.colab.kernel.accessAllowed ? 'block' : 'none';\n",
              "\n",
              "        async function convertToInteractive(key) {\n",
              "          const element = document.querySelector('#df-1c787a9b-39c4-4042-96a3-99b4c3c3f4c5');\n",
              "          const dataTable =\n",
              "            await google.colab.kernel.invokeFunction('convertToInteractive',\n",
              "                                                     [key], {});\n",
              "          if (!dataTable) return;\n",
              "\n",
              "          const docLinkHtml = 'Like what you see? Visit the ' +\n",
              "            '<a target=\"_blank\" href=https://colab.research.google.com/notebooks/data_table.ipynb>data table notebook</a>'\n",
              "            + ' to learn more about interactive tables.';\n",
              "          element.innerHTML = '';\n",
              "          dataTable['output_type'] = 'display_data';\n",
              "          await google.colab.output.renderOutput(dataTable, element);\n",
              "          const docLink = document.createElement('div');\n",
              "          docLink.innerHTML = docLinkHtml;\n",
              "          element.appendChild(docLink);\n",
              "        }\n",
              "      </script>\n",
              "    </div>\n",
              "  </div>\n",
              "  "
            ]
          },
          "metadata": {},
          "execution_count": 245
        }
      ]
    },
    {
      "cell_type": "code",
      "source": [
        "tech"
      ],
      "metadata": {
        "id": "2jKmaZI700tM",
        "outputId": "a7a21922-708d-4703-bb04-e0b318675fcf",
        "colab": {
          "base_uri": "https://localhost:8080/",
          "height": 424
        }
      },
      "execution_count": 246,
      "outputs": [
        {
          "output_type": "execute_result",
          "data": {
            "text/plain": [
              "                              Headline  \\\n",
              "0     Microsoft seeking spyware trojan   \n",
              "1     Technology gets the creative bug   \n",
              "2    Ink helps drive democracy in Asia   \n",
              "3     China net cafe culture crackdown   \n",
              "4      Digital guru floats sub-$100 PC   \n",
              "..                                 ...   \n",
              "396   BT program to beat dialler scams   \n",
              "397    Bad e-mail habits sustains spam   \n",
              "398  Microsoft plans 'safer ID' system   \n",
              "399     Camera phones are 'must-haves'   \n",
              "400   Beckham virus spotted on the net   \n",
              "\n",
              "                                               Content  \n",
              "0    Microsoft is investigating a trojan program th...  \n",
              "1    The hi-tech and the arts worlds have for some ...  \n",
              "2    The Kyrgyz Republic, a small, mountainous stat...  \n",
              "3    Chinese authorities closed 12,575 net cafes in...  \n",
              "4    Nicholas Negroponte, chairman and founder of M...  \n",
              "..                                                 ...  \n",
              "396  BT is introducing two initiatives to help beat...  \n",
              "397  The 'bad behaviour' of e-mail users is helping...  \n",
              "398  Microsoft is planning to make Windows and Inte...  \n",
              "399  Four times more mobiles with cameras in them w...  \n",
              "400  Virus writers are trading on interest in David...  \n",
              "\n",
              "[401 rows x 2 columns]"
            ],
            "text/html": [
              "\n",
              "  <div id=\"df-32410e82-2736-43c8-bcfc-8bba4b5011f7\">\n",
              "    <div class=\"colab-df-container\">\n",
              "      <div>\n",
              "<style scoped>\n",
              "    .dataframe tbody tr th:only-of-type {\n",
              "        vertical-align: middle;\n",
              "    }\n",
              "\n",
              "    .dataframe tbody tr th {\n",
              "        vertical-align: top;\n",
              "    }\n",
              "\n",
              "    .dataframe thead th {\n",
              "        text-align: right;\n",
              "    }\n",
              "</style>\n",
              "<table border=\"1\" class=\"dataframe\">\n",
              "  <thead>\n",
              "    <tr style=\"text-align: right;\">\n",
              "      <th></th>\n",
              "      <th>Headline</th>\n",
              "      <th>Content</th>\n",
              "    </tr>\n",
              "  </thead>\n",
              "  <tbody>\n",
              "    <tr>\n",
              "      <th>0</th>\n",
              "      <td>Microsoft seeking spyware trojan</td>\n",
              "      <td>Microsoft is investigating a trojan program th...</td>\n",
              "    </tr>\n",
              "    <tr>\n",
              "      <th>1</th>\n",
              "      <td>Technology gets the creative bug</td>\n",
              "      <td>The hi-tech and the arts worlds have for some ...</td>\n",
              "    </tr>\n",
              "    <tr>\n",
              "      <th>2</th>\n",
              "      <td>Ink helps drive democracy in Asia</td>\n",
              "      <td>The Kyrgyz Republic, a small, mountainous stat...</td>\n",
              "    </tr>\n",
              "    <tr>\n",
              "      <th>3</th>\n",
              "      <td>China net cafe culture crackdown</td>\n",
              "      <td>Chinese authorities closed 12,575 net cafes in...</td>\n",
              "    </tr>\n",
              "    <tr>\n",
              "      <th>4</th>\n",
              "      <td>Digital guru floats sub-$100 PC</td>\n",
              "      <td>Nicholas Negroponte, chairman and founder of M...</td>\n",
              "    </tr>\n",
              "    <tr>\n",
              "      <th>...</th>\n",
              "      <td>...</td>\n",
              "      <td>...</td>\n",
              "    </tr>\n",
              "    <tr>\n",
              "      <th>396</th>\n",
              "      <td>BT program to beat dialler scams</td>\n",
              "      <td>BT is introducing two initiatives to help beat...</td>\n",
              "    </tr>\n",
              "    <tr>\n",
              "      <th>397</th>\n",
              "      <td>Bad e-mail habits sustains spam</td>\n",
              "      <td>The 'bad behaviour' of e-mail users is helping...</td>\n",
              "    </tr>\n",
              "    <tr>\n",
              "      <th>398</th>\n",
              "      <td>Microsoft plans 'safer ID' system</td>\n",
              "      <td>Microsoft is planning to make Windows and Inte...</td>\n",
              "    </tr>\n",
              "    <tr>\n",
              "      <th>399</th>\n",
              "      <td>Camera phones are 'must-haves'</td>\n",
              "      <td>Four times more mobiles with cameras in them w...</td>\n",
              "    </tr>\n",
              "    <tr>\n",
              "      <th>400</th>\n",
              "      <td>Beckham virus spotted on the net</td>\n",
              "      <td>Virus writers are trading on interest in David...</td>\n",
              "    </tr>\n",
              "  </tbody>\n",
              "</table>\n",
              "<p>401 rows × 2 columns</p>\n",
              "</div>\n",
              "      <button class=\"colab-df-convert\" onclick=\"convertToInteractive('df-32410e82-2736-43c8-bcfc-8bba4b5011f7')\"\n",
              "              title=\"Convert this dataframe to an interactive table.\"\n",
              "              style=\"display:none;\">\n",
              "        \n",
              "  <svg xmlns=\"http://www.w3.org/2000/svg\" height=\"24px\"viewBox=\"0 0 24 24\"\n",
              "       width=\"24px\">\n",
              "    <path d=\"M0 0h24v24H0V0z\" fill=\"none\"/>\n",
              "    <path d=\"M18.56 5.44l.94 2.06.94-2.06 2.06-.94-2.06-.94-.94-2.06-.94 2.06-2.06.94zm-11 1L8.5 8.5l.94-2.06 2.06-.94-2.06-.94L8.5 2.5l-.94 2.06-2.06.94zm10 10l.94 2.06.94-2.06 2.06-.94-2.06-.94-.94-2.06-.94 2.06-2.06.94z\"/><path d=\"M17.41 7.96l-1.37-1.37c-.4-.4-.92-.59-1.43-.59-.52 0-1.04.2-1.43.59L10.3 9.45l-7.72 7.72c-.78.78-.78 2.05 0 2.83L4 21.41c.39.39.9.59 1.41.59.51 0 1.02-.2 1.41-.59l7.78-7.78 2.81-2.81c.8-.78.8-2.07 0-2.86zM5.41 20L4 18.59l7.72-7.72 1.47 1.35L5.41 20z\"/>\n",
              "  </svg>\n",
              "      </button>\n",
              "      \n",
              "  <style>\n",
              "    .colab-df-container {\n",
              "      display:flex;\n",
              "      flex-wrap:wrap;\n",
              "      gap: 12px;\n",
              "    }\n",
              "\n",
              "    .colab-df-convert {\n",
              "      background-color: #E8F0FE;\n",
              "      border: none;\n",
              "      border-radius: 50%;\n",
              "      cursor: pointer;\n",
              "      display: none;\n",
              "      fill: #1967D2;\n",
              "      height: 32px;\n",
              "      padding: 0 0 0 0;\n",
              "      width: 32px;\n",
              "    }\n",
              "\n",
              "    .colab-df-convert:hover {\n",
              "      background-color: #E2EBFA;\n",
              "      box-shadow: 0px 1px 2px rgba(60, 64, 67, 0.3), 0px 1px 3px 1px rgba(60, 64, 67, 0.15);\n",
              "      fill: #174EA6;\n",
              "    }\n",
              "\n",
              "    [theme=dark] .colab-df-convert {\n",
              "      background-color: #3B4455;\n",
              "      fill: #D2E3FC;\n",
              "    }\n",
              "\n",
              "    [theme=dark] .colab-df-convert:hover {\n",
              "      background-color: #434B5C;\n",
              "      box-shadow: 0px 1px 3px 1px rgba(0, 0, 0, 0.15);\n",
              "      filter: drop-shadow(0px 1px 2px rgba(0, 0, 0, 0.3));\n",
              "      fill: #FFFFFF;\n",
              "    }\n",
              "  </style>\n",
              "\n",
              "      <script>\n",
              "        const buttonEl =\n",
              "          document.querySelector('#df-32410e82-2736-43c8-bcfc-8bba4b5011f7 button.colab-df-convert');\n",
              "        buttonEl.style.display =\n",
              "          google.colab.kernel.accessAllowed ? 'block' : 'none';\n",
              "\n",
              "        async function convertToInteractive(key) {\n",
              "          const element = document.querySelector('#df-32410e82-2736-43c8-bcfc-8bba4b5011f7');\n",
              "          const dataTable =\n",
              "            await google.colab.kernel.invokeFunction('convertToInteractive',\n",
              "                                                     [key], {});\n",
              "          if (!dataTable) return;\n",
              "\n",
              "          const docLinkHtml = 'Like what you see? Visit the ' +\n",
              "            '<a target=\"_blank\" href=https://colab.research.google.com/notebooks/data_table.ipynb>data table notebook</a>'\n",
              "            + ' to learn more about interactive tables.';\n",
              "          element.innerHTML = '';\n",
              "          dataTable['output_type'] = 'display_data';\n",
              "          await google.colab.output.renderOutput(dataTable, element);\n",
              "          const docLink = document.createElement('div');\n",
              "          docLink.innerHTML = docLinkHtml;\n",
              "          element.appendChild(docLink);\n",
              "        }\n",
              "      </script>\n",
              "    </div>\n",
              "  </div>\n",
              "  "
            ]
          },
          "metadata": {},
          "execution_count": 246
        }
      ]
    },
    {
      "cell_type": "code",
      "source": [
        "sport"
      ],
      "metadata": {
        "id": "Vgf0s1IM2m9z",
        "outputId": "e51f5c60-82d3-45bb-c6f9-899790841049",
        "colab": {
          "base_uri": "https://localhost:8080/",
          "height": 424
        }
      },
      "execution_count": 272,
      "outputs": [
        {
          "output_type": "execute_result",
          "data": {
            "text/plain": [
              "                              Headline  \\\n",
              "0    Dibaba breaks 5,000m world record   \n",
              "1        2004: An Irish Athletics Year   \n",
              "2    Off-colour Gardener storms to win   \n",
              "3    Kenya lift Chepkemei's suspension   \n",
              "4    Greene sets sights on world title   \n",
              "..                                 ...   \n",
              "505    Slovakia reach Hopman Cup final   \n",
              "506     Officials respond in court row   \n",
              "507  Hewitt fights back to reach final   \n",
              "508  Philippoussis doubt over Open bid   \n",
              "509   Soderling wins tense Milan final   \n",
              "\n",
              "                                               Content  \n",
              "0    Ethiopia's Tirunesh Dibaba set a new world rec...  \n",
              "1    2004 won't be remembered as one of Irish athle...  \n",
              "2    Britain's Jason Gardener shook off an upset st...  \n",
              "3    Kenya's athletics body has reversed a ban on m...  \n",
              "4    Maurice Greene aims to wipe out the pain of lo...  \n",
              "..                                                 ...  \n",
              "505  Slovakia will play Argentina in the final of t...  \n",
              "506  Australian tennis' top official has defended t...  \n",
              "507  Lleyton Hewitt kept his dream of an Australian...  \n",
              "508  Mark Philippoussis is almost certain to miss t...  \n",
              "509  Fifth seed Robin Soderling took the Milan Indo...  \n",
              "\n",
              "[510 rows x 2 columns]"
            ],
            "text/html": [
              "\n",
              "  <div id=\"df-3d617416-b0ca-48bc-9331-49cc00f83bc7\">\n",
              "    <div class=\"colab-df-container\">\n",
              "      <div>\n",
              "<style scoped>\n",
              "    .dataframe tbody tr th:only-of-type {\n",
              "        vertical-align: middle;\n",
              "    }\n",
              "\n",
              "    .dataframe tbody tr th {\n",
              "        vertical-align: top;\n",
              "    }\n",
              "\n",
              "    .dataframe thead th {\n",
              "        text-align: right;\n",
              "    }\n",
              "</style>\n",
              "<table border=\"1\" class=\"dataframe\">\n",
              "  <thead>\n",
              "    <tr style=\"text-align: right;\">\n",
              "      <th></th>\n",
              "      <th>Headline</th>\n",
              "      <th>Content</th>\n",
              "    </tr>\n",
              "  </thead>\n",
              "  <tbody>\n",
              "    <tr>\n",
              "      <th>0</th>\n",
              "      <td>Dibaba breaks 5,000m world record</td>\n",
              "      <td>Ethiopia's Tirunesh Dibaba set a new world rec...</td>\n",
              "    </tr>\n",
              "    <tr>\n",
              "      <th>1</th>\n",
              "      <td>2004: An Irish Athletics Year</td>\n",
              "      <td>2004 won't be remembered as one of Irish athle...</td>\n",
              "    </tr>\n",
              "    <tr>\n",
              "      <th>2</th>\n",
              "      <td>Off-colour Gardener storms to win</td>\n",
              "      <td>Britain's Jason Gardener shook off an upset st...</td>\n",
              "    </tr>\n",
              "    <tr>\n",
              "      <th>3</th>\n",
              "      <td>Kenya lift Chepkemei's suspension</td>\n",
              "      <td>Kenya's athletics body has reversed a ban on m...</td>\n",
              "    </tr>\n",
              "    <tr>\n",
              "      <th>4</th>\n",
              "      <td>Greene sets sights on world title</td>\n",
              "      <td>Maurice Greene aims to wipe out the pain of lo...</td>\n",
              "    </tr>\n",
              "    <tr>\n",
              "      <th>...</th>\n",
              "      <td>...</td>\n",
              "      <td>...</td>\n",
              "    </tr>\n",
              "    <tr>\n",
              "      <th>505</th>\n",
              "      <td>Slovakia reach Hopman Cup final</td>\n",
              "      <td>Slovakia will play Argentina in the final of t...</td>\n",
              "    </tr>\n",
              "    <tr>\n",
              "      <th>506</th>\n",
              "      <td>Officials respond in court row</td>\n",
              "      <td>Australian tennis' top official has defended t...</td>\n",
              "    </tr>\n",
              "    <tr>\n",
              "      <th>507</th>\n",
              "      <td>Hewitt fights back to reach final</td>\n",
              "      <td>Lleyton Hewitt kept his dream of an Australian...</td>\n",
              "    </tr>\n",
              "    <tr>\n",
              "      <th>508</th>\n",
              "      <td>Philippoussis doubt over Open bid</td>\n",
              "      <td>Mark Philippoussis is almost certain to miss t...</td>\n",
              "    </tr>\n",
              "    <tr>\n",
              "      <th>509</th>\n",
              "      <td>Soderling wins tense Milan final</td>\n",
              "      <td>Fifth seed Robin Soderling took the Milan Indo...</td>\n",
              "    </tr>\n",
              "  </tbody>\n",
              "</table>\n",
              "<p>510 rows × 2 columns</p>\n",
              "</div>\n",
              "      <button class=\"colab-df-convert\" onclick=\"convertToInteractive('df-3d617416-b0ca-48bc-9331-49cc00f83bc7')\"\n",
              "              title=\"Convert this dataframe to an interactive table.\"\n",
              "              style=\"display:none;\">\n",
              "        \n",
              "  <svg xmlns=\"http://www.w3.org/2000/svg\" height=\"24px\"viewBox=\"0 0 24 24\"\n",
              "       width=\"24px\">\n",
              "    <path d=\"M0 0h24v24H0V0z\" fill=\"none\"/>\n",
              "    <path d=\"M18.56 5.44l.94 2.06.94-2.06 2.06-.94-2.06-.94-.94-2.06-.94 2.06-2.06.94zm-11 1L8.5 8.5l.94-2.06 2.06-.94-2.06-.94L8.5 2.5l-.94 2.06-2.06.94zm10 10l.94 2.06.94-2.06 2.06-.94-2.06-.94-.94-2.06-.94 2.06-2.06.94z\"/><path d=\"M17.41 7.96l-1.37-1.37c-.4-.4-.92-.59-1.43-.59-.52 0-1.04.2-1.43.59L10.3 9.45l-7.72 7.72c-.78.78-.78 2.05 0 2.83L4 21.41c.39.39.9.59 1.41.59.51 0 1.02-.2 1.41-.59l7.78-7.78 2.81-2.81c.8-.78.8-2.07 0-2.86zM5.41 20L4 18.59l7.72-7.72 1.47 1.35L5.41 20z\"/>\n",
              "  </svg>\n",
              "      </button>\n",
              "      \n",
              "  <style>\n",
              "    .colab-df-container {\n",
              "      display:flex;\n",
              "      flex-wrap:wrap;\n",
              "      gap: 12px;\n",
              "    }\n",
              "\n",
              "    .colab-df-convert {\n",
              "      background-color: #E8F0FE;\n",
              "      border: none;\n",
              "      border-radius: 50%;\n",
              "      cursor: pointer;\n",
              "      display: none;\n",
              "      fill: #1967D2;\n",
              "      height: 32px;\n",
              "      padding: 0 0 0 0;\n",
              "      width: 32px;\n",
              "    }\n",
              "\n",
              "    .colab-df-convert:hover {\n",
              "      background-color: #E2EBFA;\n",
              "      box-shadow: 0px 1px 2px rgba(60, 64, 67, 0.3), 0px 1px 3px 1px rgba(60, 64, 67, 0.15);\n",
              "      fill: #174EA6;\n",
              "    }\n",
              "\n",
              "    [theme=dark] .colab-df-convert {\n",
              "      background-color: #3B4455;\n",
              "      fill: #D2E3FC;\n",
              "    }\n",
              "\n",
              "    [theme=dark] .colab-df-convert:hover {\n",
              "      background-color: #434B5C;\n",
              "      box-shadow: 0px 1px 3px 1px rgba(0, 0, 0, 0.15);\n",
              "      filter: drop-shadow(0px 1px 2px rgba(0, 0, 0, 0.3));\n",
              "      fill: #FFFFFF;\n",
              "    }\n",
              "  </style>\n",
              "\n",
              "      <script>\n",
              "        const buttonEl =\n",
              "          document.querySelector('#df-3d617416-b0ca-48bc-9331-49cc00f83bc7 button.colab-df-convert');\n",
              "        buttonEl.style.display =\n",
              "          google.colab.kernel.accessAllowed ? 'block' : 'none';\n",
              "\n",
              "        async function convertToInteractive(key) {\n",
              "          const element = document.querySelector('#df-3d617416-b0ca-48bc-9331-49cc00f83bc7');\n",
              "          const dataTable =\n",
              "            await google.colab.kernel.invokeFunction('convertToInteractive',\n",
              "                                                     [key], {});\n",
              "          if (!dataTable) return;\n",
              "\n",
              "          const docLinkHtml = 'Like what you see? Visit the ' +\n",
              "            '<a target=\"_blank\" href=https://colab.research.google.com/notebooks/data_table.ipynb>data table notebook</a>'\n",
              "            + ' to learn more about interactive tables.';\n",
              "          element.innerHTML = '';\n",
              "          dataTable['output_type'] = 'display_data';\n",
              "          await google.colab.output.renderOutput(dataTable, element);\n",
              "          const docLink = document.createElement('div');\n",
              "          docLink.innerHTML = docLinkHtml;\n",
              "          element.appendChild(docLink);\n",
              "        }\n",
              "      </script>\n",
              "    </div>\n",
              "  </div>\n",
              "  "
            ]
          },
          "metadata": {},
          "execution_count": 272
        }
      ]
    },
    {
      "cell_type": "markdown",
      "source": [
        "#creating shuffled aggregate dataset"
      ],
      "metadata": {
        "id": "XLRV42mVQ6gQ"
      }
    },
    {
      "cell_type": "code",
      "source": [
        "frames = [politics,sport,tech,entertainment,business]\n",
        "df = pd.concat(frames).sample(frac=1) #shuffled aggregate dataset"
      ],
      "metadata": {
        "id": "1zq9dfKzPCDT"
      },
      "execution_count": 275,
      "outputs": []
    },
    {
      "cell_type": "markdown",
      "metadata": {
        "_cell_guid": "1cdbefb7-9e8e-4a11-9cee-d39f8f16f557",
        "_uuid": "c31f278963d7bdd4c3553ada1fdb6095d50ca658",
        "id": "k3Anas4nuYj3"
      },
      "source": [
        "### First we develop a list of the top words used across all one million headlines, giving us a glimpse into the core vocabulary of the source data. Stop words are omitted here to avoid any trivial conjunctions, prepositions, etc."
      ]
    },
    {
      "cell_type": "code",
      "metadata": {
        "_cell_guid": "db6ce2f5-1247-4446-90f2-6aa2ba8af168",
        "_kg_hide-input": true,
        "_uuid": "59f4ae5e8e06786fa3ebdec7ec3011645aad3544",
        "id": "2a9DfK59uYj4"
      },
      "source": [
        "# Define helper functions\n",
        "def get_top_n_words(n_top_words, count_vectorizer, text_data):\n",
        "    '''\n",
        "    returns a tuple of the top n words in a sample and their \n",
        "    accompanying counts, given a CountVectorizer object and text sample\n",
        "    '''\n",
        "    vectorized_headlines = count_vectorizer.fit_transform(text_data.values)\n",
        "    vectorized_total = np.sum(vectorized_headlines, axis=0)\n",
        "    word_indices = np.flip(np.argsort(vectorized_total)[0,:], 1)\n",
        "    word_values = np.flip(np.sort(vectorized_total)[0,:],1)\n",
        "    \n",
        "    word_vectors = np.zeros((n_top_words, vectorized_headlines.shape[1]))\n",
        "    for i in range(n_top_words):\n",
        "        word_vectors[i,word_indices[0,i]] = 1\n",
        "\n",
        "    words = [word[0].encode('ascii').decode('utf-8') for \n",
        "             word in count_vectorizer.inverse_transform(word_vectors)]\n",
        "\n",
        "    return (words, word_values[0,:n_top_words].tolist()[0])"
      ],
      "execution_count": 278,
      "outputs": []
    },
    {
      "cell_type": "code",
      "source": [
        ""
      ],
      "metadata": {
        "id": "_4Jio_meRFai"
      },
      "execution_count": null,
      "outputs": []
    },
    {
      "cell_type": "markdown",
      "source": [
        "###Plotting Top words in Headlines"
      ],
      "metadata": {
        "id": "i0ibDfheR6F5"
      }
    },
    {
      "cell_type": "code",
      "metadata": {
        "_cell_guid": "a2701525-298e-4943-8d3e-adad5d0d629d",
        "_uuid": "142e18023411d5c61cbe59a3c08c78c58993cdcc",
        "id": "TsPJDzyyuYj5",
        "colab": {
          "base_uri": "https://localhost:8080/",
          "height": 543
        },
        "outputId": "f15d6856-d8de-4c56-add4-13e8ca6c4ed8"
      },
      "source": [
        "count_vectorizer = CountVectorizer(stop_words='english')\n",
        "words, word_values = get_top_n_words(n_top_words=15,\n",
        "                                     count_vectorizer=count_vectorizer, \n",
        "                                     text_data= df['Headline'])\n",
        "\n",
        "fig, ax = plt.subplots(figsize=(16,8))\n",
        "ax.bar(range(len(words)), word_values)\n",
        "ax.set_xticks(range(len(words)))\n",
        "ax.set_xticklabels(words, rotation='vertical')\n",
        "ax.set_title('Top words in headlines dataset (excluding stop words)')\n",
        "ax.set_xlabel('Word')\n",
        "ax.set_ylabel('Number of occurences')\n",
        "plt.show()"
      ],
      "execution_count": 281,
      "outputs": [
        {
          "output_type": "display_data",
          "data": {
            "text/plain": [
              "<Figure size 1152x576 with 1 Axes>"
            ],
            "image/png": "[encoded data removed]"
          },
          "metadata": {
            "needs_background": "light"
          }
        }
      ]
    },
    {
      "cell_type": "markdown",
      "source": [
        "###Plotting Top words in news article content"
      ],
      "metadata": {
        "id": "E00KtFnMSFqh"
      }
    },
    {
      "cell_type": "code",
      "source": [
        "count_vectorizer = CountVectorizer(stop_words='english')\n",
        "words, word_values = get_top_n_words(n_top_words=15,\n",
        "                                     count_vectorizer=count_vectorizer, \n",
        "                                     text_data= df['Content'])\n",
        "\n",
        "fig, ax = plt.subplots(figsize=(16,8))\n",
        "ax.bar(range(len(words)), word_values)\n",
        "ax.set_xticks(range(len(words)))\n",
        "ax.set_xticklabels(words, rotation='vertical')\n",
        "ax.set_title('Top words in headlines dataset (excluding stop words)')\n",
        "ax.set_xlabel('Word')\n",
        "ax.set_ylabel('Number of occurences')\n",
        "plt.show()"
      ],
      "metadata": {
        "id": "vIAb61tnRj1X",
        "outputId": "b533030f-7ec8-40b0-fcd0-23da2f701221",
        "colab": {
          "base_uri": "https://localhost:8080/",
          "height": 564
        }
      },
      "execution_count": 282,
      "outputs": [
        {
          "output_type": "display_data",
          "data": {
            "text/plain": [
              "<Figure size 1152x576 with 1 Axes>"
            ],
            "image/png": "[encoded data removed]"
          },
          "metadata": {
            "needs_background": "light"
          }
        }
      ]
    },
    {
      "cell_type": "markdown",
      "source": [
        "###Preprocessing"
      ],
      "metadata": {
        "id": "CzJVGUXzSNkP"
      }
    },
    {
      "cell_type": "code",
      "source": [
        "small_count_vectorizer = CountVectorizer(stop_words='english', max_features=10000)\n",
        "small_text_sample = df['Headline'].values\n",
        "\n",
        "print('Headline before vectorization: {}'.format(small_text_sample[123]))\n",
        "\n",
        "small_document_term_matrix = small_count_vectorizer.fit_transform(small_text_sample)\n",
        "\n",
        "print('Headline after vectorization: \\n{}'.format(small_document_term_matrix[123]))"
      ],
      "metadata": {
        "colab": {
          "base_uri": "https://localhost:8080/"
        },
        "id": "aSBonT1eR2J5",
        "outputId": "4d894da9-c665-4ce7-fa8d-1bedbced6846"
      },
      "execution_count": 286,
      "outputs": [
        {
          "output_type": "stream",
          "name": "stdout",
          "text": [
            "Headline before vectorization: Feta cheese battle reaches court\n",
            "Headline after vectorization: \n",
            "  (0, 326)\t1\n",
            "  (0, 791)\t1\n",
            "  (0, 1264)\t1\n",
            "  (0, 624)\t1\n",
            "  (0, 2588)\t1\n"
          ]
        }
      ]
    },
    {
      "cell_type": "code",
      "source": [
        "from sklearn.model_selection import GridSearchCV\n",
        "grid_params = {'n_components' : list(range(5,10))}\n",
        "\n",
        "# LDA model\n",
        "lda = LatentDirichletAllocation()\n",
        "lda_model = GridSearchCV(lda,param_grid=grid_params)\n",
        "lda_model.fit(small_document_term_matrix)\n",
        "\n",
        "# Best LDA model\n",
        "best_lda_model = lda_model.best_estimator_\n",
        "\n",
        "print(\"Best LDA model's params\" , lda_model.best_params_)\n",
        "print(\"Best log likelihood Score for the LDA model\",lda_model.best_score_)\n",
        "print(\"LDA model Perplexity on train data\", best_lda_model.perplexity(small_document_term_matrix))"
      ],
      "metadata": {
        "colab": {
          "base_uri": "https://localhost:8080/"
        },
        "id": "8VwqnbNaSYUe",
        "outputId": "3388e25d-9b4d-497f-f84a-fc27159eaaa9"
      },
      "execution_count": 287,
      "outputs": [
        {
          "output_type": "stream",
          "name": "stdout",
          "text": [
            "Best LDA model's params {'n_components': 5}\n",
            "Best log likelihood Score for the LDA model -23956.4956074631\n",
            "LDA model Perplexity on train data 5225.09700947789\n"
          ]
        }
      ]
    },
    {
      "cell_type": "code",
      "source": [
        "!pip install pyLDAvis"
      ],
      "metadata": {
        "colab": {
          "base_uri": "https://localhost:8080/"
        },
        "id": "ia7SLiG3Sqsz",
        "outputId": "5cd72c73-d536-4143-cfd0-a40d82b7f0e0"
      },
      "execution_count": 288,
      "outputs": [
        {
          "output_type": "stream",
          "name": "stdout",
          "text": [
            "Looking in indexes: https://pypi.org/simple, https://us-python.pkg.dev/colab-wheels/public/simple/\n",
            "Collecting pyLDAvis\n",
            "  Downloading pyLDAvis-3.3.1.tar.gz (1.7 MB)\n",
            "\u001b[K     |████████████████████████████████| 1.7 MB 24.6 MB/s \n",
            "\u001b[?25h  Installing build dependencies ... \u001b[?25l\u001b[?25hdone\n",
            "  Getting requirements to build wheel ... \u001b[?25l\u001b[?25hdone\n",
            "  Installing backend dependencies ... \u001b[?25l\u001b[?25hdone\n",
            "    Preparing wheel metadata ... \u001b[?25l\u001b[?25hdone\n",
            "Requirement already satisfied: pandas>=1.2.0 in /usr/local/lib/python3.7/dist-packages (from pyLDAvis) (1.3.5)\n",
            "Requirement already satisfied: numexpr in /usr/local/lib/python3.7/dist-packages (from pyLDAvis) (2.8.1)\n",
            "Requirement already satisfied: gensim in /usr/local/lib/python3.7/dist-packages (from pyLDAvis) (3.6.0)\n",
            "Requirement already satisfied: scipy in /usr/local/lib/python3.7/dist-packages (from pyLDAvis) (1.4.1)\n",
            "Requirement already satisfied: numpy>=1.20.0 in /usr/local/lib/python3.7/dist-packages (from pyLDAvis) (1.21.6)\n",
            "Requirement already satisfied: joblib in /usr/local/lib/python3.7/dist-packages (from pyLDAvis) (1.1.0)\n",
            "Requirement already satisfied: scikit-learn in /usr/local/lib/python3.7/dist-packages (from pyLDAvis) (1.0.2)\n",
            "Collecting funcy\n",
            "  Downloading funcy-1.17-py2.py3-none-any.whl (33 kB)\n",
            "Requirement already satisfied: future in /usr/local/lib/python3.7/dist-packages (from pyLDAvis) (0.16.0)\n",
            "Requirement already satisfied: setuptools in /usr/local/lib/python3.7/dist-packages (from pyLDAvis) (57.4.0)\n",
            "Requirement already satisfied: sklearn in /usr/local/lib/python3.7/dist-packages (from pyLDAvis) (0.0)\n",
            "Requirement already satisfied: jinja2 in /usr/local/lib/python3.7/dist-packages (from pyLDAvis) (2.11.3)\n",
            "Requirement already satisfied: pytz>=2017.3 in /usr/local/lib/python3.7/dist-packages (from pandas>=1.2.0->pyLDAvis) (2022.1)\n",
            "Requirement already satisfied: python-dateutil>=2.7.3 in /usr/local/lib/python3.7/dist-packages (from pandas>=1.2.0->pyLDAvis) (2.8.2)\n",
            "Requirement already satisfied: six>=1.5 in /usr/local/lib/python3.7/dist-packages (from python-dateutil>=2.7.3->pandas>=1.2.0->pyLDAvis) (1.15.0)\n",
            "Requirement already satisfied: smart-open>=1.2.1 in /usr/local/lib/python3.7/dist-packages (from gensim->pyLDAvis) (6.0.0)\n",
            "Requirement already satisfied: MarkupSafe>=0.23 in /usr/local/lib/python3.7/dist-packages (from jinja2->pyLDAvis) (2.0.1)\n",
            "Requirement already satisfied: packaging in /usr/local/lib/python3.7/dist-packages (from numexpr->pyLDAvis) (21.3)\n",
            "Requirement already satisfied: pyparsing!=3.0.5,>=2.0.2 in /usr/local/lib/python3.7/dist-packages (from packaging->numexpr->pyLDAvis) (3.0.9)\n",
            "Requirement already satisfied: threadpoolctl>=2.0.0 in /usr/local/lib/python3.7/dist-packages (from scikit-learn->pyLDAvis) (3.1.0)\n",
            "Building wheels for collected packages: pyLDAvis\n",
            "  Building wheel for pyLDAvis (PEP 517) ... \u001b[?25l\u001b[?25hdone\n",
            "  Created wheel for pyLDAvis: filename=pyLDAvis-3.3.1-py2.py3-none-any.whl size=136898 sha256=d30aefe826ab0602d578299532ed15899e7cb58f645b8558e31ec7d2da04dcf4\n",
            "  Stored in directory: /root/.cache/pip/wheels/c9/21/f6/17bcf2667e8a68532ba2fbf6d5c72fdf4c7f7d9abfa4852d2f\n",
            "Successfully built pyLDAvis\n",
            "Installing collected packages: funcy, pyLDAvis\n",
            "Successfully installed funcy-1.17 pyLDAvis-3.3.1\n"
          ]
        }
      ]
    },
    {
      "cell_type": "code",
      "source": [
        "import pyLDAvis.sklearn\n",
        "\n",
        "pyLDAvis.enable_notebook()"
      ],
      "metadata": {
        "colab": {
          "base_uri": "https://localhost:8080/"
        },
        "id": "jhEuA9tvSrud",
        "outputId": "3b63cf6e-f991-4cbb-fcf2-fcf6bcfecf08"
      },
      "execution_count": 289,
      "outputs": [
        {
          "output_type": "stream",
          "name": "stderr",
          "text": [
            "/usr/local/lib/python3.7/dist-packages/past/types/oldstr.py:5: DeprecationWarning: Using or importing the ABCs from 'collections' instead of from 'collections.abc' is deprecated since Python 3.3,and in 3.9 it will stop working\n",
            "  from collections import Iterable\n",
            "/usr/local/lib/python3.7/dist-packages/past/builtins/misc.py:4: DeprecationWarning: Using or importing the ABCs from 'collections' instead of from 'collections.abc' is deprecated since Python 3.3,and in 3.9 it will stop working\n",
            "  from collections import Mapping\n"
          ]
        }
      ]
    },
    {
      "cell_type": "code",
      "source": [
        "lda_panel = pyLDAvis.sklearn.prepare(best_lda_model, small_document_term_matrix,small_count_vectorizer,mds='tsne')\n",
        "lda_panel"
      ],
      "metadata": {
        "colab": {
          "base_uri": "https://localhost:8080/",
          "height": 1000
        },
        "id": "xFJ_EiTHStwH",
        "outputId": "3f608f1d-1507-4ada-b673-d2fbd165152e"
      },
      "execution_count": 290,
      "outputs": [
        {
          "output_type": "stream",
          "name": "stderr",
          "text": [
            "/usr/local/lib/python3.7/dist-packages/sklearn/utils/deprecation.py:87: FutureWarning: Function get_feature_names is deprecated; get_feature_names is deprecated in 1.0 and will be removed in 1.2. Please use get_feature_names_out instead.\n",
            "  warnings.warn(msg, category=FutureWarning)\n",
            "/usr/local/lib/python3.7/dist-packages/pyLDAvis/_prepare.py:247: FutureWarning: In a future version of pandas all arguments of DataFrame.drop except for the argument 'labels' will be keyword-only\n",
            "  by='saliency', ascending=False).head(R).drop('saliency', 1)\n",
            "/usr/local/lib/python3.7/dist-packages/sklearn/manifold/_t_sne.py:783: FutureWarning: The default initialization in TSNE will change from 'random' to 'pca' in 1.2.\n",
            "  FutureWarning,\n",
            "/usr/local/lib/python3.7/dist-packages/sklearn/manifold/_t_sne.py:793: FutureWarning: The default learning rate in TSNE will change from 200.0 to 'auto' in 1.2.\n",
            "  FutureWarning,\n",
            "/usr/local/lib/python3.7/dist-packages/sklearn/manifold/_t_sne.py:827: FutureWarning: 'square_distances' has been introduced in 0.24 to help phase out legacy squaring behavior. The 'legacy' setting will be removed in 1.1 (renaming of 0.26), and the default setting will be changed to True. In 1.3, 'square_distances' will be removed altogether, and distances will be squared by default. Set 'square_distances'=True to silence this warning.\n",
            "  FutureWarning,\n"
          ]
        },
        {
          "output_type": "execute_result",
          "data": {
            "text/plain": [
              "PreparedData(topic_coordinates=                x           y  topics  cluster       Freq\n",
              "topic                                                    \n",
              "0      150.222153  -72.269554       1        1  21.469643\n",
              "3       51.163364 -159.968018       2        1  20.913072\n",
              "2      -73.144554   21.523815       3        1  19.683534\n",
              "1      -66.410133 -110.606438       4        1  19.473074\n",
              "4       54.417324   12.443444       5        1  18.460677, topic_info=        Term       Freq      Total Category  logprob  loglift\n",
              "384    blair  36.000000  36.000000  Default  30.0000  30.0000\n",
              "1997     man  17.000000  17.000000  Default  29.0000  29.0000\n",
              "2757     row  17.000000  17.000000  Default  28.0000  28.0000\n",
              "2686  return  17.000000  17.000000  Default  27.0000  27.0000\n",
              "2194     new  50.000000  50.000000  Default  26.0000  26.0000\n",
              "...      ...        ...        ...      ...      ...      ...\n",
              "2890     set   5.486407  23.867350   Topic5  -5.7705   0.2193\n",
              "1155      eu   5.166801  23.173710   Topic5  -5.8305   0.1888\n",
              "3585   world   4.645650  15.204055   Topic5  -5.9368   0.5039\n",
              "1837  labour   5.024572  22.505681   Topic5  -5.8584   0.1901\n",
              "1590     hit   4.809844  20.923343   Topic5  -5.9021   0.2193\n",
              "\n",
              "[336 rows x 6 columns], token_table=      Topic      Freq    Term\n",
              "term                         \n",
              "5         4  0.922023    100m\n",
              "23        5  0.927933      19\n",
              "109       2  0.346742  action\n",
              "109       5  0.693484  action\n",
              "151       4  0.691679  aiming\n",
              "...     ...       ...     ...\n",
              "3612      4  0.691679    york\n",
              "3617      1  0.327900   yukos\n",
              "3617      2  0.196740   yukos\n",
              "3617      3  0.196740   yukos\n",
              "3617      4  0.327900   yukos\n",
              "\n",
              "[535 rows x 3 columns], R=30, lambda_step=0.01, plot_opts={'xlab': 'PC1', 'ylab': 'PC2'}, topic_order=[1, 4, 3, 2, 5])"
            ],
            "text/html": [
              "\n",
              "<link rel=\"stylesheet\" type=\"text/css\" href=\"https://cdn.jsdelivr.net/gh/bmabey/pyLDAvis@3.3.1/pyLDAvis/js/ldavis.v1.0.0.css\">\n",
              "\n",
              "\n",
              "<div id=\"ldavis_el591399100180708647151473791\"></div>\n",
              "<script type=\"text/javascript\">\n",
              "\n",
              "var ldavis_el591399100180708647151473791_data = {\"mdsDat\": {\"x\": [150.22215270996094, 51.16336441040039, -73.1445541381836, -66.4101333618164, 54.41732406616211], \"y\": [-72.2695541381836, -159.968017578125, 21.523815155029297, -110.60643768310547, 12.44344425201416], \"topics\": [1, 2, 3, 4, 5], \"cluster\": [1, 1, 1, 1, 1], \"Freq\": [21.469643427283067, 20.91307220363425, 19.683533779957152, 19.47307350387627, 18.460677085249255]}, \"tinfo\": {\"Term\": [\"blair\", \"man\", \"row\", \"return\", \"new\", \"office\", \"economy\", \"box\", \"england\", \"wins\", \"utd\", \"tory\", \"growth\", \"music\", \"cup\", \"gets\", \"peer\", \"film\", \"uk\", \"net\", \"bank\", \"howard\", \"hit\", \"lib\", \"honour\", \"year\", \"takes\", \"plans\", \"dems\", \"brown\", \"lib\", \"dems\", \"cost\", \"players\", \"banks\", \"book\", \"quit\", \"mac\", \"heads\", \"little\", \"comic\", \"lifestyle\", \"mp3\", \"britain\", \"lessons\", \"tsunami\", \"games\", \"cuts\", \"ibm\", \"family\", \"slide\", \"ally\", \"downloads\", \"defence\", \"past\", \"winning\", \"issued\", \"piracy\", \"honours\", \"expands\", \"wins\", \"growth\", \"target\", \"slow\", \"makes\", \"dollar\", \"digital\", \"prize\", \"mini\", \"threat\", \"phones\", \"battle\", \"tv\", \"labour\", \"firm\", \"make\", \"oil\", \"mps\", \"tories\", \"apple\", \"uk\", \"jobs\", \"claim\", \"plan\", \"warning\", \"bbc\", \"cup\", \"win\", \"election\", \"gets\", \"new\", \"return\", \"office\", \"box\", \"blair\", \"id\", \"lse\", \"women\", \"trip\", \"drive\", \"crown\", \"looks\", \"tory\", \"mails\", \"consumer\", \"disaster\", \"biggest\", \"sue\", \"defends\", \"pre\", \"leaders\", \"touted\", \"text\", \"confidence\", \"crisis\", \"dour\", \"niro\", \"bowl\", \"mixed\", \"issue\", \"contest\", \"cards\", \"economy\", \"web\", \"federer\", \"super\", \"helps\", \"lifts\", \"spending\", \"terror\", \"open\", \"offers\", \"music\", \"japan\", \"plan\", \"german\", \"joins\", \"howard\", \"election\", \"film\", \"bush\", \"bid\", \"unveils\", \"awards\", \"net\", \"says\", \"uk\", \"hits\", \"record\", \"backs\", \"boost\", \"deal\", \"row\", \"peer\", \"honour\", \"psp\", \"pirates\", \"march\", \"bollywood\", \"sundance\", \"channel\", \"triumph\", \"wimbledon\", \"cent\", \"console\", \"drake\", \"balco\", \"airways\", \"tribute\", \"nazi\", \"nets\", \"johnny\", \"favourite\", \"officials\", \"vision\", \"csi\", \"night\", \"profile\", \"fuels\", \"yahoo\", \"delight\", \"online\", \"radio\", \"hollywood\", \"star\", \"sony\", \"year\", \"takes\", \"france\", \"tour\", \"drugs\", \"brown\", \"singer\", \"spain\", \"film\", \"india\", \"anti\", \"hits\", \"faces\", \"uk\", \"howard\", \"award\", \"oscar\", \"win\", \"broadband\", \"sales\", \"wales\", \"new\", \"tv\", \"mobile\", \"chart\", \"set\", \"bid\", \"hit\", \"pair\", \"unveiled\", \"leave\", \"technology\", \"progress\", \"sprinters\", \"gain\", \"pocket\", \"greek\", \"oscars\", \"enters\", \"york\", \"planning\", \"combat\", \"disney\", \"aiming\", \"seeking\", \"debuts\", \"tindall\", \"fbi\", \"cyber\", \"sights\", \"title\", \"aviator\", \"williams\", \"drug\", \"hotspot\", \"100m\", \"nasdaq\", \"rockers\", \"strike\", \"security\", \"ukip\", \"starts\", \"euro\", \"new\", \"gets\", \"sale\", \"hopes\", \"hit\", \"net\", \"rule\", \"rock\", \"music\", \"poll\", \"microsoft\", \"best\", \"double\", \"eu\", \"ban\", \"shares\", \"china\", \"backs\", \"deal\", \"talks\", \"set\", \"warning\", \"uk\", \"tv\", \"record\", \"yukos\", \"calls\", \"help\", \"man\", \"utd\", \"tough\", \"musical\", \"patent\", \"blow\", \"19\", \"premiere\", \"seeks\", \"extra\", \"details\", \"spirit\", \"hail\", \"questioned\", \"review\", \"cold\", \"israel\", \"desktop\", \"denied\", \"scottish\", \"england\", \"mourinho\", \"video\", \"time\", \"fa\", \"savvy\", \"searchers\", \"boro\", \"rues\", \"franz\", \"talk\", \"match\", \"owen\", \"straw\", \"reach\", \"bank\", \"eyes\", \"law\", \"cup\", \"plans\", \"mp\", \"cut\", \"face\", \"action\", \"tech\", \"misses\", \"hails\", \"china\", \"final\", \"budget\", \"awards\", \"calls\", \"new\", \"injury\", \"set\", \"eu\", \"world\", \"labour\", \"hit\"], \"Freq\": [36.0, 17.0, 17.0, 17.0, 50.0, 14.0, 19.0, 13.0, 15.0, 18.0, 10.0, 14.0, 16.0, 18.0, 15.0, 15.0, 9.0, 34.0, 45.0, 23.0, 13.0, 15.0, 20.0, 9.0, 8.0, 13.0, 15.0, 13.0, 8.0, 18.0, 8.91696695394416, 8.18606532670226, 6.722822302187665, 5.992903518558065, 3.8010806699382846, 3.801001259233623, 3.8007026105613977, 3.8006467960168706, 3.800239575778914, 3.8000033316227637, 3.070237249641484, 3.070236542512386, 3.07023456630201, 3.0684523556190615, 3.066224600614308, 8.835143483154749, 8.793881273966527, 8.197126309225986, 2.339224870940621, 2.3392248040666765, 2.3392236482596727, 2.3392227533315575, 2.339222099987108, 2.3392216999277697, 2.3392213055453595, 2.3392205878923846, 2.339220570818965, 2.339219723595546, 2.339219637461069, 2.339214417880123, 14.358797511971671, 12.585527456535337, 4.5371941286155995, 4.538686361801857, 7.457618801310959, 6.7307589382407365, 5.269055269536746, 5.696919957476701, 3.805654006933457, 3.807569637034391, 3.7339292943234517, 7.398661928072821, 14.43218187297907, 11.117138172933307, 8.923861482850901, 6.7331701171311575, 7.082127692059091, 7.480112156184611, 6.735419170054967, 6.73807087062809, 13.514783619653125, 5.833075053184194, 5.9050287927510325, 7.368480147626745, 6.697563635069723, 6.0138452554179676, 6.721944279615736, 7.28042178102981, 7.030176812740994, 6.336249878633144, 6.819745052703404, 16.891209293040923, 13.979496974434669, 12.523481157483236, 33.796105190072616, 7.425574364534737, 6.697207636266912, 5.239277664961913, 4.51450712405967, 4.514504466251751, 3.7863576992895394, 3.782825791173845, 12.503331410807045, 3.0582068499161417, 3.0578908535168274, 3.057865545029227, 3.05715380164506, 3.0569171984216466, 3.053723041122832, 2.9862978915636775, 2.3300587600453024, 2.330058009279881, 2.330056309292572, 2.3300458940440776, 2.3296296770620235, 2.3294866276869906, 2.3294320211328903, 2.3284234629007616, 2.3279120621802325, 2.3246988423318404, 2.3244566406331235, 5.223921806851182, 15.451432730117354, 6.704795030914529, 4.488629506365301, 4.4390741141843995, 3.791205380043105, 3.7911016469705774, 5.0863335170637844, 5.974017908686237, 5.184793301135328, 5.898181362335572, 9.611647505858066, 6.7109972225889685, 8.065226576746115, 4.956042212305036, 5.1716856237296325, 7.0728100664769125, 7.83947298361458, 9.392636995454989, 5.00172012845169, 6.392715443225284, 5.129148860925135, 5.978213248799039, 6.294781529698451, 5.585402521525386, 7.1320876565582205, 6.050396074777746, 5.406637115892491, 5.250805937010291, 5.160166551478283, 5.196381179515101, 16.776475301401323, 8.823270423150232, 8.096678268790479, 5.2064069695366095, 4.4834197147456925, 3.7607281920611655, 3.0371453550292453, 3.0371382070711914, 3.036754789677738, 3.036556286066166, 3.0354204133592337, 2.314289718094003, 2.314288041940748, 2.314287953632146, 2.3142873326139775, 2.314287277015491, 2.3142872416052547, 2.3142863546520647, 2.3142857399087395, 2.314284376425862, 2.314284267582443, 2.3142821660949306, 2.3137814686845215, 2.3132491072952317, 2.313033476709347, 2.3126124044007588, 2.31256500850175, 2.310079333912598, 2.308123952194906, 5.183235597015996, 4.493744631154109, 4.491094330955885, 8.104732529358307, 5.74355573765087, 8.827858583047341, 10.297296067676077, 6.555141659313049, 3.675009437209896, 4.502101855096913, 10.154972282604433, 5.59943269069085, 4.4115556551420045, 15.879493678696043, 8.63536709342475, 6.652784121263863, 11.46218305376354, 5.546134477523274, 17.216379820755417, 7.726314985579043, 4.485646202285888, 5.613055262315368, 8.00508051931592, 5.07910820743514, 5.2247597840555695, 5.76045310658348, 8.80785695985652, 6.991632061769513, 5.8140726084436825, 5.0143430975589975, 5.457359024035896, 5.219064157254764, 5.113650671205521, 4.478685110000265, 4.478678433507179, 4.478477896057816, 3.7563089167349597, 3.756100697396696, 3.0339391985452693, 3.0332868002166977, 3.031558612332299, 5.937082451512697, 5.857173295281199, 2.3115722771472256, 2.3115714135240615, 2.3115713672960956, 2.3115700268411365, 2.3115696717691883, 2.3115689843003877, 2.3115686569414207, 2.311568655587537, 2.3115679710151604, 2.3115671068940853, 2.311566904606137, 2.3111886226465845, 4.460776945152749, 4.443726922629527, 3.7610560462822926, 3.761085535129217, 1.5892023847973578, 1.5891995798353553, 1.5891995798353553, 1.589199405753014, 5.20677333914758, 5.944944349579833, 4.482219868291007, 3.039110283547267, 7.371432058623053, 25.67807004454404, 9.194524954934057, 5.937863639628511, 5.161399053695218, 10.705739375852641, 11.392091806407173, 3.7667756595990194, 3.754127880444511, 8.089865296502383, 6.659120633383797, 5.9266091988191745, 3.6832743053771493, 5.0712719897087855, 8.722516400239257, 5.940729369185342, 7.0511202861797075, 6.6656583624326275, 5.937826367482819, 6.564285065778204, 5.205897465675995, 6.2617188646337345, 5.216894322907428, 7.013971786674959, 5.939987710781145, 5.060462818003269, 5.031760388873572, 4.488786109263552, 4.487345477236881, 17.353736742882088, 10.184547712670492, 5.1632242332980365, 5.16283226674179, 4.446934810861942, 4.4450134530985, 3.728935106504763, 3.0115871234178835, 6.6137891540360245, 2.2951829811851576, 2.295182637025886, 2.295181572054197, 2.295181253239072, 2.2951723369370276, 2.2947477986536344, 2.294559669910564, 2.2944651214460516, 2.2939634804603326, 2.2933379818117583, 2.293083169810929, 12.350854143675004, 4.346150380198759, 5.8870114232255615, 5.886981432499172, 3.7375413230207783, 1.5779335606437603, 1.5779335606437603, 1.5779335462784034, 1.5779333461603255, 1.5779327904335287, 3.5934191465877845, 3.01834313871521, 3.0181421381232267, 3.0166425855819443, 3.017094198432168, 8.631821081183002, 5.17132278340118, 5.098221554860075, 8.752838139630567, 7.312182472963241, 4.4647166620018615, 5.892210321839919, 7.4480363695055, 3.661384074384774, 3.0164175387871572, 2.9741849105293516, 3.7408166297076675, 6.613679495943052, 3.740399860205995, 5.764222506757066, 5.801734274073575, 5.136521057109668, 9.140422768062233, 4.461004118149133, 5.486407274671299, 5.1668012015838425, 4.645650205381639, 5.024571594248597, 4.80984448780031], \"Total\": [36.0, 17.0, 17.0, 17.0, 50.0, 14.0, 19.0, 13.0, 15.0, 18.0, 10.0, 14.0, 16.0, 18.0, 15.0, 15.0, 9.0, 34.0, 45.0, 23.0, 13.0, 15.0, 20.0, 9.0, 8.0, 13.0, 15.0, 13.0, 8.0, 18.0, 9.496553899973787, 8.765541087257912, 7.30350348024881, 6.572486767385938, 4.379468816831306, 4.37946611575265, 4.379465674219592, 4.379463687566158, 4.379466822770884, 4.379460006312727, 3.6484568383908247, 3.6484568323426316, 3.648456807285889, 3.648437030249491, 3.6483814051624286, 10.929524745601071, 10.928741360327196, 10.22188483472872, 2.9174428598440265, 2.9174428599842512, 2.9174428467361455, 2.9174428374399373, 2.9174428309689686, 2.917442827635579, 2.917442818564736, 2.9174428118137534, 2.917442811183111, 2.9174428025723027, 2.91744280230959, 2.9174427414394084, 18.229342068197923, 16.041273690001944, 5.82783862491563, 5.833776116916733, 10.20420308813256, 9.470706406784432, 7.288001199466954, 8.027638379442113, 5.102737455712101, 5.107637818763916, 5.095453625752487, 12.3668349528832, 30.498258841089374, 22.505681385512304, 17.447813099300078, 11.660947852668116, 13.115376674993206, 14.518219899984246, 12.334644004535505, 12.348376110651106, 45.02257760005077, 10.178243386490387, 10.897291776933468, 17.489079365038187, 14.522706646531443, 11.62544679606506, 15.91047295466798, 21.776362806414905, 21.810492166804185, 15.967388156827052, 50.59287105874921, 17.47182402538329, 14.559234902252042, 13.10293848682484, 36.410550491003235, 8.005899075374925, 7.277732503126535, 5.82145612805992, 5.093297662017838, 5.093297642605118, 4.365148212218439, 4.365095534779262, 14.537130421459272, 3.636998756360577, 3.6369998813181925, 3.636993682030915, 3.636992949935786, 3.6369900259111914, 3.636931781627708, 3.6365119832700525, 2.9088493150289962, 2.908849312371202, 2.90884929947973, 2.908849230069767, 2.9088429523768173, 2.9088515086249487, 2.9088517445547915, 2.9088363426490718, 2.9088173068875127, 2.9087691739403936, 2.908804899174588, 6.538417021812518, 19.631742110807302, 8.724226345677447, 5.810160713327445, 5.8150706395566525, 5.0824710794615156, 5.087559263433898, 7.284087305982306, 9.439114554299225, 7.989779820093586, 9.441144915758624, 18.136433586592545, 12.339546618286501, 17.489079365038187, 8.01558412346981, 8.7151008957938, 15.235711266710517, 21.810492166804185, 34.07516525676799, 9.428478792716959, 19.5810885133297, 10.881740631592553, 17.380450748254077, 23.22705335671476, 15.229912118864231, 45.02257760005077, 23.92285185772639, 13.760340844821817, 15.231988977020807, 12.308526191424662, 22.454906008784853, 17.35848004323147, 9.403045991826218, 8.679821100798035, 5.78694308907831, 5.063727138551637, 4.3405031570549895, 3.6172823438226103, 3.6172866433517457, 3.617281884521864, 3.617292921571025, 3.617277165973007, 2.8940623435377293, 2.8940623467053457, 2.8940623510755503, 2.8940623494830313, 2.8940623470018947, 2.894062350751349, 2.8940623495667497, 2.894062350413405, 2.894062350088634, 2.8940623513609354, 2.8940623569058475, 2.894067693177596, 2.894061145300085, 2.8940609059010964, 2.89404878068378, 2.894066627395771, 2.8940278870115135, 2.894055213913172, 6.504007792909184, 5.786103107163459, 5.7946461379161684, 11.59238743097251, 7.95469088730125, 13.058054702492774, 15.88741356352784, 10.146652089175756, 5.06922382153045, 6.514167198786383, 18.146020058250464, 8.659189459202638, 6.4976458985464065, 34.07516525676799, 15.947232429166643, 11.608100911854516, 23.92285185772639, 9.387280341237513, 45.02257760005077, 15.235711266710517, 7.230843727036659, 10.84476570550583, 21.776362806414905, 10.11345756592096, 10.8558118529441, 13.748938970585044, 50.59287105874921, 30.498258841089374, 17.42242459243269, 10.160043481781731, 23.86735048956011, 19.5810885133297, 20.923343492544674, 5.058630262617909, 5.058630284244021, 5.05863272820089, 4.336258763154408, 4.336259005069788, 3.613887240044614, 3.6138886662662624, 3.6139061783718947, 7.2342231594308855, 7.226665660722283, 2.8915157055976, 2.8915157096751622, 2.891515712130107, 2.8915157158428566, 2.8915157148575954, 2.8915157113930263, 2.891515719519171, 2.891515718583286, 2.8915157178727076, 2.8915157241704126, 2.8915157241936287, 2.89151303301848, 5.775763842194829, 5.790040682547769, 5.0535758206128865, 5.067215464329547, 2.169144184375367, 2.1691441938590086, 2.1691441938590086, 2.1691441930016975, 7.227441360340594, 8.661153070521102, 6.51488735242308, 4.337103373256258, 11.588817751553377, 50.59287105874921, 15.967388156827052, 9.411019430737086, 7.96052533593332, 20.923343492544674, 23.22705335671476, 5.79531733444641, 5.792563158566675, 18.136433586592545, 13.724544375138976, 11.620404843133837, 5.787650995589362, 9.412063197410976, 23.17370950701101, 13.011717792966373, 18.11987445273458, 18.059989334514494, 15.231988977020807, 22.454906008784853, 12.333505094801493, 23.86735048956011, 14.522706646531443, 45.02257760005077, 30.498258841089374, 13.760340844821817, 15.248570891790077, 13.729020009472286, 8.677586787709611, 17.938467443907385, 10.765909893874163, 5.745164613425777, 5.745173580185538, 5.0279021935827, 5.0279334174301, 4.31065743195652, 3.593408290545112, 7.902748591255221, 2.8761517650588164, 2.8761517687530214, 2.8761517823053793, 2.8761517866999378, 2.8761518950523985, 2.8761600668237794, 2.876156972955988, 2.8761600697625043, 2.8761611219534595, 2.876165542477691, 2.8761769325733075, 15.81043152942186, 5.753162061474266, 7.907112035692549, 7.924316391605648, 5.032977912360819, 2.1589016068246694, 2.1589016068246694, 2.1589016073586533, 2.158901609850254, 2.158901615508941, 5.0408721109698895, 4.315731715317725, 4.315734563222238, 4.315743498829603, 4.324326306137493, 13.66745045107509, 7.929489495057274, 7.930603012706177, 15.91047295466798, 13.014038014787925, 7.202240406824362, 10.799956117455096, 16.62297702620028, 5.767981155122514, 4.3243244435226, 4.316940084199102, 6.4862344548929425, 18.059989334514494, 6.486235728023713, 15.2051662601382, 17.380450748254077, 13.729020009472286, 50.59287105874921, 10.141951377853754, 23.86735048956011, 23.17370950701101, 15.204055292685062, 22.505681385512304, 20.923343492544674], \"Category\": [\"Default\", \"Default\", \"Default\", \"Default\", \"Default\", \"Default\", \"Default\", \"Default\", \"Default\", \"Default\", \"Default\", \"Default\", \"Default\", \"Default\", \"Default\", \"Default\", \"Default\", \"Default\", \"Default\", \"Default\", \"Default\", \"Default\", \"Default\", \"Default\", \"Default\", \"Default\", \"Default\", \"Default\", \"Default\", \"Default\", \"Topic1\", \"Topic1\", \"Topic1\", \"Topic1\", \"Topic1\", \"Topic1\", \"Topic1\", \"Topic1\", \"Topic1\", \"Topic1\", \"Topic1\", \"Topic1\", \"Topic1\", \"Topic1\", \"Topic1\", \"Topic1\", \"Topic1\", \"Topic1\", \"Topic1\", \"Topic1\", \"Topic1\", \"Topic1\", \"Topic1\", \"Topic1\", \"Topic1\", \"Topic1\", \"Topic1\", \"Topic1\", \"Topic1\", \"Topic1\", \"Topic1\", \"Topic1\", \"Topic1\", \"Topic1\", \"Topic1\", \"Topic1\", \"Topic1\", \"Topic1\", \"Topic1\", \"Topic1\", \"Topic1\", \"Topic1\", \"Topic1\", \"Topic1\", \"Topic1\", \"Topic1\", \"Topic1\", \"Topic1\", \"Topic1\", \"Topic1\", \"Topic1\", \"Topic1\", \"Topic1\", \"Topic1\", \"Topic1\", \"Topic1\", \"Topic1\", \"Topic1\", \"Topic1\", \"Topic1\", \"Topic1\", \"Topic2\", \"Topic2\", \"Topic2\", \"Topic2\", \"Topic2\", \"Topic2\", \"Topic2\", \"Topic2\", \"Topic2\", \"Topic2\", \"Topic2\", \"Topic2\", \"Topic2\", \"Topic2\", \"Topic2\", \"Topic2\", \"Topic2\", \"Topic2\", \"Topic2\", \"Topic2\", \"Topic2\", \"Topic2\", \"Topic2\", \"Topic2\", \"Topic2\", \"Topic2\", \"Topic2\", \"Topic2\", \"Topic2\", \"Topic2\", \"Topic2\", \"Topic2\", \"Topic2\", \"Topic2\", \"Topic2\", \"Topic2\", \"Topic2\", \"Topic2\", \"Topic2\", \"Topic2\", \"Topic2\", \"Topic2\", \"Topic2\", \"Topic2\", \"Topic2\", \"Topic2\", \"Topic2\", \"Topic2\", \"Topic2\", \"Topic2\", \"Topic2\", \"Topic2\", \"Topic2\", \"Topic2\", \"Topic2\", \"Topic2\", \"Topic2\", \"Topic2\", \"Topic2\", \"Topic2\", \"Topic2\", \"Topic3\", \"Topic3\", \"Topic3\", \"Topic3\", \"Topic3\", \"Topic3\", \"Topic3\", \"Topic3\", \"Topic3\", \"Topic3\", \"Topic3\", \"Topic3\", \"Topic3\", \"Topic3\", \"Topic3\", \"Topic3\", \"Topic3\", \"Topic3\", \"Topic3\", \"Topic3\", \"Topic3\", \"Topic3\", \"Topic3\", \"Topic3\", \"Topic3\", \"Topic3\", \"Topic3\", \"Topic3\", \"Topic3\", \"Topic3\", \"Topic3\", \"Topic3\", \"Topic3\", \"Topic3\", \"Topic3\", \"Topic3\", \"Topic3\", \"Topic3\", \"Topic3\", \"Topic3\", \"Topic3\", \"Topic3\", \"Topic3\", \"Topic3\", \"Topic3\", \"Topic3\", \"Topic3\", \"Topic3\", \"Topic3\", \"Topic3\", \"Topic3\", \"Topic3\", \"Topic3\", \"Topic3\", \"Topic3\", \"Topic3\", \"Topic3\", \"Topic3\", \"Topic3\", \"Topic3\", \"Topic3\", \"Topic3\", \"Topic4\", \"Topic4\", \"Topic4\", \"Topic4\", \"Topic4\", \"Topic4\", \"Topic4\", \"Topic4\", \"Topic4\", \"Topic4\", \"Topic4\", \"Topic4\", \"Topic4\", \"Topic4\", \"Topic4\", \"Topic4\", \"Topic4\", \"Topic4\", \"Topic4\", \"Topic4\", \"Topic4\", \"Topic4\", \"Topic4\", \"Topic4\", \"Topic4\", \"Topic4\", \"Topic4\", \"Topic4\", \"Topic4\", \"Topic4\", \"Topic4\", \"Topic4\", \"Topic4\", \"Topic4\", \"Topic4\", \"Topic4\", \"Topic4\", \"Topic4\", \"Topic4\", \"Topic4\", \"Topic4\", \"Topic4\", \"Topic4\", \"Topic4\", \"Topic4\", \"Topic4\", \"Topic4\", \"Topic4\", \"Topic4\", \"Topic4\", \"Topic4\", \"Topic4\", \"Topic4\", \"Topic4\", \"Topic4\", \"Topic4\", \"Topic4\", \"Topic4\", \"Topic4\", \"Topic4\", \"Topic4\", \"Topic4\", \"Topic4\", \"Topic5\", \"Topic5\", \"Topic5\", \"Topic5\", \"Topic5\", \"Topic5\", \"Topic5\", \"Topic5\", \"Topic5\", \"Topic5\", \"Topic5\", \"Topic5\", \"Topic5\", \"Topic5\", \"Topic5\", \"Topic5\", \"Topic5\", \"Topic5\", \"Topic5\", \"Topic5\", \"Topic5\", \"Topic5\", \"Topic5\", \"Topic5\", \"Topic5\", \"Topic5\", \"Topic5\", \"Topic5\", \"Topic5\", \"Topic5\", \"Topic5\", \"Topic5\", \"Topic5\", \"Topic5\", \"Topic5\", \"Topic5\", \"Topic5\", \"Topic5\", \"Topic5\", \"Topic5\", \"Topic5\", \"Topic5\", \"Topic5\", \"Topic5\", \"Topic5\", \"Topic5\", \"Topic5\", \"Topic5\", \"Topic5\", \"Topic5\", \"Topic5\", \"Topic5\", \"Topic5\", \"Topic5\", \"Topic5\", \"Topic5\", \"Topic5\", \"Topic5\", \"Topic5\"], \"logprob\": [30.0, 29.0, 28.0, 27.0, 26.0, 25.0, 24.0, 23.0, 22.0, 21.0, 20.0, 19.0, 18.0, 17.0, 16.0, 15.0, 14.0, 13.0, 12.0, 11.0, 10.0, 9.0, 8.0, 7.0, 6.0, 5.0, 4.0, 3.0, 2.0, 1.0, -5.4358, -5.5213, -5.7183, -5.8332, -6.2885, -6.2885, -6.2886, -6.2886, -6.2887, -6.2888, -6.502, -6.502, -6.502, -6.5026, -6.5033, -5.445, -5.4497, -5.52, -6.774, -6.774, -6.774, -6.774, -6.774, -6.774, -6.774, -6.774, -6.774, -6.774, -6.774, -6.774, -4.9594, -5.0912, -6.1115, -6.1111, -5.6145, -5.7171, -5.9619, -5.8838, -6.2873, -6.2868, -6.3063, -5.6225, -4.9543, -5.2153, -5.435, -5.7167, -5.6662, -5.6115, -5.7164, -5.716, -5.02, -5.8602, -5.848, -5.6266, -5.722, -5.8297, -5.7184, -5.6386, -5.6736, -5.7775, -5.704, -4.7707, -4.9599, -5.0699, -4.0772, -5.5926, -5.6958, -5.9413, -6.0902, -6.0902, -6.2661, -6.267, -5.0715, -6.4797, -6.4798, -6.4798, -6.48, -6.4801, -6.4811, -6.5035, -6.7516, -6.7516, -6.7516, -6.7516, -6.7518, -6.7519, -6.7519, -6.7523, -6.7525, -6.7539, -6.754, -5.9443, -4.8598, -5.6947, -6.096, -6.1071, -6.2648, -6.2649, -5.971, -5.8101, -5.9518, -5.8229, -5.3345, -5.6938, -5.5099, -5.9969, -5.9543, -5.6413, -5.5383, -5.3576, -5.9877, -5.7424, -5.9626, -5.8094, -5.7578, -5.8774, -5.6329, -5.7974, -5.9099, -5.9391, -5.9565, -5.9495, -4.7169, -5.3595, -5.4455, -5.887, -6.0365, -6.2123, -6.426, -6.426, -6.4261, -6.4262, -6.4266, -6.6978, -6.6978, -6.6978, -6.6978, -6.6978, -6.6978, -6.6978, -6.6978, -6.6978, -6.6978, -6.6978, -6.698, -6.6983, -6.6984, -6.6985, -6.6986, -6.6996, -6.7005, -5.8915, -6.0342, -6.0348, -5.4445, -5.7888, -5.359, -5.205, -5.6567, -6.2354, -6.0324, -5.219, -5.8143, -6.0527, -4.7719, -5.3811, -5.6419, -5.0979, -5.8238, -4.6911, -5.4923, -6.036, -5.8118, -5.4568, -5.9118, -5.8835, -5.7859, -5.3613, -5.5922, -5.7766, -5.9246, -5.84, -5.8846, -5.905, -6.0268, -6.0268, -6.0269, -6.2027, -6.2028, -6.4163, -6.4165, -6.4171, -5.7449, -5.7585, -6.6882, -6.6882, -6.6882, -6.6882, -6.6882, -6.6882, -6.6882, -6.6882, -6.6882, -6.6882, -6.6882, -6.6884, -6.0308, -6.0347, -6.2015, -6.2015, -7.0629, -7.0629, -7.0629, -7.0629, -5.8762, -5.7436, -6.026, -6.4146, -5.5286, -4.2805, -5.3076, -5.7448, -5.885, -5.1554, -5.0932, -6.1999, -6.2033, -5.4356, -5.6302, -5.7467, -6.2224, -5.9026, -5.3603, -5.7443, -5.573, -5.6292, -5.7448, -5.6445, -5.8764, -5.6917, -5.8743, -5.5783, -5.7445, -5.9047, -5.9104, -6.0246, -6.0249, -4.619, -5.1519, -5.8312, -5.8313, -5.9806, -5.981, -6.1567, -6.3703, -5.5836, -6.642, -6.642, -6.642, -6.642, -6.642, -6.6422, -6.6422, -6.6423, -6.6425, -6.6428, -6.6429, -4.9591, -6.0035, -5.7, -5.7, -6.1543, -7.0167, -7.0167, -7.0167, -7.0167, -7.0167, -6.1937, -6.3681, -6.3681, -6.3686, -6.3685, -5.3173, -5.8296, -5.8439, -5.3034, -5.4832, -5.9766, -5.6991, -5.4648, -6.1749, -6.3687, -6.3828, -6.1535, -5.5836, -6.1536, -5.7211, -5.7146, -5.8364, -5.2601, -5.9774, -5.7705, -5.8305, -5.9368, -5.8584, -5.9021], \"loglift\": [30.0, 29.0, 28.0, 27.0, 26.0, 25.0, 24.0, 23.0, 22.0, 21.0, 20.0, 19.0, 18.0, 17.0, 16.0, 15.0, 14.0, 13.0, 12.0, 11.0, 10.0, 9.0, 8.0, 7.0, 6.0, 5.0, 4.0, 3.0, 2.0, 1.0, 1.4756, 1.4701, 1.4557, 1.4462, 1.3969, 1.3969, 1.3968, 1.3968, 1.3967, 1.3966, 1.366, 1.366, 1.366, 1.3654, 1.3647, 1.3258, 1.3212, 1.3178, 1.3176, 1.3176, 1.3176, 1.3176, 1.3176, 1.3176, 1.3176, 1.3176, 1.3176, 1.3176, 1.3176, 1.3176, 1.2999, 1.2959, 1.2882, 1.2875, 1.225, 1.197, 1.2142, 1.1956, 1.2452, 1.2448, 1.2276, 1.0248, 0.7903, 0.8333, 0.868, 0.9893, 0.9223, 0.8754, 0.9335, 0.9328, 0.3352, 0.9818, 0.9258, 0.6742, 0.7646, 0.8794, 0.6769, 0.4429, 0.4064, 0.6143, -0.4655, 1.531, 1.5242, 1.5196, 1.4903, 1.4895, 1.4817, 1.4594, 1.4442, 1.4442, 1.4225, 1.4216, 1.4141, 1.3915, 1.3914, 1.3914, 1.3911, 1.391, 1.39, 1.3678, 1.3429, 1.3429, 1.3429, 1.3429, 1.3427, 1.3427, 1.3427, 1.3422, 1.342, 1.3407, 1.3405, 1.3403, 1.3253, 1.3015, 1.3067, 1.2948, 1.2717, 1.2707, 1.2057, 1.1074, 1.1324, 1.0944, 0.9298, 0.9557, 0.7908, 1.084, 1.0429, 0.7974, 0.5416, 0.2762, 0.9308, 0.4454, 0.8126, 0.4976, 0.2592, 0.5617, -0.2778, 0.1901, 0.6306, 0.4998, 0.6955, 0.1012, 1.5913, 1.5617, 1.5558, 1.5197, 1.5037, 1.482, 1.4506, 1.4506, 1.4505, 1.4504, 1.45, 1.4018, 1.4018, 1.4018, 1.4018, 1.4018, 1.4018, 1.4018, 1.4018, 1.4018, 1.4018, 1.4018, 1.4016, 1.4014, 1.4013, 1.4011, 1.4011, 1.4, 1.3992, 1.3984, 1.3726, 1.3705, 1.2675, 1.2997, 1.2339, 1.1917, 1.1885, 1.3038, 1.256, 1.0449, 1.1894, 1.2382, 0.8618, 1.012, 1.0687, 0.8896, 1.0991, 0.6641, 0.9464, 1.1479, 0.9668, 0.6246, 0.9367, 0.8941, 0.7554, -0.1228, 0.1524, 0.5279, 0.9192, 0.1498, 0.3031, 0.2164, 1.5144, 1.5144, 1.5143, 1.4926, 1.4925, 1.4612, 1.461, 1.4604, 1.4385, 1.426, 1.4123, 1.4123, 1.4123, 1.4123, 1.4123, 1.4123, 1.4123, 1.4123, 1.4123, 1.4123, 1.4123, 1.4121, 1.3778, 1.3715, 1.3407, 1.3381, 1.325, 1.325, 1.325, 1.325, 1.3082, 1.2598, 1.2622, 1.2805, 1.1837, 0.958, 1.0842, 1.1756, 1.2029, 0.9661, 0.9237, 1.2053, 1.2024, 0.8288, 0.9129, 0.9628, 1.1842, 1.0177, 0.659, 0.8521, 0.6923, 0.6394, 0.6941, 0.4063, 0.7736, 0.2981, 0.6123, -0.2231, 0.0002, 0.6358, 0.5274, 0.5182, 0.9767, 1.6564, 1.634, 1.5827, 1.5827, 1.5667, 1.5663, 1.5446, 1.5129, 1.5115, 1.4639, 1.4639, 1.4639, 1.4639, 1.4639, 1.4637, 1.4636, 1.4636, 1.4634, 1.4631, 1.463, 1.4426, 1.4091, 1.3945, 1.3923, 1.3919, 1.376, 1.376, 1.376, 1.376, 1.376, 1.3511, 1.332, 1.3319, 1.3314, 1.3296, 1.23, 1.2621, 1.2477, 1.0919, 1.113, 1.2113, 1.0836, 0.8867, 1.235, 1.3293, 1.317, 1.1391, 0.685, 1.139, 0.7196, 0.5923, 0.7064, -0.0216, 0.8682, 0.2193, 0.1888, 0.5039, 0.1901, 0.2193]}, \"token.table\": {\"Topic\": [4, 5, 2, 5, 4, 3, 1, 1, 2, 3, 4, 1, 3, 5, 1, 4, 3, 4, 1, 2, 4, 5, 1, 2, 3, 4, 3, 1, 3, 4, 5, 4, 5, 1, 1, 3, 5, 1, 2, 4, 5, 2, 3, 4, 1, 2, 3, 4, 5, 2, 1, 2, 5, 3, 1, 2, 3, 4, 5, 5, 2, 2, 1, 1, 3, 4, 5, 1, 2, 3, 1, 2, 3, 5, 1, 2, 3, 5, 1, 2, 4, 5, 2, 5, 3, 3, 1, 2, 3, 4, 1, 2, 4, 5, 1, 3, 4, 5, 5, 4, 1, 2, 3, 2, 2, 1, 2, 2, 3, 1, 5, 3, 4, 5, 1, 2, 4, 1, 2, 3, 4, 5, 4, 1, 2, 3, 1, 5, 5, 5, 1, 3, 2, 4, 1, 4, 2, 4, 5, 2, 1, 3, 2, 1, 4, 2, 3, 4, 2, 3, 1, 2, 3, 4, 5, 3, 5, 4, 1, 2, 4, 5, 2, 4, 1, 5, 2, 5, 4, 5, 1, 2, 4, 5, 2, 3, 5, 1, 3, 4, 2, 5, 1, 2, 3, 5, 1, 4, 5, 1, 3, 4, 2, 3, 5, 3, 4, 1, 5, 1, 2, 1, 4, 1, 4, 1, 4, 5, 1, 4, 5, 1, 2, 4, 5, 2, 5, 3, 4, 5, 1, 2, 3, 4, 1, 3, 3, 1, 2, 3, 4, 4, 2, 3, 1, 2, 1, 3, 5, 1, 2, 5, 5, 2, 1, 2, 3, 4, 1, 2, 3, 5, 3, 1, 2, 3, 5, 1, 2, 3, 4, 5, 2, 5, 2, 4, 1, 1, 1, 2, 4, 1, 2, 2, 1, 2, 1, 2, 4, 1, 3, 5, 3, 4, 5, 1, 4, 1, 3, 3, 5, 2, 1, 2, 3, 4, 3, 5, 2, 3, 5, 1, 1, 3, 4, 5, 2, 4, 5, 4, 3, 1, 2, 4, 3, 1, 3, 4, 5, 3, 2, 2, 3, 4, 2, 3, 1, 2, 3, 3, 5, 2, 3, 4, 1, 2, 3, 4, 5, 3, 4, 4, 5, 4, 1, 5, 3, 1, 5, 1, 3, 1, 2, 3, 4, 1, 5, 1, 4, 2, 4, 5, 2, 5, 1, 2, 3, 4, 3, 5, 1, 3, 4, 1, 5, 2, 3, 4, 5, 2, 5, 2, 4, 4, 3, 5, 1, 2, 4, 2, 3, 4, 2, 3, 4, 5, 5, 1, 2, 3, 5, 5, 5, 3, 4, 5, 4, 3, 5, 1, 2, 3, 4, 5, 1, 2, 3, 4, 5, 4, 3, 5, 1, 1, 3, 3, 4, 3, 5, 1, 2, 5, 4, 2, 3, 3, 4, 4, 5, 3, 4, 2, 3, 2, 4, 3, 4, 5, 2, 5, 1, 2, 3, 4, 1, 5, 1, 5, 4, 2, 4, 2, 1, 2, 1, 5, 4, 4, 5, 1, 4, 5, 2, 5, 5, 2, 3, 2, 3, 2, 3, 1, 5, 1, 3, 4, 5, 1, 2, 3, 4, 2, 4, 4, 1, 2, 5, 5, 4, 5, 3, 1, 3, 4, 5, 1, 2, 4, 5, 2, 3, 4, 5, 3, 1, 2, 3, 4, 5, 1, 1, 4, 2, 1, 2, 4, 5, 3, 1, 3, 4, 1, 2, 3, 4], \"Freq\": [0.9220226141084271, 0.9279327024101938, 0.3467417708575227, 0.6934835417150454, 0.6916787593854966, 0.6910701153594362, 0.6855318549291628, 0.2584402067814828, 0.0861467355938276, 0.6030271491567932, 0.0861467355938276, 0.566876157421391, 0.24294692460916756, 0.1619646164061117, 0.17271035815243596, 0.6908414326097438, 0.5531857900681362, 0.2765928950340681, 0.17260772136771882, 0.34521544273543764, 0.11507181424514588, 0.34521544273543764, 0.13130261602849294, 0.32825654007123234, 0.13130261602849294, 0.39390784808547885, 0.6910701147669682, 0.15370760662217267, 0.15370760662217267, 0.46112281986651804, 0.23056140993325902, 0.29266614240297883, 0.6584988204067024, 0.91335277571268, 0.5660300332841445, 0.32344573330522547, 0.08086143332630637, 0.5161091960810366, 0.17203639869367884, 0.17203639869367884, 0.17203639869367884, 0.17278166924060856, 0.17278166924060856, 0.6911266769624342, 0.15320905157840278, 0.30641810315680557, 0.2553484192973379, 0.20427873543787037, 0.10213936771893518, 0.82485724918795, 0.054929133809558425, 0.9337952747624932, 0.7955554833191283, 0.8293519042336382, 0.9133533390319575, 0.40622247718687027, 0.1624889908747481, 0.24373348631212216, 0.1624889908747481, 0.9263970128064037, 0.6875601664748879, 0.9921438624680757, 0.8222699131509613, 0.098878152548904, 0.49439076274452, 0.197756305097808, 0.197756305097808, 0.2204340118196506, 0.2204340118196506, 0.5510850295491265, 0.32883560195642053, 0.1315342407825682, 0.1973013611738523, 0.3946027223477046, 0.10606164811787575, 0.5303082405893788, 0.10606164811787575, 0.2121232962357515, 0.145676821697405, 0.145676821697405, 0.29135364339481, 0.36419205424351253, 0.7647110888338455, 0.1529422177667691, 0.6910701161866406, 0.8293520095397661, 0.1968495512431869, 0.1968495512431869, 0.49212387810796726, 0.09842477562159345, 0.16611305491009853, 0.11074203660673236, 0.38759712812356323, 0.38759712812356323, 0.5505955170164691, 0.1835318390054897, 0.1835318390054897, 0.1835318390054897, 0.6953723384382903, 0.6916787583210537, 0.8222654488967914, 0.6875571202953105, 0.6910701154302488, 0.8248556771777187, 0.6875675988332963, 0.9584441246492744, 0.6875586041404534, 0.9163491834718563, 0.6910704023126713, 0.43996177988827584, 0.5656651455706404, 0.27777890644864217, 0.18518593763242813, 0.5555578128972843, 0.7826345267381711, 0.19565863168454278, 0.6916787563234676, 0.13360109362409864, 0.2226684893734977, 0.2226684893734977, 0.3117358851228968, 0.13360109362409864, 0.6916787576655163, 0.6855318572329611, 0.8248711221790778, 0.6910718186664162, 0.9126647083577366, 0.6953702665796793, 0.6953713353310402, 0.6953735966677155, 0.6860591626090431, 0.27442366504361726, 0.824857083151375, 0.6916787585567379, 0.7391212122239881, 0.21117748920685375, 0.3187398912520291, 0.5312331520867152, 0.10624663041734304, 0.6875565817195755, 0.6855318564496913, 0.6910701143866922, 0.9816822716534983, 0.19734704534264597, 0.7893881813705839, 0.15351156479162895, 0.7675578239581448, 0.15351156479162895, 0.7640687166393898, 0.20375165777050394, 0.3209464484553943, 0.3667959410918792, 0.1833979705459396, 0.0458494926364849, 0.0916989852729698, 0.18974814156193376, 0.758992566247735, 0.6916787607718191, 0.2589140939297936, 0.1294570469648968, 0.3883711408946904, 0.21576174494149467, 0.34516031624225313, 0.604030553423943, 0.6855318774870761, 0.6953735975608716, 0.25222304679849433, 0.6305576169962358, 0.1986895268393757, 0.7947581073575029, 0.1804730882603973, 0.2406307843471964, 0.1804730882603973, 0.4211038726075937, 0.1065271264571791, 0.6391627587430746, 0.3195813793715373, 0.6855318496317684, 0.6910701143185455, 0.6916787563290212, 0.6884491148110125, 0.1721122787027531, 0.1467344314348381, 0.2641219765827086, 0.46955018059148196, 0.11738754514787049, 0.15417262676401206, 0.3083452535280241, 0.6166905070560482, 0.5158239573509094, 0.22925509215595968, 0.22925509215595968, 0.2956640252995704, 0.6898827256989977, 0.9263970093090688, 0.6910690932501793, 0.8301307198540486, 0.8235166066488876, 0.18300369036641945, 0.3742709144821938, 0.623784857470323, 0.3757659011649082, 0.5636488517473623, 0.1382318429998045, 0.8293910579988272, 0.8104094631901031, 0.18701756842848533, 0.6953735923286497, 0.15417265702531643, 0.30834531405063287, 0.6166906281012657, 0.9133531915807971, 0.23047882423171778, 0.46095764846343557, 0.23047882423171778, 0.7870187429426155, 0.19675468573565388, 0.23896754368065415, 0.525728596097439, 0.23896754368065415, 0.08360207269159918, 0.2508062180747975, 0.4598113998037955, 0.16720414538319836, 0.17257309181602817, 0.6902923672641127, 0.9216779824257517, 0.6855318631839851, 0.25123970034642357, 0.12561985017321178, 0.6280992508660589, 0.9220226181395709, 0.45944687960152863, 0.5250821481160327, 0.6855318496647179, 0.8743552640491139, 0.3135340268105245, 0.5643612482589441, 0.1254136107242098, 0.4930017719191731, 0.09860035438383462, 0.39440141753533847, 0.6953715897200213, 0.6875760434750069, 0.6855318610989121, 0.5672817824300287, 0.32416101853144497, 0.08104025463286124, 0.5894926827908064, 0.0982487804651344, 0.1964975609302688, 0.1964975609302688, 0.6910701146223569, 0.11474336464453712, 0.5737168232226856, 0.22948672928907424, 0.11474336464453712, 0.4887654726633198, 0.08886644957514907, 0.13329967436272358, 0.08886644957514907, 0.22216612393787266, 0.2521876327431419, 0.6304690818578548, 0.6875571002137192, 0.7907274979068516, 0.8222824498982002, 0.9477122011622388, 0.8222654502598938, 0.7862316275604739, 0.19655790689011848, 0.9133546131793056, 0.916360241861757, 0.9618380446097434, 0.9133538454392252, 0.824855932313268, 0.6002942546731607, 0.25726896628849744, 0.17151264419233161, 0.6859918348882106, 0.19599766711091732, 0.9476840790975081, 0.9215521462064736, 0.23171041806206896, 0.6951312541862069, 0.43027760800901493, 0.5163331296108179, 0.7838929662199893, 0.19597324155499732, 0.23164555923771282, 0.6949366777131385, 0.6875646659776087, 0.28698646238777326, 0.1147945849551093, 0.3443837548653279, 0.2295891699102186, 0.173817457133086, 0.695269828532344, 0.1388456846084264, 0.2776913692168528, 0.5553827384337056, 0.8222654559070194, 0.4821527741157575, 0.13775793546164503, 0.13775793546164503, 0.20663690319246752, 0.5513763195092861, 0.4411010556074289, 0.8702957239176274, 0.9220226141084271, 0.6910701147469771, 0.21526622095413317, 0.2583194651449598, 0.473585686099093, 0.6910701145448053, 0.1383594141528654, 0.17789067533939837, 0.5139063954249287, 0.17789067533939837, 0.6910704594785572, 0.6875565259535447, 0.6355161427492909, 0.21183871424976364, 0.10591935712488182, 0.9615889910419991, 0.6910701129944817, 0.5337246633066013, 0.22873914141711482, 0.1524927609447432, 0.7687567664742211, 0.1537513532948442, 0.6257994728997969, 0.25031978915991876, 0.12515989457995938, 0.09221038306916167, 0.09221038306916167, 0.5532622984149701, 0.18442076613832334, 0.18442076613832334, 0.1383764030256871, 0.8302584181541226, 0.23171026515898013, 0.6951307954769403, 0.7907278833084643, 0.6855318593644003, 0.7955604238096258, 0.957136656337045, 0.785013522600608, 0.196253380650152, 0.6855318631222537, 0.7899319790647543, 0.40024977037919207, 0.4574283090047909, 0.11435707725119773, 0.6916787592091796, 0.3842005067388363, 0.5378807094343708, 0.9128964747062348, 0.830126697243572, 0.21858649132529923, 0.5100351464256981, 0.29144865510039897, 0.8249663451685691, 0.834861991022152, 0.7474178228263659, 0.2491392742754553, 0.6910733548615092, 0.9224541235482827, 0.86401402658279, 0.695373566132036, 0.9133534311152669, 0.6913115659912485, 0.17282789149781214, 0.23124989401949278, 0.6937496820584783, 0.3633630922653751, 0.14534523690615006, 0.3633630922653751, 0.14534523690615006, 0.9729951478049561, 0.6953715904305192, 0.345270296628908, 0.690540593257816, 0.9220226144728383, 0.9793484197730059, 0.9263970117372436, 0.17255310491043604, 0.17255310491043604, 0.6902124196417442, 0.21251682824794219, 0.10625841412397109, 0.6375504847438266, 0.184233111912086, 0.46058277978021495, 0.184233111912086, 0.092116555956043, 0.9263970130355393, 0.2626410427572644, 0.3939615641358966, 0.1313205213786322, 0.2626410427572644, 0.695367512808263, 0.9263970130355393, 0.11545806797983707, 0.6927484078790224, 0.23091613595967414, 0.6916787574416435, 0.12653825291956639, 0.8857677704369646, 0.08379648176176178, 0.16759296352352357, 0.20949120440440447, 0.25138944528528534, 0.20949120440440447, 0.27594010173980094, 0.055188020347960186, 0.11037604069592037, 0.38631614243572127, 0.11037604069592037, 0.6916794000794039, 0.6929054997894106, 0.3464527498947053, 0.685531852744768, 0.8570778000035079, 0.17141556000070157, 0.7542719239509748, 0.2514239746503249, 0.6156075696422366, 0.3078037848211183, 0.27457111865716266, 0.6864277966429067, 0.6953735933911318, 0.8301310474653781, 0.2587905224755177, 0.6901080599347138, 0.23056863393348384, 0.6917059018004514, 0.23170978541036846, 0.6951293562311054, 0.27672310300221514, 0.6918077575055378, 0.8248579123470091, 0.8293509184608678, 0.6878678261946212, 0.1719669565486553, 0.6294290735250097, 0.1888287220575029, 0.1888287220575029, 0.19837837143771436, 0.7935134857508575, 0.3243198076502988, 0.0810799519125747, 0.1621599038251494, 0.40539975956287344, 0.8579510041035814, 0.17159020082071627, 0.23124999362568616, 0.6937499808770584, 0.9224541750110418, 0.6356528428047508, 0.3178264214023754, 0.6875571038890586, 0.78314088467769, 0.1957852211694225, 0.2523877014954415, 0.7571631044863244, 0.6916787578354936, 0.6925490912176862, 0.17313727280442154, 0.5675072582091601, 0.1621449309169029, 0.3242898618338058, 0.8942617712784494, 0.13757873404283835, 0.8702970822307834, 0.19726885914027167, 0.7890754365610867, 0.6875571008419351, 0.6910701144641078, 0.9816822679118904, 0.8293494790289394, 0.8234575802229948, 0.1829905733828877, 0.45904259888889876, 0.22952129944444938, 0.1967325423809566, 0.0983662711904783, 0.3109550973373016, 0.1554775486686508, 0.3775883324810091, 0.1554775486686508, 0.30698919134129626, 0.6139783826825925, 0.7907278799280295, 0.1837941251966137, 0.4594853129915343, 0.2756911877949206, 0.928857857680012, 0.2529368486208415, 0.7588105458625244, 0.6910688387541006, 0.21819865565032354, 0.4363973113006471, 0.14546577043354902, 0.21819865565032354, 0.48200381446607665, 0.0688576877808681, 0.34428843890434047, 0.1377153755617362, 0.8023634099622207, 0.2292466885606345, 0.7915187467227689, 0.19787968668069222, 0.8293530913860823, 0.32144945702034006, 0.13776405300871716, 0.3673708080232458, 0.09184270200581145, 0.09184270200581145, 0.6855318609507256, 0.7679926103544769, 0.16456984507595931, 0.8588916398252268, 0.19731577807687614, 0.26308770410250154, 0.26308770410250154, 0.3288596301281269, 0.6910783441224121, 0.3063243408864264, 0.6892297669944595, 0.6916787597964265, 0.32789958058902624, 0.19673974835341573, 0.19673974835341573, 0.32789958058902624], \"Term\": [\"100m\", \"19\", \"action\", \"action\", \"aiming\", \"airways\", \"ally\", \"anti\", \"anti\", \"anti\", \"anti\", \"apple\", \"apple\", \"apple\", \"aviator\", \"aviator\", \"award\", \"award\", \"awards\", \"awards\", \"awards\", \"awards\", \"backs\", \"backs\", \"backs\", \"backs\", \"balco\", \"ban\", \"ban\", \"ban\", \"ban\", \"bank\", \"bank\", \"banks\", \"battle\", \"battle\", \"battle\", \"bbc\", \"bbc\", \"bbc\", \"bbc\", \"best\", \"best\", \"best\", \"bid\", \"bid\", \"bid\", \"bid\", \"bid\", \"biggest\", \"blair\", \"blair\", \"blow\", \"bollywood\", \"book\", \"boost\", \"boost\", \"boost\", \"boost\", \"boro\", \"bowl\", \"box\", \"britain\", \"broadband\", \"broadband\", \"broadband\", \"broadband\", \"brown\", \"brown\", \"brown\", \"budget\", \"budget\", \"budget\", \"budget\", \"bush\", \"bush\", \"bush\", \"bush\", \"calls\", \"calls\", \"calls\", \"calls\", \"cards\", \"cards\", \"cent\", \"channel\", \"chart\", \"chart\", \"chart\", \"chart\", \"china\", \"china\", \"china\", \"china\", \"claim\", \"claim\", \"claim\", \"claim\", \"cold\", \"combat\", \"comic\", \"confidence\", \"console\", \"consumer\", \"contest\", \"cost\", \"crisis\", \"crown\", \"csi\", \"cup\", \"cup\", \"cut\", \"cut\", \"cut\", \"cuts\", \"cuts\", \"cyber\", \"deal\", \"deal\", \"deal\", \"deal\", \"deal\", \"debuts\", \"defence\", \"defends\", \"delight\", \"dems\", \"denied\", \"desktop\", \"details\", \"digital\", \"digital\", \"disaster\", \"disney\", \"dollar\", \"dollar\", \"double\", \"double\", \"double\", \"dour\", \"downloads\", \"drake\", \"drive\", \"drug\", \"drug\", \"drugs\", \"drugs\", \"drugs\", \"economy\", \"economy\", \"election\", \"election\", \"election\", \"election\", \"election\", \"england\", \"england\", \"enters\", \"eu\", \"eu\", \"eu\", \"eu\", \"euro\", \"euro\", \"expands\", \"extra\", \"eyes\", \"eyes\", \"fa\", \"fa\", \"face\", \"face\", \"face\", \"face\", \"faces\", \"faces\", \"faces\", \"family\", \"favourite\", \"fbi\", \"federer\", \"federer\", \"film\", \"film\", \"film\", \"film\", \"final\", \"final\", \"final\", \"firm\", \"firm\", \"firm\", \"france\", \"france\", \"franz\", \"fuels\", \"gain\", \"games\", \"games\", \"german\", \"german\", \"gets\", \"gets\", \"greek\", \"greek\", \"growth\", \"growth\", \"hail\", \"hails\", \"hails\", \"hails\", \"heads\", \"help\", \"help\", \"help\", \"helps\", \"helps\", \"hit\", \"hit\", \"hit\", \"hits\", \"hits\", \"hits\", \"hits\", \"hollywood\", \"hollywood\", \"honour\", \"honours\", \"hopes\", \"hopes\", \"hopes\", \"hotspot\", \"howard\", \"howard\", \"ibm\", \"id\", \"india\", \"india\", \"india\", \"injury\", \"injury\", \"injury\", \"israel\", \"issue\", \"issued\", \"japan\", \"japan\", \"japan\", \"jobs\", \"jobs\", \"jobs\", \"jobs\", \"johnny\", \"joins\", \"joins\", \"joins\", \"joins\", \"labour\", \"labour\", \"labour\", \"labour\", \"labour\", \"law\", \"law\", \"leaders\", \"leave\", \"lessons\", \"lib\", \"lifestyle\", \"lifts\", \"lifts\", \"little\", \"looks\", \"lse\", \"mac\", \"mails\", \"make\", \"make\", \"make\", \"makes\", \"makes\", \"man\", \"march\", \"match\", \"match\", \"microsoft\", \"microsoft\", \"mini\", \"mini\", \"misses\", \"misses\", \"mixed\", \"mobile\", \"mobile\", \"mobile\", \"mobile\", \"mourinho\", \"mourinho\", \"mp\", \"mp\", \"mp\", \"mp3\", \"mps\", \"mps\", \"mps\", \"mps\", \"music\", \"music\", \"musical\", \"nasdaq\", \"nazi\", \"net\", \"net\", \"net\", \"nets\", \"new\", \"new\", \"new\", \"new\", \"night\", \"niro\", \"offers\", \"offers\", \"offers\", \"office\", \"officials\", \"oil\", \"oil\", \"oil\", \"online\", \"online\", \"open\", \"open\", \"open\", \"oscar\", \"oscar\", \"oscar\", \"oscar\", \"oscar\", \"oscars\", \"oscars\", \"owen\", \"owen\", \"pair\", \"past\", \"patent\", \"peer\", \"phones\", \"phones\", \"piracy\", \"pirates\", \"plan\", \"plan\", \"plan\", \"planning\", \"plans\", \"plans\", \"players\", \"pocket\", \"poll\", \"poll\", \"poll\", \"pre\", \"premiere\", \"prize\", \"prize\", \"profile\", \"progress\", \"psp\", \"questioned\", \"quit\", \"radio\", \"radio\", \"reach\", \"reach\", \"record\", \"record\", \"record\", \"record\", \"return\", \"review\", \"rock\", \"rock\", \"rockers\", \"row\", \"rues\", \"rule\", \"rule\", \"rule\", \"sale\", \"sale\", \"sale\", \"sales\", \"sales\", \"sales\", \"sales\", \"savvy\", \"says\", \"says\", \"says\", \"says\", \"scottish\", \"searchers\", \"security\", \"security\", \"security\", \"seeking\", \"seeks\", \"seeks\", \"set\", \"set\", \"set\", \"set\", \"set\", \"shares\", \"shares\", \"shares\", \"shares\", \"shares\", \"sights\", \"singer\", \"singer\", \"slide\", \"slow\", \"slow\", \"sony\", \"sony\", \"spain\", \"spain\", \"spending\", \"spending\", \"spirit\", \"sprinters\", \"star\", \"star\", \"starts\", \"starts\", \"straw\", \"straw\", \"strike\", \"strike\", \"sue\", \"sundance\", \"super\", \"super\", \"takes\", \"takes\", \"takes\", \"talk\", \"talk\", \"talks\", \"talks\", \"talks\", \"talks\", \"target\", \"target\", \"tech\", \"tech\", \"technology\", \"terror\", \"terror\", \"text\", \"threat\", \"threat\", \"time\", \"time\", \"tindall\", \"title\", \"title\", \"tories\", \"tories\", \"tories\", \"tory\", \"tory\", \"tough\", \"tour\", \"tour\", \"touted\", \"tribute\", \"trip\", \"triumph\", \"tsunami\", \"tsunami\", \"tv\", \"tv\", \"tv\", \"tv\", \"uk\", \"uk\", \"uk\", \"uk\", \"ukip\", \"ukip\", \"unveiled\", \"unveils\", \"unveils\", \"unveils\", \"utd\", \"video\", \"video\", \"vision\", \"wales\", \"wales\", \"wales\", \"wales\", \"warning\", \"warning\", \"warning\", \"warning\", \"web\", \"web\", \"williams\", \"williams\", \"wimbledon\", \"win\", \"win\", \"win\", \"win\", \"win\", \"winning\", \"wins\", \"wins\", \"women\", \"world\", \"world\", \"world\", \"world\", \"yahoo\", \"year\", \"year\", \"york\", \"yukos\", \"yukos\", \"yukos\", \"yukos\"]}, \"R\": 30, \"lambda.step\": 0.01, \"plot.opts\": {\"xlab\": \"PC1\", \"ylab\": \"PC2\"}, \"topic.order\": [1, 4, 3, 2, 5]};\n",
              "\n",
              "function LDAvis_load_lib(url, callback){\n",
              "  var s = document.createElement('script');\n",
              "  s.src = url;\n",
              "  s.async = true;\n",
              "  s.onreadystatechange = s.onload = callback;\n",
              "  s.onerror = function(){console.warn(\"failed to load library \" + url);};\n",
              "  document.getElementsByTagName(\"head\")[0].appendChild(s);\n",
              "}\n",
              "\n",
              "if(typeof(LDAvis) !== \"undefined\"){\n",
              "   // already loaded: just create the visualization\n",
              "   !function(LDAvis){\n",
              "       new LDAvis(\"#\" + \"ldavis_el591399100180708647151473791\", ldavis_el591399100180708647151473791_data);\n",
              "   }(LDAvis);\n",
              "}else if(typeof define === \"function\" && define.amd){\n",
              "   // require.js is available: use it to load d3/LDAvis\n",
              "   require.config({paths: {d3: \"https://d3js.org/d3.v5\"}});\n",
              "   require([\"d3\"], function(d3){\n",
              "      window.d3 = d3;\n",
              "      LDAvis_load_lib(\"https://cdn.jsdelivr.net/gh/bmabey/pyLDAvis@3.3.1/pyLDAvis/js/ldavis.v3.0.0.js\", function(){\n",
              "        new LDAvis(\"#\" + \"ldavis_el591399100180708647151473791\", ldavis_el591399100180708647151473791_data);\n",
              "      });\n",
              "    });\n",
              "}else{\n",
              "    // require.js not available: dynamically load d3 & LDAvis\n",
              "    LDAvis_load_lib(\"https://d3js.org/d3.v5.js\", function(){\n",
              "         LDAvis_load_lib(\"https://cdn.jsdelivr.net/gh/bmabey/pyLDAvis@3.3.1/pyLDAvis/js/ldavis.v3.0.0.js\", function(){\n",
              "                 new LDAvis(\"#\" + \"ldavis_el591399100180708647151473791\", ldavis_el591399100180708647151473791_data);\n",
              "            })\n",
              "         });\n",
              "}\n",
              "</script>"
            ]
          },
          "metadata": {},
          "execution_count": 290
        }
      ]
    },
    {
      "cell_type": "code",
      "source": [
        ""
      ],
      "metadata": {
        "id": "oXgJJ6QcTQDL"
      },
      "execution_count": null,
      "outputs": []
    },
    {
      "cell_type": "markdown",
      "source": [
        "#Preprocessing Content"
      ],
      "metadata": {
        "id": "7RU4Vs6ETYJ5"
      }
    },
    {
      "cell_type": "code",
      "source": [
        "small_count_vectorizer = CountVectorizer(stop_words='english', max_features=10000)\n",
        "small_text_sample = df['Content'].values\n",
        "\n",
        "print('Headline before vectorization: {}'.format(small_text_sample[123]))\n",
        "\n",
        "small_document_term_matrix = small_count_vectorizer.fit_transform(small_text_sample)\n",
        "\n",
        "print('Headline after vectorization: \\n{}'.format(small_document_term_matrix[123]))"
      ],
      "metadata": {
        "outputId": "b6fe9235-22fd-4afd-cfc5-43fe0bf215b6",
        "colab": {
          "base_uri": "https://localhost:8080/"
        },
        "id": "tieLfnzTTTPK"
      },
      "execution_count": 291,
      "outputs": [
        {
          "output_type": "stream",
          "name": "stdout",
          "text": [
            "Headline before vectorization: A row over whether only Greece should be allowed to label its cheese feta has reached the European Court of Justice. The Danish and German governments are challenging a European Commission ruling which said Greece should have sole rights to use the name. The Commission's decision gave the same legal protection to feta as to Italian Parma ham and French Champagne. But critics of the judgement say feta is a generic term, with the cheese produced widely outside Greece. The Commission's controversial 2002 ruling gave \"protected designation of origin\" status to feta cheese made in Greece, effectively restricting the use of the feta name to producers there. From 2007 onwards, Greek firms will have the exclusive use of the feta label and producers elsewhere in Europe must find another name to describe their products. The German and Danish governments argue that feta does not relate to a specific geographical area and that their firms have been producing and exporting the cheese for years. \"In our opinion it is a generic designation and we do not have any other name or term for this type of cheese,\" Hans Arne Kristiansen, a spokesman for the Danish Dairy Board, told the BBC. Denmark is Europe's second largest producer of feta after Greece - producing about 30,000 tonnes a year - and exports its products to Greece. It is concerned that the ruling could threaten the production of other cheeses in Denmark such as brie. \"It would cost millions if we wanted to introduce a new designation,\" Mr Kristiansen said. \"That is just one of the costs.\" The case will also have a major impact on Britain's sole feta producer, Yorkshire company Shepherds Purse Cheeses. Judy Bell, the company's founder, said it would cost a huge amount to rebrand its product. \"If we lose we will have to go through a massive re-merchandising process and reorganisation,\" she said. \"We have never tried to pull the wool over anyone's eyes - it's very clear from the label that it's Yorkshire feta.\" The original decision was a victory for Greece, where feta cheese is believed to have been produced for about 6,000 years. Feta is a soft white cheese made from sheep or goat's milk, and is an essential ingredient in Greek cuisine. Greece makes 115,000 tonnes, mainly for domestic consumption. The Court is expected to reach a verdict in the case in the autumn.\n",
            "Headline after vectorization: \n",
            "  (0, 7755)\t4\n",
            "  (0, 169)\t1\n",
            "  (0, 5804)\t1\n",
            "  (0, 9486)\t3\n",
            "  (0, 9961)\t2\n",
            "  (0, 2387)\t1\n",
            "  (0, 790)\t1\n",
            "  (0, 2873)\t1\n",
            "  (0, 6318)\t1\n",
            "  (0, 9959)\t1\n",
            "  (0, 1081)\t1\n",
            "  (0, 9110)\t1\n",
            "  (0, 6064)\t1\n",
            "  (0, 1)\t3\n",
            "  (0, 3263)\t2\n",
            "  (0, 5941)\t1\n",
            "  (0, 3631)\t2\n",
            "  (0, 6925)\t2\n",
            "  (0, 8418)\t1\n",
            "  (0, 7051)\t1\n",
            "  (0, 614)\t1\n",
            "  (0, 9682)\t1\n",
            "  (0, 8972)\t2\n",
            "  (0, 4060)\t2\n",
            "  (0, 2084)\t1\n",
            "  :\t:\n",
            "  (0, 9326)\t1\n",
            "  (0, 9045)\t1\n",
            "  (0, 5532)\t1\n",
            "  (0, 948)\t1\n",
            "  (0, 5012)\t1\n",
            "  (0, 8379)\t1\n",
            "  (0, 7709)\t3\n",
            "  (0, 4100)\t8\n",
            "  (0, 1780)\t7\n",
            "  (0, 3557)\t12\n",
            "  (0, 1728)\t1\n",
            "  (0, 8301)\t2\n",
            "  (0, 6438)\t1\n",
            "  (0, 3941)\t2\n",
            "  (0, 3318)\t1\n",
            "  (0, 3390)\t1\n",
            "  (0, 2460)\t1\n",
            "  (0, 9119)\t2\n",
            "  (0, 5018)\t1\n",
            "  (0, 7414)\t1\n",
            "  (0, 8293)\t1\n",
            "  (0, 8066)\t1\n",
            "  (0, 4019)\t1\n",
            "  (0, 5799)\t1\n",
            "  (0, 9549)\t1\n"
          ]
        }
      ]
    },
    {
      "cell_type": "code",
      "source": [
        "from sklearn.model_selection import GridSearchCV\n",
        "grid_params = {'n_components' : list(range(5,10))}\n",
        "\n",
        "# LDA model\n",
        "lda = LatentDirichletAllocation()\n",
        "lda_model = GridSearchCV(lda,param_grid=grid_params)\n",
        "lda_model.fit(small_document_term_matrix)\n",
        "\n",
        "# Best LDA model\n",
        "best_lda_model = lda_model.best_estimator_\n",
        "\n",
        "print(\"Best LDA model's params\" , lda_model.best_params_)\n",
        "print(\"Best log likelihood Score for the LDA model\",lda_model.best_score_)\n",
        "print(\"LDA model Perplexity on train data\", best_lda_model.perplexity(small_document_term_matrix))"
      ],
      "metadata": {
        "outputId": "fe15b8a2-6c08-4edf-8dfc-63f18d9a8c50",
        "colab": {
          "base_uri": "https://localhost:8080/"
        },
        "id": "4H2yIdyjTTPM"
      },
      "execution_count": 292,
      "outputs": [
        {
          "output_type": "stream",
          "name": "stdout",
          "text": [
            "Best LDA model's params {'n_components': 5}\n",
            "Best log likelihood Score for the LDA model -717754.6209124234\n",
            "LDA model Perplexity on train data 2882.62430398052\n"
          ]
        }
      ]
    },
    {
      "cell_type": "code",
      "source": [
        "lda_panel = pyLDAvis.sklearn.prepare(best_lda_model, small_document_term_matrix,small_count_vectorizer,mds='tsne')\n",
        "lda_panel"
      ],
      "metadata": {
        "outputId": "1c3c74f8-d884-44f1-b171-c3aef7c19e9e",
        "colab": {
          "base_uri": "https://localhost:8080/",
          "height": 1000
        },
        "id": "gsQcmOPtTTPO"
      },
      "execution_count": 293,
      "outputs": [
        {
          "output_type": "stream",
          "name": "stderr",
          "text": [
            "/usr/local/lib/python3.7/dist-packages/sklearn/utils/deprecation.py:87: FutureWarning: Function get_feature_names is deprecated; get_feature_names is deprecated in 1.0 and will be removed in 1.2. Please use get_feature_names_out instead.\n",
            "  warnings.warn(msg, category=FutureWarning)\n",
            "/usr/local/lib/python3.7/dist-packages/pyLDAvis/_prepare.py:247: FutureWarning: In a future version of pandas all arguments of DataFrame.drop except for the argument 'labels' will be keyword-only\n",
            "  by='saliency', ascending=False).head(R).drop('saliency', 1)\n",
            "/usr/local/lib/python3.7/dist-packages/sklearn/manifold/_t_sne.py:783: FutureWarning: The default initialization in TSNE will change from 'random' to 'pca' in 1.2.\n",
            "  FutureWarning,\n",
            "/usr/local/lib/python3.7/dist-packages/sklearn/manifold/_t_sne.py:793: FutureWarning: The default learning rate in TSNE will change from 200.0 to 'auto' in 1.2.\n",
            "  FutureWarning,\n",
            "/usr/local/lib/python3.7/dist-packages/sklearn/manifold/_t_sne.py:827: FutureWarning: 'square_distances' has been introduced in 0.24 to help phase out legacy squaring behavior. The 'legacy' setting will be removed in 1.1 (renaming of 0.26), and the default setting will be changed to True. In 1.3, 'square_distances' will be removed altogether, and distances will be squared by default. Set 'square_distances'=True to silence this warning.\n",
            "  FutureWarning,\n"
          ]
        },
        {
          "output_type": "execute_result",
          "data": {
            "text/plain": [
              "PreparedData(topic_coordinates=                x           y  topics  cluster       Freq\n",
              "topic                                                    \n",
              "2      150.222153  -72.269554       1        1  24.190052\n",
              "0       51.163364 -159.968018       2        1  21.463732\n",
              "3      -73.144554   21.523815       3        1  19.420972\n",
              "4      -66.410133 -110.606438       4        1  17.920950\n",
              "1       54.417324   12.443444       5        1  17.004294, topic_info=            Term         Freq        Total Category  logprob  loglift\n",
              "5941          mr  2957.000000  2957.000000  Default  30.0000  30.0000\n",
              "3587        film   815.000000   815.000000  Default  29.0000  29.0000\n",
              "4058  government  1140.000000  1140.000000  Default  28.0000  28.0000\n",
              "1167        best   935.000000   935.000000  Default  27.0000  27.0000\n",
              "5179      labour   763.000000   763.000000  Default  26.0000  26.0000\n",
              "...          ...          ...          ...      ...      ...      ...\n",
              "1081         bbc   195.430209   735.368476   Topic5  -5.8807   0.4465\n",
              "5354        like   201.141967   858.228761   Topic5  -5.8519   0.3208\n",
              "5435      london   170.483894   446.069279   Topic5  -6.0173   0.8099\n",
              "9340          uk   181.862052  1031.066133   Topic5  -5.9527   0.0366\n",
              "9317          tv   161.834377   472.426377   Topic5  -6.0694   0.7004\n",
              "\n",
              "[377 rows x 6 columns], token_table=      Topic      Freq     Term\n",
              "term                          \n",
              "1         1  0.270502      000\n",
              "1         2  0.225844      000\n",
              "1         3  0.367474      000\n",
              "1         4  0.024243      000\n",
              "1         5  0.111008      000\n",
              "...     ...       ...      ...\n",
              "9961      5  0.306310    years\n",
              "9964      3  0.987363      yen\n",
              "9979      4  0.978969  yugansk\n",
              "9982      3  0.079668    yukos\n",
              "9982      4  0.921874    yukos\n",
              "\n",
              "[814 rows x 3 columns], R=30, lambda_step=0.01, plot_opts={'xlab': 'PC1', 'ylab': 'PC2'}, topic_order=[3, 1, 4, 5, 2])"
            ],
            "text/html": [
              "\n",
              "<link rel=\"stylesheet\" type=\"text/css\" href=\"https://cdn.jsdelivr.net/gh/bmabey/pyLDAvis@3.3.1/pyLDAvis/js/ldavis.v1.0.0.css\">\n",
              "\n",
              "\n",
              "<div id=\"ldavis_el591399100180712488342602665\"></div>\n",
              "<script type=\"text/javascript\">\n",
              "\n",
              "var ldavis_el591399100180712488342602665_data = {\"mdsDat\": {\"x\": [150.22215270996094, 51.16336441040039, -73.1445541381836, -66.4101333618164, 54.41732406616211], \"y\": [-72.2695541381836, -159.968017578125, 21.523815155029297, -110.60643768310547, 12.44344425201416], \"topics\": [1, 2, 3, 4, 5], \"cluster\": [1, 1, 1, 1, 1], \"Freq\": [24.190051799719754, 21.463732438923085, 19.420972473962696, 17.920949699670988, 17.004293587723478]}, \"tinfo\": {\"Term\": [\"mr\", \"film\", \"government\", \"best\", \"labour\", \"election\", \"mobile\", \"music\", \"blair\", \"technology\", \"game\", \"market\", \"people\", \"party\", \"growth\", \"users\", \"digital\", \"england\", \"minister\", \"bank\", \"software\", \"economy\", \"phone\", \"brown\", \"awards\", \"company\", \"year\", \"sales\", \"players\", \"computer\", \"tory\", \"tories\", \"mps\", \"liberal\", \"lib\", \"parliament\", \"immigration\", \"commons\", \"lords\", \"conservatives\", \"blunkett\", \"asylum\", \"shadow\", \"dems\", \"dem\", \"blair\", \"fiat\", \"mp\", \"manifesto\", \"voters\", \"suspects\", \"constitution\", \"judges\", \"conservative\", \"nuclear\", \"prescott\", \"chancellor\", \"muslim\", \"westminster\", \"cabinet\", \"labour\", \"election\", \"secretary\", \"lord\", \"prime\", \"howard\", \"democrats\", \"brown\", \"party\", \"minister\", \"council\", \"leader\", \"mr\", \"tony\", \"government\", \"ministers\", \"law\", \"police\", \"public\", \"political\", \"said\", \"plans\", \"general\", \"issue\", \"tax\", \"campaign\", \"people\", \"told\", \"say\", \"britain\", \"new\", \"uk\", \"bbc\", \"says\", \"home\", \"mobile\", \"users\", \"microsoft\", \"digital\", \"broadband\", \"phones\", \"apple\", \"web\", \"devices\", \"bt\", \"download\", \"windows\", \"google\", \"websites\", \"spam\", \"gaming\", \"computers\", \"mobiles\", \"wireless\", \"gadget\", \"files\", \"gadgets\", \"machines\", \"software\", \"portable\", \"camera\", \"ipod\", \"gamers\", \"mac\", \"3g\", \"computer\", \"pc\", \"networks\", \"phone\", \"online\", \"technology\", \"internet\", \"video\", \"sony\", \"content\", \"search\", \"site\", \"sites\", \"virus\", \"net\", \"information\", \"use\", \"using\", \"games\", \"people\", \"music\", \"service\", \"data\", \"tv\", \"said\", \"used\", \"new\", \"like\", \"make\", \"services\", \"mr\", \"uk\", \"way\", \"time\", \"year\", \"oil\", \"shares\", \"euros\", \"exports\", \"economist\", \"stock\", \"bank\", \"securities\", \"currency\", \"gm\", \"yen\", \"imf\", \"5bn\", \"sri\", \"creditors\", \"indonesia\", \"economists\", \"sec\", \"construction\", \"slowdown\", \"gdp\", \"gas\", \"lanka\", \"2bn\", \"investors\", \"retailers\", \"lending\", \"rupees\", \"bmw\", \"supplies\", \"growth\", \"china\", \"prices\", \"profits\", \"takeover\", \"fuel\", \"exchange\", \"forecast\", \"deutsche\", \"india\", \"rose\", \"economy\", \"investment\", \"financial\", \"economic\", \"markets\", \"sales\", \"debt\", \"trading\", \"analysts\", \"rise\", \"rates\", \"market\", \"jobs\", \"company\", \"rate\", \"business\", \"2004\", \"firm\", \"dollar\", \"year\", \"said\", \"figures\", \"2005\", \"december\", \"chief\", \"companies\", \"000\", \"expected\", \"new\", \"world\", \"state\", \"deal\", \"years\", \"government\", \"mr\", \"uk\", \"cup\", \"chelsea\", \"rugby\", \"arsenal\", \"coach\", \"roddick\", \"tournament\", \"matches\", \"referee\", \"gazprom\", \"striker\", \"glazer\", \"tennis\", \"mourinho\", \"nadal\", \"ebbers\", \"rosneft\", \"yugansk\", \"gara\", \"fa\", \"hodgson\", \"semi\", \"injury\", \"celtic\", \"wenger\", \"rangers\", \"barcelona\", \"federer\", \"newcastle\", \"driscoll\", \"champions\", \"slam\", \"robinson\", \"ferguson\", \"league\", \"ball\", \"match\", \"premiership\", \"seed\", \"club\", \"yukos\", \"football\", \"squad\", \"captain\", \"england\", \"ireland\", \"season\", \"goal\", \"team\", \"victory\", \"wales\", \"game\", \"win\", \"minutes\", \"boss\", \"players\", \"final\", \"half\", \"united\", \"play\", \"france\", \"second\", \"time\", \"said\", \"good\", \"year\", \"open\", \"just\", \"set\", \"world\", \"new\", \"old\", \"awards\", \"festival\", \"ukip\", \"kilroy\", \"silk\", \"musical\", \"actress\", \"holmes\", \"theatre\", \"award\", \"dance\", \"marathon\", \"chart\", \"comedy\", \"medal\", \"parry\", \"concert\", \"album\", \"rap\", \"nominations\", \"angels\", \"conte\", \"radcliffe\", \"elvis\", \"drake\", \"000m\", \"actor\", \"forsyth\", \"rapper\", \"actors\", \"singer\", \"band\", \"athletics\", \"starring\", \"film\", \"stars\", \"drama\", \"oscar\", \"song\", \"rock\", \"nominated\", \"ceremony\", \"athens\", \"best\", \"star\", \"olympic\", \"prize\", \"won\", \"films\", \"british\", \"year\", \"music\", \"director\", \"years\", \"record\", \"world\", \"new\", \"number\", \"said\", \"time\", \"old\", \"including\", \"just\", \"bbc\", \"like\", \"london\", \"uk\", \"tv\"], \"Freq\": [2957.0, 815.0, 1140.0, 935.0, 763.0, 624.0, 513.0, 794.0, 547.0, 545.0, 838.0, 672.0, 2002.0, 618.0, 436.0, 399.0, 398.0, 579.0, 547.0, 354.0, 368.0, 415.0, 368.0, 441.0, 283.0, 666.0, 2228.0, 469.0, 501.0, 324.0, 250.63110605219825, 223.9894172041584, 179.64348355677066, 172.7393202122814, 165.84043832013228, 154.98830122735458, 135.24604693212146, 125.41439045001758, 113.58372311114205, 110.6225784651034, 94.85030366582194, 91.8926558875656, 93.83887876812928, 89.92022948064125, 77.10222935174222, 540.6562407197771, 66.23783317267102, 105.16102782617, 56.397270079547305, 133.09169724107588, 52.45296780698645, 49.49345942194224, 49.47771119486435, 136.71982814506816, 47.50558987908499, 42.59345850285691, 259.4035182336233, 41.60393328674722, 41.6009448587526, 97.68639849697034, 746.6160732521614, 606.3539236723403, 283.9543645627428, 265.43720837551257, 311.96712228941374, 324.31220359124546, 95.3136217585714, 415.39601425208025, 567.9690201698027, 481.37158835662916, 189.91628789533527, 254.58877567632445, 2204.6119112999427, 204.89842834618094, 874.5671677410802, 160.10222772193742, 278.21055798457, 219.36033736945973, 400.5054044938202, 197.6126609850482, 2582.7984491448806, 325.6842112373726, 270.0060603857941, 207.37602867700286, 283.47937169975734, 237.43936623921905, 711.6584679806796, 429.7649274607785, 325.36696198421066, 265.8645239311281, 429.49130011336155, 327.31909032020786, 286.5491566542083, 270.5610629291688, 268.1349122005482, 512.4334668340927, 398.8812456288276, 256.8427361681211, 397.46496808094713, 238.23122773920917, 222.53779911866226, 182.39307518305694, 182.39237799985366, 157.90506911675803, 132.43616058968146, 123.61491603811574, 117.74429856608111, 113.82383013306726, 112.84175923580808, 110.88651272694786, 160.4749905082567, 106.96748238349787, 104.0303402533331, 101.09120725434624, 100.11164587390114, 103.02326533602835, 99.13228466855276, 97.17035333975551, 365.35497191840454, 93.25468453174821, 91.25921882537602, 78.56117432139877, 80.49883272646156, 77.56900325247175, 75.62281503536505, 320.1173639559026, 179.2605331517351, 179.92856503718272, 358.57184858818675, 320.48529692021685, 519.6059423612359, 281.63747110690133, 324.630768412479, 170.5459844816233, 204.60686518369505, 196.06327887818188, 174.73290147702545, 154.9470263525751, 152.6161872844306, 337.5631189637384, 281.44142171245187, 417.6268348997, 262.42881400910204, 412.6509982453061, 991.9046517360903, 477.4269953057043, 300.7289169777438, 243.60565593961113, 303.35408158883433, 1423.4426117565313, 305.5264534156431, 474.9270052450838, 333.07621820116566, 322.4107858004767, 236.007168080373, 373.10414277186766, 286.504286480769, 260.27316817421524, 258.7318008403996, 255.70237923870673, 282.3162954815443, 246.26653496350895, 149.5596331335547, 96.94660054097157, 72.51310026989356, 173.99546630339165, 350.2848869549487, 58.829319470699325, 56.878064742509544, 72.27544982395764, 54.91919250703812, 54.91784337458847, 94.31360739302596, 50.03231739334661, 46.12699899342448, 45.14631734893209, 44.16913766931739, 44.14228384974159, 42.215231908916806, 42.21432052173146, 41.240885709214474, 64.24490646451832, 40.261574116109216, 53.64159950220013, 124.27961679240029, 35.371032667328514, 34.39840670971159, 32.44533283500296, 32.42832152228779, 31.463382385968167, 420.14948505825913, 282.73645355119066, 263.0584443733882, 151.82533419585414, 77.76862183672074, 78.4029317193818, 133.46343787962297, 65.76531922130862, 99.21986709096322, 169.80119896049277, 155.21181252998468, 359.62732304345406, 179.10834286920695, 223.9596765227074, 313.7896269353213, 110.37351123190493, 380.2116334703601, 136.27935906129406, 98.51387845074817, 230.29588695693633, 232.54101518977336, 157.18694085106782, 484.1784739298764, 172.7104574835701, 447.1882851230759, 184.82130164578712, 255.78489664582438, 360.51153900158977, 340.04345519233476, 176.45749456208134, 827.8861389902435, 1564.8981725882122, 211.8965245339528, 237.00602351339978, 196.91851900274585, 233.27016151725763, 228.32888941272225, 287.9164505271872, 239.02241955469026, 378.2162169495371, 294.1528530307629, 202.13981675377704, 208.6163438195133, 254.7634399894976, 263.2446317332111, 294.0626732672009, 235.1845646749591, 269.9410091896031, 185.5242872383915, 202.86351363545185, 146.71200241169822, 215.16404994524876, 111.78115587249495, 81.69914179269705, 80.7274594629908, 74.90869427026274, 71.01811128271895, 69.08600767792441, 68.11281488663893, 68.07684618054846, 61.3243538727771, 59.38376814933595, 59.37869757059985, 58.401773719831574, 57.43410827501338, 53.561789021034706, 52.59087702958964, 51.61794297192033, 52.570737519831084, 211.19396498691384, 50.64948573868812, 48.70977904619708, 48.70861196218659, 48.708036181398796, 47.739604404576674, 86.85008482714836, 45.79885654701154, 107.75922066163587, 76.30534892676266, 118.68058948549921, 79.1199128686444, 181.45035230064715, 135.83776495039032, 271.1812007996933, 96.5415633215082, 86.5538697505081, 316.04915470670375, 161.5659101473026, 158.71732968875926, 122.08432907834013, 103.66605337969048, 461.0524020033814, 263.7592350415446, 217.96276368653506, 149.18656237824246, 299.8295709180033, 164.07552928219786, 279.0171059642337, 538.5378050577359, 374.32185585221316, 174.3203982549892, 126.29408545274451, 313.28767296457295, 243.36577484465596, 279.2948932427389, 215.33032939392095, 300.75716967776106, 209.7141805440949, 264.8140140552294, 384.78521326602913, 881.4837793346547, 238.044552392074, 343.59175867939945, 195.29072802880611, 254.115844595452, 233.8803497830186, 251.9656324670219, 204.05169785767097, 187.25088108897958, 281.9888100068093, 133.19200491403936, 116.80320991386753, 111.98655672963005, 108.12934378249439, 92.64681072975831, 148.57164610195656, 58.97678659764747, 87.48401466788296, 268.8142238592275, 52.232102832107536, 49.34371758185669, 129.99256214983276, 126.19345221375404, 47.412264928518155, 48.3548919217183, 47.405867340744706, 180.0344293107801, 42.59768420197381, 97.49377814794447, 42.58866167501242, 41.63435896153788, 41.633710458133145, 41.629952019573366, 42.56277888546216, 38.739391600216045, 192.67923485481057, 37.76869534268013, 36.81411730063162, 46.252196268080475, 135.90564959996442, 210.49791209380302, 64.968901542634, 77.05124842690752, 741.5928376880876, 128.00346666399722, 83.52926301802576, 124.45376915240873, 161.8686518752567, 120.35733680119347, 100.10419950892042, 98.85220157894972, 92.3891335067491, 745.7171938986147, 246.69881400037698, 131.08776426332062, 134.35294916908302, 338.0907797562227, 178.62846313723026, 282.22374645693446, 599.0928943393664, 316.0473378920164, 202.34349376059654, 298.18707533019455, 191.5214667266731, 315.19820073823786, 378.0661798288048, 250.56983196635875, 646.3568567883603, 275.5435904440827, 188.41945018883303, 172.85606522831108, 207.47485633042018, 195.43020940527884, 201.14196665125394, 170.48389418503, 181.8620516613124, 161.8343772109448], \"Total\": [2957.0, 815.0, 1140.0, 935.0, 763.0, 624.0, 513.0, 794.0, 547.0, 545.0, 838.0, 672.0, 2002.0, 618.0, 436.0, 399.0, 398.0, 579.0, 547.0, 354.0, 368.0, 415.0, 368.0, 441.0, 283.0, 666.0, 2228.0, 469.0, 501.0, 324.0, 251.41364624929255, 224.7917915773487, 180.42332058879214, 173.52142353914604, 166.61963986609408, 155.77377901333213, 136.05367534821792, 126.19454025720032, 114.36282128046196, 111.4048235678274, 95.62924100244715, 92.6713127050712, 94.64306412324487, 90.69935387444289, 77.88163697782926, 547.11341017218, 67.03572491779798, 106.46295965106798, 57.176111518540644, 135.04140143568029, 53.23219895066987, 50.274248669015954, 50.273918359287215, 138.99891724377323, 48.30214664804197, 43.37242068137062, 264.1957887638697, 42.38639707486525, 42.38630676398218, 99.56339666472789, 763.9415235255963, 624.9327209051772, 291.7759253996435, 273.9141264635769, 323.28070580535393, 338.9433720868716, 97.58786945195648, 441.2701574324986, 618.1769315800722, 547.6040960024203, 203.93985682541233, 279.6208214205249, 2957.0788806226938, 224.4354634659726, 1140.3865196751055, 173.41017850925917, 332.5934697204131, 251.8229249068117, 547.2508158999717, 228.42859142944314, 7098.97986961264, 461.96431303403153, 360.8939187980954, 253.8008652919436, 413.93004328090257, 315.5999603487528, 2002.9114502724342, 891.8208570012644, 570.8262584042346, 437.35952783403576, 1864.7523999944583, 1031.0661330071068, 735.3684758190966, 654.1656747386163, 641.1808492513957, 513.2925350187901, 399.66210016448076, 257.6238361183059, 398.6814540334214, 239.01192634012213, 223.33870114061466, 183.17615676573845, 183.176165054177, 158.6868313322183, 133.21791578061783, 124.40163935201477, 118.52429837570736, 114.60599909031501, 113.62640074465725, 111.66727366683963, 161.62133701146772, 107.74897795464318, 104.81025736030794, 101.87153434054052, 100.89195560510868, 103.83029820632942, 99.91238340465095, 97.95323433808679, 368.31252790864136, 94.03493905683786, 92.07523290278078, 79.34132193298309, 81.3002662681402, 78.36172307597627, 76.40260376944588, 324.2565977149346, 181.1981737958848, 183.17051887312402, 368.3284197436676, 331.10111752613, 545.5933730437256, 297.86675644172465, 346.5544040314665, 177.33579714055554, 215.41728268311618, 210.53081674611377, 186.136616921126, 163.6360437716084, 161.57695200711558, 414.03042999777847, 345.97995278202217, 571.2637495617596, 324.3999151976127, 593.8608173484321, 2002.9114502724342, 794.1520480148756, 444.0347253432278, 316.24275484776564, 472.42637673004907, 7098.97986961264, 517.8364658190361, 1864.7523999944583, 858.2287606044271, 904.9596691539056, 417.99517467600236, 2957.0788806226938, 1031.0661330071068, 721.3006954953834, 1278.9776405553912, 2228.533885977131, 283.41165036063444, 247.2524776189965, 150.50107286798826, 97.72767868684944, 73.29529310459377, 175.9139725160263, 354.7604366800459, 59.613148913552415, 57.65855039041492, 73.29741328397573, 55.70395512883671, 55.704010236210486, 95.77210390717082, 50.81748428851361, 46.90828944637819, 45.93098600144688, 44.95372227238294, 44.953492654854465, 42.99911682333389, 42.999117672608826, 42.02181859548773, 65.47370713144343, 41.0445175352376, 54.729356135554006, 127.01912098030064, 36.15806011547411, 35.1807465432967, 33.22615426152862, 33.22619120060139, 32.24887409180482, 436.8885014593583, 293.20879875648654, 272.6842014454463, 157.35375614477138, 80.13700952373406, 81.11962647212229, 140.72283929559475, 68.4093793892543, 105.55296236890455, 186.53623764690022, 169.90620302384414, 415.83688459336406, 198.27293502486881, 257.130883142732, 374.8330301055484, 120.23365335475825, 469.86050744604415, 152.56863533415645, 106.54018441387679, 277.655301576103, 283.50535136780866, 181.89981925218245, 672.8412396035202, 208.37084187962938, 666.1469714155057, 233.68315318398825, 380.5113007224175, 611.6542468643232, 571.0182354006014, 231.1129795585831, 2228.533885977131, 7098.97986961264, 316.1432188267882, 424.7766405169859, 295.7693672257139, 440.5034467469853, 418.73555232118804, 783.7283788389924, 495.07670091685134, 1864.7523999944583, 1149.1986885505519, 333.99770140437744, 391.7429017033945, 972.8696335163083, 1140.3865196751055, 2957.0788806226938, 1031.0661330071068, 270.7252323330166, 186.30711759071232, 203.7720715547041, 147.4941828892933, 216.38417232015382, 112.56255016752986, 82.48253604522378, 81.51221134857994, 75.69027209277264, 71.80904985805925, 69.86833001507573, 68.89804617992428, 68.89778876697261, 62.10574785539286, 60.16510113139931, 60.16514871169026, 59.19486628595408, 58.22452268547183, 54.34316235328974, 53.37284150128313, 52.40250423669595, 53.372873051859216, 214.44744891241075, 51.432203365203115, 49.49154888050042, 49.49155996333947, 49.49155600462614, 48.52122233473809, 88.31339118483044, 46.580574852799565, 109.64409920649987, 77.62724671406296, 121.28316434922033, 80.53767605463531, 187.2877710180686, 139.76125510945937, 287.38680891248714, 99.99068432921669, 89.29328702981296, 352.34018886084624, 175.72903717834714, 173.60927938992063, 131.9076146390198, 110.58029004922419, 579.4687216064954, 312.6491398742375, 260.888224291688, 170.01780230051727, 388.36810499102694, 192.067855548287, 361.7090120421711, 838.3198161647695, 567.7509027430408, 216.69216335079213, 144.74768286843204, 501.4218318002016, 359.24282338197327, 454.1123519923003, 326.09158228906097, 548.9281880131484, 336.28489162196877, 585.4203826004749, 1278.9776405553912, 7098.97986961264, 627.9479137831065, 2228.533885977131, 362.5024103152522, 931.4528493305668, 712.7914716634043, 1149.1986885505519, 1864.7523999944583, 460.6295574331142, 283.37585318257055, 133.97674871181948, 117.5926439921411, 112.77370493861194, 108.91862259699833, 93.49923649083817, 150.384120948123, 59.76589838720292, 88.6886188409522, 272.8171858455726, 53.01946486997022, 50.128068972317486, 132.07003901941195, 128.21529961241464, 48.2005421352256, 49.16446383676101, 48.20069152723798, 183.167274690663, 43.38162954100146, 99.30384600981156, 43.38184538053216, 42.41784314232433, 42.41784368177873, 42.41791629279089, 43.38244092139448, 39.52652930326922, 196.69396316223546, 38.56298060777116, 37.598978532315115, 47.24136742258763, 138.8302702763514, 216.95353642344892, 66.52472869460757, 79.06919310221514, 815.7828253791101, 134.0130423542121, 86.78460760678546, 131.22010425993474, 172.68970661811144, 127.30955514738332, 105.1595804591038, 104.20235669960766, 97.41833890334588, 935.3357005365593, 284.6285214861621, 147.58304284875956, 154.4149939793785, 573.8544837210984, 247.8810412965476, 521.3132054106106, 2228.533885977131, 794.1520480148756, 417.0607628673461, 972.8696335163083, 395.2411159009059, 1149.1986885505519, 1864.7523999944583, 733.7157901290985, 7098.97986961264, 1278.9776405553912, 460.6295574331142, 396.93735051207943, 931.4528493305668, 735.3684758190966, 858.2287606044271, 446.0692789654516, 1031.0661330071068, 472.42637673004907], \"Category\": [\"Default\", \"Default\", \"Default\", \"Default\", \"Default\", \"Default\", \"Default\", \"Default\", \"Default\", \"Default\", \"Default\", \"Default\", \"Default\", \"Default\", \"Default\", \"Default\", \"Default\", \"Default\", \"Default\", \"Default\", \"Default\", \"Default\", \"Default\", \"Default\", \"Default\", \"Default\", \"Default\", \"Default\", \"Default\", \"Default\", \"Topic1\", \"Topic1\", \"Topic1\", \"Topic1\", \"Topic1\", \"Topic1\", \"Topic1\", \"Topic1\", \"Topic1\", \"Topic1\", \"Topic1\", \"Topic1\", \"Topic1\", \"Topic1\", \"Topic1\", \"Topic1\", \"Topic1\", \"Topic1\", \"Topic1\", \"Topic1\", \"Topic1\", \"Topic1\", \"Topic1\", \"Topic1\", \"Topic1\", \"Topic1\", \"Topic1\", \"Topic1\", \"Topic1\", \"Topic1\", \"Topic1\", \"Topic1\", \"Topic1\", \"Topic1\", \"Topic1\", \"Topic1\", \"Topic1\", \"Topic1\", \"Topic1\", \"Topic1\", \"Topic1\", \"Topic1\", \"Topic1\", \"Topic1\", \"Topic1\", \"Topic1\", \"Topic1\", \"Topic1\", \"Topic1\", \"Topic1\", \"Topic1\", \"Topic1\", \"Topic1\", \"Topic1\", \"Topic1\", \"Topic1\", \"Topic1\", \"Topic1\", \"Topic1\", \"Topic1\", \"Topic1\", \"Topic1\", \"Topic1\", \"Topic1\", \"Topic1\", \"Topic2\", \"Topic2\", \"Topic2\", \"Topic2\", \"Topic2\", \"Topic2\", \"Topic2\", \"Topic2\", \"Topic2\", \"Topic2\", \"Topic2\", \"Topic2\", \"Topic2\", \"Topic2\", \"Topic2\", \"Topic2\", \"Topic2\", \"Topic2\", \"Topic2\", \"Topic2\", \"Topic2\", \"Topic2\", \"Topic2\", \"Topic2\", \"Topic2\", \"Topic2\", \"Topic2\", \"Topic2\", \"Topic2\", \"Topic2\", \"Topic2\", \"Topic2\", \"Topic2\", \"Topic2\", \"Topic2\", \"Topic2\", \"Topic2\", \"Topic2\", \"Topic2\", \"Topic2\", \"Topic2\", \"Topic2\", \"Topic2\", \"Topic2\", \"Topic2\", \"Topic2\", \"Topic2\", \"Topic2\", \"Topic2\", \"Topic2\", \"Topic2\", \"Topic2\", \"Topic2\", \"Topic2\", \"Topic2\", \"Topic2\", \"Topic2\", \"Topic2\", \"Topic2\", \"Topic2\", \"Topic2\", \"Topic2\", \"Topic2\", \"Topic2\", \"Topic2\", \"Topic3\", \"Topic3\", \"Topic3\", \"Topic3\", \"Topic3\", \"Topic3\", \"Topic3\", \"Topic3\", \"Topic3\", \"Topic3\", \"Topic3\", \"Topic3\", \"Topic3\", \"Topic3\", \"Topic3\", \"Topic3\", \"Topic3\", \"Topic3\", \"Topic3\", \"Topic3\", \"Topic3\", \"Topic3\", \"Topic3\", \"Topic3\", \"Topic3\", \"Topic3\", \"Topic3\", \"Topic3\", \"Topic3\", \"Topic3\", \"Topic3\", \"Topic3\", \"Topic3\", \"Topic3\", \"Topic3\", \"Topic3\", \"Topic3\", \"Topic3\", \"Topic3\", \"Topic3\", \"Topic3\", \"Topic3\", \"Topic3\", \"Topic3\", \"Topic3\", \"Topic3\", \"Topic3\", \"Topic3\", \"Topic3\", \"Topic3\", \"Topic3\", \"Topic3\", \"Topic3\", \"Topic3\", \"Topic3\", \"Topic3\", \"Topic3\", \"Topic3\", \"Topic3\", \"Topic3\", \"Topic3\", \"Topic3\", \"Topic3\", \"Topic3\", \"Topic3\", \"Topic3\", \"Topic3\", \"Topic3\", \"Topic3\", \"Topic3\", \"Topic3\", \"Topic3\", \"Topic3\", \"Topic3\", \"Topic3\", \"Topic3\", \"Topic3\", \"Topic4\", \"Topic4\", \"Topic4\", \"Topic4\", \"Topic4\", \"Topic4\", \"Topic4\", \"Topic4\", \"Topic4\", \"Topic4\", \"Topic4\", \"Topic4\", \"Topic4\", \"Topic4\", \"Topic4\", \"Topic4\", \"Topic4\", \"Topic4\", \"Topic4\", \"Topic4\", \"Topic4\", \"Topic4\", \"Topic4\", \"Topic4\", \"Topic4\", \"Topic4\", \"Topic4\", \"Topic4\", \"Topic4\", \"Topic4\", \"Topic4\", \"Topic4\", \"Topic4\", \"Topic4\", \"Topic4\", \"Topic4\", \"Topic4\", \"Topic4\", \"Topic4\", \"Topic4\", \"Topic4\", \"Topic4\", \"Topic4\", \"Topic4\", \"Topic4\", \"Topic4\", \"Topic4\", \"Topic4\", \"Topic4\", \"Topic4\", \"Topic4\", \"Topic4\", \"Topic4\", \"Topic4\", \"Topic4\", \"Topic4\", \"Topic4\", \"Topic4\", \"Topic4\", \"Topic4\", \"Topic4\", \"Topic4\", \"Topic4\", \"Topic4\", \"Topic4\", \"Topic4\", \"Topic4\", \"Topic4\", \"Topic4\", \"Topic4\", \"Topic4\", \"Topic4\", \"Topic5\", \"Topic5\", \"Topic5\", \"Topic5\", \"Topic5\", \"Topic5\", \"Topic5\", \"Topic5\", \"Topic5\", \"Topic5\", \"Topic5\", \"Topic5\", \"Topic5\", \"Topic5\", \"Topic5\", \"Topic5\", \"Topic5\", \"Topic5\", \"Topic5\", \"Topic5\", \"Topic5\", \"Topic5\", \"Topic5\", \"Topic5\", \"Topic5\", \"Topic5\", \"Topic5\", \"Topic5\", \"Topic5\", \"Topic5\", \"Topic5\", \"Topic5\", \"Topic5\", \"Topic5\", \"Topic5\", \"Topic5\", \"Topic5\", \"Topic5\", \"Topic5\", \"Topic5\", \"Topic5\", \"Topic5\", \"Topic5\", \"Topic5\", \"Topic5\", \"Topic5\", \"Topic5\", \"Topic5\", \"Topic5\", \"Topic5\", \"Topic5\", \"Topic5\", \"Topic5\", \"Topic5\", \"Topic5\", \"Topic5\", \"Topic5\", \"Topic5\", \"Topic5\", \"Topic5\", \"Topic5\", \"Topic5\", \"Topic5\", \"Topic5\", \"Topic5\", \"Topic5\", \"Topic5\", \"Topic5\"], \"logprob\": [30.0, 29.0, 28.0, 27.0, 26.0, 25.0, 24.0, 23.0, 22.0, 21.0, 20.0, 19.0, 18.0, 17.0, 16.0, 15.0, 14.0, 13.0, 12.0, 11.0, 10.0, 9.0, 8.0, 7.0, 6.0, 5.0, 4.0, 3.0, 2.0, 1.0, -5.9844, -6.0968, -6.3174, -6.3566, -6.3974, -6.4651, -6.6013, -6.6768, -6.7759, -6.8023, -6.9561, -6.9878, -6.9668, -7.0095, -7.1633, -5.2156, -7.3152, -6.8529, -7.476, -6.6174, -7.5485, -7.6066, -7.6069, -6.5905, -7.6476, -7.7567, -5.95, -7.7802, -7.7803, -6.9267, -4.8929, -5.1009, -5.8596, -5.927, -5.7655, -5.7267, -6.9512, -5.4792, -5.1663, -5.3318, -6.2618, -5.9688, -3.8101, -6.1859, -4.7347, -6.4326, -5.88, -6.1177, -5.5157, -6.2221, -3.6518, -5.7225, -5.91, -6.1739, -5.8613, -6.0385, -4.9408, -5.4452, -5.7235, -5.9254, -5.4458, -5.7175, -5.8505, -5.9079, -5.9169, -5.1497, -5.4002, -5.8404, -5.4037, -5.9156, -5.9837, -6.1827, -6.1827, -6.3268, -6.5027, -6.5717, -6.6203, -6.6542, -6.6629, -6.6803, -6.3107, -6.7163, -6.7442, -6.7728, -6.7826, -6.7539, -6.7924, -6.8124, -5.488, -6.8535, -6.8751, -7.025, -7.0006, -7.0377, -7.0631, -5.6201, -6.2, -6.1963, -5.5067, -5.619, -5.1358, -5.7482, -5.6061, -6.2498, -6.0677, -6.1104, -6.2256, -6.3458, -6.3609, -5.5671, -5.7489, -5.3542, -5.8189, -5.3662, -4.4892, -5.2204, -5.6826, -5.8933, -5.6739, -4.128, -5.6668, -5.2257, -5.5805, -5.613, -5.925, -5.467, -5.7311, -5.8271, -5.833, -5.8448, -5.6458, -5.7824, -6.2811, -6.7147, -7.0051, -6.1298, -5.4301, -7.2142, -7.2479, -7.0083, -7.283, -7.283, -6.7422, -7.3762, -7.4574, -7.4789, -7.5008, -7.5014, -7.546, -7.5461, -7.5694, -7.1261, -7.5934, -7.3065, -6.4663, -7.7229, -7.7508, -7.8093, -7.8098, -7.84, -5.2482, -5.6443, -5.7164, -6.2661, -6.9351, -6.927, -6.395, -7.1027, -6.6915, -6.1542, -6.244, -5.4038, -6.1008, -5.8774, -5.5401, -6.585, -5.3481, -6.3741, -6.6986, -5.8495, -5.8398, -6.2314, -5.1064, -6.1372, -5.1858, -6.0694, -5.7445, -5.4013, -5.4598, -6.1157, -4.5699, -3.9332, -5.9327, -5.8207, -6.006, -5.8366, -5.858, -5.6262, -5.8123, -5.3534, -5.6047, -5.9799, -5.9483, -5.7485, -5.7157, -5.605, -5.8285, -5.6102, -5.9853, -5.8959, -6.22, -5.837, -6.4919, -6.8054, -6.8174, -6.8922, -6.9455, -6.9731, -6.9873, -6.9878, -7.0923, -7.1244, -7.1245, -7.1411, -7.1578, -7.2276, -7.2459, -7.2646, -7.2463, -5.8557, -7.2835, -7.3226, -7.3226, -7.3226, -7.3427, -6.7443, -7.3842, -6.5285, -6.8737, -6.432, -6.8375, -6.0075, -6.297, -5.6057, -6.6385, -6.7477, -5.4525, -6.1235, -6.1413, -6.4037, -6.5673, -5.0749, -5.6334, -5.8241, -6.2032, -5.5052, -6.1081, -5.5772, -4.9196, -5.2833, -6.0475, -6.3698, -5.4613, -5.7139, -5.5762, -5.8363, -5.5021, -5.8627, -5.6294, -5.2558, -4.4268, -5.736, -5.369, -5.934, -5.6707, -5.7536, -5.6791, -5.8901, -5.976, -5.5141, -6.2641, -6.3954, -6.4376, -6.4726, -6.6271, -6.1549, -7.0788, -6.6845, -5.5619, -7.2002, -7.2571, -6.2885, -6.3181, -7.2971, -7.2774, -7.2972, -5.9628, -7.4041, -6.5761, -7.4043, -7.427, -7.427, -7.4271, -7.405, -7.4991, -5.8949, -7.5245, -7.5501, -7.3218, -6.244, -5.8065, -6.982, -6.8115, -4.5471, -6.3039, -6.7307, -6.332, -6.0692, -6.3655, -6.5497, -6.5623, -6.6299, -4.5416, -5.6478, -6.2801, -6.2555, -5.3326, -5.9706, -5.5132, -4.7605, -5.4, -5.846, -5.4582, -5.9009, -5.4027, -5.2209, -5.6322, -4.6846, -5.5372, -5.9173, -6.0035, -5.8209, -5.8807, -5.8519, -6.0173, -5.9527, -6.0694], \"loglift\": [30.0, 29.0, 28.0, 27.0, 26.0, 25.0, 24.0, 23.0, 22.0, 21.0, 20.0, 19.0, 18.0, 17.0, 16.0, 15.0, 14.0, 13.0, 12.0, 11.0, 10.0, 9.0, 8.0, 7.0, 6.0, 5.0, 4.0, 3.0, 2.0, 1.0, 1.4161, 1.4157, 1.4149, 1.4147, 1.4145, 1.4142, 1.4133, 1.413, 1.4124, 1.4122, 1.411, 1.4108, 1.4107, 1.4106, 1.4092, 1.4074, 1.4073, 1.4069, 1.4055, 1.4047, 1.4045, 1.4036, 1.4033, 1.4027, 1.4026, 1.4011, 1.4009, 1.4006, 1.4005, 1.4002, 1.3963, 1.389, 1.3921, 1.3878, 1.3836, 1.3751, 1.3956, 1.3588, 1.3345, 1.2903, 1.348, 1.3254, 1.1256, 1.3282, 1.1538, 1.3394, 1.2407, 1.2812, 1.107, 1.2743, 0.4082, 1.0697, 1.1291, 1.2172, 1.0407, 1.1347, 0.3845, 0.6892, 0.8571, 0.9215, -0.0491, 0.2718, 0.4768, 0.5364, 0.5474, 1.5371, 1.5368, 1.5358, 1.5357, 1.5355, 1.5352, 1.5345, 1.5345, 1.5339, 1.5329, 1.5325, 1.5322, 1.532, 1.5319, 1.5318, 1.5317, 1.5315, 1.5313, 1.5311, 1.531, 1.531, 1.531, 1.5308, 1.5307, 1.5305, 1.5299, 1.5289, 1.5289, 1.5286, 1.5285, 1.526, 1.5281, 1.5209, 1.512, 1.5062, 1.49, 1.4828, 1.4735, 1.4998, 1.4873, 1.4676, 1.4756, 1.4842, 1.4818, 1.3346, 1.3323, 1.2255, 1.3268, 1.1748, 0.8361, 1.0299, 1.1491, 1.2778, 1.0958, -0.0681, 1.0112, 0.1711, 0.5923, 0.5067, 0.9672, -0.5313, 0.2582, 0.5195, -0.0592, -0.6263, 1.6349, 1.6348, 1.6325, 1.6308, 1.6281, 1.6279, 1.6261, 1.6256, 1.6252, 1.6248, 1.6246, 1.6246, 1.6235, 1.6232, 1.622, 1.6216, 1.6212, 1.6206, 1.6204, 1.6204, 1.6201, 1.6199, 1.6196, 1.6187, 1.617, 1.6168, 1.6163, 1.615, 1.6145, 1.6142, 1.5997, 1.6024, 1.6029, 1.6031, 1.6088, 1.6048, 1.5859, 1.5994, 1.5769, 1.5448, 1.5484, 1.4936, 1.5372, 1.5007, 1.4611, 1.5532, 1.4271, 1.5259, 1.5605, 1.4518, 1.4407, 1.4928, 1.3098, 1.4511, 1.2403, 1.4042, 1.2416, 1.1102, 1.1205, 1.369, 0.6486, 0.1267, 1.2387, 1.0553, 1.232, 1.0031, 1.0324, 0.6374, 0.9107, 0.0434, 0.2761, 1.1366, 1.0087, 0.2989, 0.1728, -0.6693, 0.1608, 1.7163, 1.715, 1.7147, 1.7139, 1.7135, 1.7122, 1.7097, 1.7095, 1.7088, 1.7081, 1.7079, 1.7077, 1.7072, 1.7065, 1.7061, 1.706, 1.7057, 1.7055, 1.7047, 1.7044, 1.7041, 1.7041, 1.7039, 1.7039, 1.7033, 1.7033, 1.7032, 1.703, 1.7025, 1.7023, 1.7019, 1.702, 1.6975, 1.7014, 1.6875, 1.6907, 1.6612, 1.6841, 1.688, 1.6105, 1.6352, 1.6295, 1.6418, 1.6546, 1.4906, 1.5492, 1.5394, 1.5885, 1.4605, 1.5617, 1.4596, 1.2767, 1.3026, 1.5016, 1.5828, 1.2489, 1.3298, 1.2331, 1.3042, 1.1175, 1.247, 0.9259, 0.5181, -0.3669, 0.7492, -0.1504, 1.1007, 0.4202, 0.6048, 0.2017, -0.4933, 0.8191, 1.7668, 1.7658, 1.765, 1.7647, 1.7644, 1.7625, 1.7596, 1.7584, 1.758, 1.7569, 1.7567, 1.7559, 1.7558, 1.7558, 1.7552, 1.7551, 1.7551, 1.7545, 1.7535, 1.7533, 1.7533, 1.7531, 1.753, 1.753, 1.7526, 1.7516, 1.7511, 1.7509, 1.7506, 1.7505, 1.7504, 1.7415, 1.748, 1.7459, 1.6764, 1.7258, 1.7335, 1.7188, 1.707, 1.7155, 1.7224, 1.719, 1.7187, 1.5451, 1.6287, 1.6532, 1.6325, 1.2426, 1.4441, 1.1581, 0.458, 0.8503, 1.0484, 0.5892, 1.0472, 0.4781, 0.1759, 0.6973, -0.6247, 0.2366, 0.8778, 0.9404, 0.27, 0.4465, 0.3208, 0.8099, 0.0366, 0.7004]}, \"token.table\": {\"Topic\": [1, 2, 3, 4, 5, 5, 1, 2, 3, 4, 5, 1, 2, 3, 4, 5, 1, 3, 2, 3, 4, 1, 5, 5, 1, 5, 2, 5, 2, 3, 5, 2, 4, 1, 2, 4, 5, 2, 5, 1, 2, 5, 1, 5, 2, 4, 2, 5, 2, 3, 4, 4, 1, 2, 3, 4, 5, 1, 2, 3, 4, 5, 1, 4, 1, 3, 1, 2, 3, 4, 5, 1, 2, 3, 4, 5, 1, 2, 3, 4, 5, 2, 1, 4, 5, 2, 1, 2, 3, 4, 5, 1, 3, 2, 1, 2, 4, 5, 4, 5, 4, 1, 5, 4, 5, 1, 3, 2, 5, 4, 1, 2, 3, 4, 5, 1, 2, 3, 3, 4, 5, 4, 5, 2, 5, 1, 1, 2, 3, 1, 2, 3, 4, 5, 1, 2, 2, 5, 1, 3, 1, 1, 3, 5, 1, 2, 4, 5, 1, 2, 3, 5, 3, 4, 3, 5, 1, 2, 3, 1, 2, 3, 4, 5, 1, 3, 5, 1, 2, 3, 4, 5, 1, 1, 3, 1, 2, 3, 4, 2, 2, 3, 1, 2, 3, 4, 5, 1, 3, 2, 5, 1, 2, 4, 5, 4, 4, 1, 3, 3, 3, 1, 3, 1, 3, 5, 5, 1, 3, 4, 5, 3, 2, 3, 4, 1, 2, 3, 4, 5, 3, 4, 4, 4, 5, 5, 1, 1, 2, 3, 5, 2, 1, 2, 5, 1, 2, 5, 1, 2, 3, 4, 5, 1, 2, 3, 4, 1, 2, 3, 4, 5, 1, 4, 5, 1, 3, 4, 5, 1, 2, 3, 4, 5, 1, 2, 3, 2, 2, 1, 2, 4, 5, 2, 1, 2, 3, 4, 5, 2, 4, 3, 4, 4, 3, 1, 2, 3, 4, 5, 4, 3, 1, 2, 3, 4, 1, 2, 3, 4, 5, 2, 1, 2, 3, 1, 2, 3, 1, 2, 3, 4, 5, 4, 5, 1, 2, 3, 4, 5, 1, 3, 4, 5, 3, 1, 1, 2, 3, 4, 5, 1, 2, 3, 4, 5, 3, 1, 2, 3, 4, 5, 2, 4, 5, 1, 2, 3, 1, 2, 3, 4, 5, 3, 5, 2, 1, 2, 3, 4, 5, 1, 2, 3, 4, 5, 1, 2, 3, 4, 1, 1, 2, 3, 4, 5, 5, 1, 3, 5, 3, 1, 2, 3, 4, 5, 1, 3, 4, 5, 1, 2, 4, 5, 3, 1, 1, 1, 2, 3, 4, 5, 1, 2, 3, 4, 5, 1, 5, 1, 2, 2, 1, 2, 3, 4, 5, 1, 5, 1, 2, 3, 1, 2, 3, 1, 2, 4, 5, 4, 5, 2, 1, 3, 5, 1, 3, 1, 2, 3, 4, 5, 2, 2, 4, 1, 5, 1, 1, 2, 3, 4, 5, 2, 5, 5, 1, 4, 1, 2, 3, 4, 2, 3, 1, 2, 3, 4, 5, 1, 4, 1, 5, 1, 5, 1, 1, 2, 3, 4, 5, 3, 4, 1, 2, 3, 4, 5, 3, 4, 5, 1, 2, 3, 5, 1, 2, 3, 4, 5, 1, 5, 1, 5, 1, 2, 5, 2, 5, 1, 2, 3, 4, 5, 1, 2, 4, 2, 1, 2, 3, 4, 5, 1, 2, 3, 4, 5, 1, 2, 3, 4, 5, 1, 2, 4, 5, 1, 3, 4, 5, 2, 1, 4, 1, 2, 3, 1, 3, 5, 1, 2, 4, 5, 2, 3, 1, 2, 3, 4, 5, 5, 4, 5, 5, 1, 2, 3, 4, 5, 1, 2, 3, 4, 1, 2, 3, 4, 5, 4, 3, 1, 2, 3, 4, 5, 4, 5, 2, 3, 4, 5, 4, 1, 3, 5, 4, 4, 3, 1, 2, 3, 4, 5, 1, 2, 3, 5, 1, 2, 3, 4, 5, 1, 2, 3, 4, 5, 1, 2, 4, 5, 3, 4, 5, 3, 1, 2, 3, 4, 5, 1, 3, 3, 2, 4, 4, 1, 2, 3, 4, 5, 1, 2, 3, 5, 1, 2, 3, 4, 5, 1, 3, 5, 2, 5, 1, 2, 3, 5, 1, 2, 4, 5, 3, 2, 3, 2, 5, 1, 2, 2, 4, 5, 3, 1, 2, 4, 5, 1, 5, 4, 5, 1, 2, 3, 4, 5, 2, 3, 4, 3, 1, 2, 3, 1, 3, 4, 1, 2, 4, 5, 1, 2, 3, 4, 1, 5, 1, 2, 3, 4, 5, 1, 2, 3, 4, 5, 1, 2, 4, 5, 1, 1, 4, 2, 3, 1, 2, 3, 4, 5, 1, 2, 3, 5, 5, 1, 2, 3, 4, 5, 1, 2, 3, 4, 5, 1, 2, 3, 4, 5, 2, 1, 2, 3, 4, 5, 1, 3, 4, 5, 1, 2, 4, 5, 2, 3, 4, 1, 5, 1, 3, 4, 5, 1, 2, 3, 4, 5, 2, 2, 4, 1, 1, 2, 4, 5, 2, 2, 1, 2, 3, 4, 5, 1, 2, 3, 4, 5, 1, 2, 3, 4, 5, 1, 2, 3, 4, 5, 3, 4, 3, 4], \"Freq\": [0.2705018801463522, 0.22584355087690722, 0.3674742522742897, 0.02424309303198439, 0.11100784704119168, 0.986679090915638, 0.03923785393960269, 0.17003070040494497, 0.590202719674857, 0.04250767510123624, 0.1602212369200443, 0.04237521154198266, 0.24718873399489885, 0.5579402853027717, 0.05650028205597688, 0.09652131517896051, 0.018271729664116526, 0.9866734018622925, 0.994730496742483, 0.9814966588925679, 0.010441453818006041, 0.015252120358801075, 0.9812197430828691, 0.9737228727635413, 0.006649638231053418, 0.9907960964269593, 0.01637847156412884, 0.9827082938477304, 0.16927463561187464, 0.8283652381006632, 0.9911980374006054, 0.9935790946458025, 0.9966494753920957, 0.9927559814847161, 0.041060030842535934, 0.010265007710633984, 0.9443807093783264, 0.015032004182845454, 0.9770802718849545, 0.0036654582331409544, 0.010996374699422863, 0.9860082647149168, 0.0035288821851582747, 0.9951447762146335, 0.021465176437135136, 0.9730879984834595, 0.027655691162780712, 0.967949190697325, 0.008456410833391952, 0.9865812638957278, 0.002818803611130651, 0.9900678813860653, 0.39028053205615393, 0.19038074734446533, 0.03127683706373359, 0.12238762329287058, 0.26517318380121957, 0.043834529117706265, 0.01710615770447074, 0.049180203400353374, 0.09301473251805964, 0.7975746029709482, 0.9888260641056923, 0.010966647661061283, 0.9934199937607887, 0.9630956436385282, 0.055268587665555764, 0.020725720374583412, 0.027634293832777882, 0.8704802557325032, 0.020725720374583412, 0.6081952788757781, 0.0548747620038296, 0.0137186905009574, 0.029723829418741035, 0.29266539735375785, 0.3260995467515542, 0.03452818730310574, 0.07289283986211212, 0.024937024163354145, 0.5409416010819899, 0.9957662098472772, 0.9404669520700204, 0.04758989396016971, 0.01133092713337374, 0.9908577177965802, 0.10249367082122601, 0.18659104175146274, 0.6727789674418938, 0.015768257049419386, 0.02102434273255918, 0.9842974756075016, 0.010043851791913281, 0.9883222353190669, 0.7509506646898937, 0.14258556924491653, 0.07287706872517956, 0.031685682054425894, 0.9404931019235434, 0.05425921741866597, 0.9915966391302705, 0.0479835596656791, 0.950074481380446, 0.985005128243122, 0.009120417854102982, 0.980333567055781, 0.015140286749896231, 0.007571740020861338, 0.984326202711974, 0.9983515520250439, 0.24063375844794213, 0.13620778780072196, 0.5289402426261369, 0.07718441308707578, 0.015890908576750896, 0.003410538852316339, 0.03069484967084705, 0.9651824952055239, 0.07095415394090493, 0.8968605058130383, 0.03121982773399817, 0.9936031720559216, 0.004621410102585682, 0.0077993812206727745, 0.9827220338047696, 0.9905341367798821, 0.004776284193958087, 0.4489707142320602, 0.544496398111222, 0.0030023404531137774, 0.23718489579598842, 0.6710230912709293, 0.016512872492125776, 0.07205617087473065, 0.012335909363721075, 0.9868727490976861, 0.9930488625612908, 0.975089744790083, 0.9856191883835499, 0.014388601290270801, 0.9963661935375632, 0.9746540484890175, 0.9767642477998126, 0.9901493543431159, 0.009284306138714256, 0.9516413792182113, 0.02785291841614277, 0.009284306138714256, 0.9316472167706488, 0.004903406404056046, 0.04903406404056046, 0.009806812808112093, 0.9806369096571625, 0.9973211498360651, 0.9885784435100123, 0.9807718755277811, 0.006324255557926596, 0.7715591780670448, 0.2245110723063942, 0.18634670770696302, 0.04339580864408728, 0.5335131768596613, 0.1735832345763491, 0.06381736565306953, 0.09831640669228599, 0.891402087343393, 0.0065544271128190655, 0.02366708921095946, 0.14538354801017955, 0.6660595106512877, 0.08114430586614672, 0.08114430586614672, 0.9886797836814828, 0.9734816482162211, 0.02049435048876255, 0.992289318009795, 0.04736958478270979, 0.9379177786976539, 0.009473916956541959, 0.9956717811651278, 0.9957824623733803, 0.002508268167187356, 0.179829911316436, 0.14386392905314882, 0.13906846475137719, 0.0527501073194879, 0.48434189447893433, 0.2336519571645778, 0.761532304832698, 0.9967714303918596, 0.9911844305375201, 0.011522780681695594, 0.011522780681695594, 0.011522780681695594, 0.9679135772624299, 0.9875361166186923, 0.9806341588670607, 0.16007127222247391, 0.8377063246309469, 0.9959711859781721, 0.978784353682568, 0.13466818859698057, 0.865724069552018, 0.9697043853332654, 0.027202928301428238, 0.0016001722530251904, 0.9901476468125824, 0.10181740238960753, 0.07593162212106325, 0.7955563135865944, 0.025885780268544288, 0.9966706359068432, 0.0284246680924183, 0.9451202140729084, 0.01421233404620915, 0.26864524174474835, 0.10503422985508958, 0.4827534795262771, 0.07675578335564238, 0.06665633817726839, 0.9925540164605653, 0.9930143966332733, 0.9892578482227368, 0.9809073699420855, 0.012416548986608676, 0.9927095654939317, 0.9845496573794342, 0.17713490805786303, 0.12968805768522115, 0.6705821519333386, 0.025304986865409003, 0.9920033148255101, 0.03800030968486459, 0.05271010698223153, 0.9095557995538558, 0.024205158928721854, 0.2501199755967925, 0.7221205747068686, 0.07237444510437693, 0.005567265008028994, 0.07794171011240592, 0.6764226984755228, 0.16701795024086982, 0.05055790981273832, 0.05055790981273832, 0.8711516767733373, 0.023334419913571533, 0.019263833128346387, 0.33098767829613335, 0.5954275694216156, 0.045532696485182364, 0.008756287785611994, 0.005760060772754165, 0.9158496628679123, 0.08064085081855832, 0.014617878555949586, 0.9647799846926727, 0.014617878555949586, 0.9854010089754912, 0.011894676506896299, 0.02973669126724075, 0.2468145375180982, 0.6244705166120557, 0.08921007380172224, 0.01232747293706612, 0.01232747293706612, 0.9615428890911574, 0.9911592990763328, 0.9908681649505272, 0.007157173055325602, 0.27912974915769845, 0.6429527128034166, 0.07157173055325602, 0.9840066173479465, 0.011787273710454172, 0.6954491489167961, 0.001683896244350596, 0.2643717103630436, 0.026942339909609536, 0.989968298484298, 0.9936852708155111, 0.9774916192161709, 0.01527330655025267, 0.9887333162093294, 0.9756836179479997, 0.7481422820844298, 0.03879256277474821, 0.1717956351453135, 0.008312692023160331, 0.03047987075158788, 0.9869655784203362, 0.9822993305514184, 0.02940868504559412, 0.07058084410942589, 0.017645211027356472, 0.8763788143587048, 0.15128643302223477, 0.1640263431714756, 0.10351176996258168, 0.3790123269399145, 0.20065358485054297, 0.9947123266222961, 0.7672837103066478, 0.0017537913378437664, 0.23062356092645528, 0.0022889135252121655, 0.03662261640339465, 0.9613436805891095, 0.039637767880634965, 0.09248812505481491, 0.16956156260049401, 0.6143854021498419, 0.08367973219245159, 0.9923189885186043, 0.9871850267816452, 0.41797879695393386, 0.2542184474010867, 0.042109804170732144, 0.19963166421680426, 0.08577923071815807, 0.9559118917273249, 0.005900690689674845, 0.029503453448374226, 0.005900690689674845, 0.9873615879139552, 0.9922554437024863, 0.18642740448721784, 0.13100304099101795, 0.19398527223669965, 0.052905074246372634, 0.4358370402201174, 0.010721777308416915, 0.016082665962625375, 0.9113510712154379, 0.005360888654208458, 0.05360888654208458, 0.9797307638591177, 0.12717499856912615, 0.8121857863164647, 0.04335511314856573, 0.011561363506284195, 0.0057806817531420975, 0.004663147102339471, 0.9839240385936284, 0.009326294204678943, 0.04364367529729136, 0.9467320333720126, 0.00671441158419867, 0.020174210864928648, 0.020174210864928648, 0.9027959362055569, 0.005043552716232162, 0.05547907987855378, 0.9762309724945358, 0.015745660846686063, 0.9956980558847836, 0.04158015597045693, 0.01599236768094497, 0.038381682434267934, 0.8443970135538945, 0.060770997187590894, 0.8156000562168721, 0.031520775119492646, 0.07880193779873161, 0.043341065789302385, 0.031520775119492646, 0.10558099109043696, 0.062388767462530935, 0.830250520847527, 0.004799135958656226, 0.974660452161635, 0.16211233892142085, 0.2598091789336679, 0.08266655693343977, 0.2726922787155026, 0.2222334712366498, 0.9931393143549455, 0.977823533603186, 0.018326010000595187, 0.003927002142984683, 0.9745515942697862, 0.8358552566702352, 0.042093430192026236, 0.048106777362315695, 0.05412012453260516, 0.018040041510868386, 0.9119492557977383, 0.03933898750500048, 0.01072881477409104, 0.03933898750500048, 0.005339376909470106, 0.005339376909470106, 0.9664272206140891, 0.016018130728410317, 0.9664377064357187, 0.9962811114788626, 0.9969950480550984, 0.1677874322209672, 0.3880084370109867, 0.04544242955984529, 0.16429186071636373, 0.23420329080843338, 0.2219386195561511, 0.08294675680381405, 0.28246733398055596, 0.031385259331172886, 0.38110672044995647, 0.9674564923734875, 0.029206233732029813, 0.9968274542687944, 0.9953839315704485, 0.9902684751092885, 0.2563650159314934, 0.3558169617669865, 0.08729670801115508, 0.16022813495718338, 0.13923272416969038, 0.9794300191582762, 0.9774962611677612, 0.005944938812545212, 0.27346718537707976, 0.7193375963179707, 0.008317138938209142, 0.06653711150567314, 0.9148852832030056, 0.038275939113648176, 0.00347963082851347, 0.9429799545271504, 0.010438892485540412, 0.993716139703418, 0.975092766968108, 0.997578500003317, 0.8783718082303644, 0.1186988930041033, 0.001826136815447743, 0.9226678697609256, 0.0749667644180752, 0.04153357399192305, 0.0830671479838461, 0.03691873243726493, 0.8029824305105122, 0.03691873243726493, 0.9974818745050661, 0.9922692932856514, 0.9821957243318687, 0.9862585104165541, 0.009392938194443373, 0.9976537368483704, 0.7456683061277273, 0.12613799464201464, 0.0994224408170303, 0.01217417642657514, 0.01690857837024325, 0.6006406470805514, 0.39790868863197953, 0.9946605286890542, 0.990883936792675, 0.9806349343807342, 0.004830562816387026, 0.8163651159694073, 0.12076407040967564, 0.05796675379664431, 0.9826908888361007, 0.01637818148060168, 0.2300573523869844, 0.2547255067221855, 0.20270787692839184, 0.1093979018343702, 0.20270787692839184, 0.011323311069632774, 0.9851280630580515, 0.03803742828315663, 0.9509357070789157, 0.010070103426821924, 0.9768000324017265, 0.9937446538299097, 0.1117598954570297, 0.26440755754468004, 0.12675207655492393, 0.15537351319635836, 0.34209431414285923, 0.9950190814003653, 0.003528436458866544, 0.0694701403408021, 0.11071803616815333, 0.0021709418856500655, 0.4059661326165622, 0.40813707450221226, 0.006775846199517529, 0.10163769299276293, 0.8876358521367962, 0.015101126922670105, 0.9664721230508867, 0.015101126922670105, 0.003020225384534021, 0.15999893614379002, 0.19861936900608415, 0.041379035209600866, 0.5379274577248112, 0.06344785398805466, 0.04572470075252007, 0.9449771488854147, 0.9950326748299153, 0.9763149285909568, 0.9188307925826042, 0.012941278768769073, 0.06794171353603763, 0.9878686757717493, 0.00551881941771927, 0.35548251516718543, 0.4952790098958539, 0.056917144282386437, 0.023465840186597916, 0.06889970097341516, 0.016289810067264442, 0.9746736356913225, 0.008144905033632221, 0.9984834641784658, 0.7056822157082608, 0.07792809744017605, 0.1558561948803521, 0.02381136310672046, 0.0367993793467498, 0.03643463833109066, 0.21132090232032585, 0.007286927666218132, 0.5483413068829145, 0.1985687789044441, 0.001994328799784816, 0.3609735127610517, 0.003988657599569632, 0.6242249143326475, 0.007977315199139265, 0.8696587099091238, 0.019855221687422916, 0.043681487712330415, 0.06353670939975334, 0.8667916689455142, 0.11819886394711557, 0.008755471403490043, 0.008755471403490043, 0.9889941008393455, 0.030002794961604413, 0.9700903704252094, 0.9914134218122951, 0.0330052124482927, 0.9644856526556645, 0.9651055395426351, 0.030932869857135743, 0.003093286985713574, 0.006476055039924077, 0.038856330239544455, 0.084188715519013, 0.8677913753498262, 0.03177553636152042, 0.9659763053902207, 0.7327535900344753, 0.054819470576145286, 0.11877551958164811, 0.005481947057614529, 0.08771115292183246, 0.9901493417507637, 0.990067802192867, 0.9912029689746724, 0.9840692871004377, 0.04279298641663994, 0.1412168551749118, 0.7916702487078389, 0.008558597283327989, 0.012837895924991983, 0.0769654420634177, 0.04947778418362567, 0.8631124574254699, 0.010995063151916814, 0.1012040458109341, 0.07590303435820057, 0.24794991223678856, 0.0910836412298407, 0.4857794198924837, 0.990880306363193, 0.9679722830324488, 0.07407267587254615, 0.06349086503361098, 0.8218539751572977, 0.017636351398225274, 0.024690891957515386, 0.9811749276045748, 0.016490334917723944, 0.01570973991453074, 0.023564609871796108, 0.01570973991453074, 0.9425843948718443, 0.9950023327768196, 0.01765680090902266, 0.9122680469661708, 0.07062720363609064, 0.9798146974404502, 0.9962111021946556, 0.9630967143570889, 0.36385509572390756, 0.20045133612664362, 0.2204542101463087, 0.12410233810792201, 0.0909989902584763, 0.0021282912357021913, 0.13195405661353588, 0.8087506695668327, 0.055335572128256974, 0.569350122239557, 0.12788479668765437, 0.1261329501576865, 0.10511079179807208, 0.07007386119871473, 0.41426814408793755, 0.28280297659139647, 0.10394920220656736, 0.0794905663932574, 0.12076451432821796, 0.023749492246684576, 0.9309800960700353, 0.023749492246684576, 0.01899959379734766, 0.042163650850340295, 0.8356068986703804, 0.11882483421459537, 0.9787893532060963, 0.06491062000814109, 0.1366539368592444, 0.16056837580961217, 0.4526661658462471, 0.1861909889707205, 0.9733496675951148, 0.023991012933682408, 0.9897145357236276, 0.022398100311082136, 0.9743173635320729, 0.9930138096276564, 0.21394723110127786, 0.6778749111735225, 0.04954567457082224, 0.05179775068767779, 0.009008304467422226, 0.3086160028043167, 0.5645998190838663, 0.12440334996763154, 0.002392372114762145, 0.16554631289938074, 0.21324609797208366, 0.15993457347906273, 0.32828675608860247, 0.13327881123255228, 0.9932053750668145, 0.9949344183279469, 0.9915659730623178, 0.014406080143897002, 0.9796134497849961, 0.032234388371539247, 0.9401696608365614, 0.021489592247692833, 0.005372398061923208, 0.0488889844536075, 0.9472240737886454, 0.979037686083897, 0.012882074816893381, 0.9767642285077566, 0.9910062035428157, 0.005430170978316798, 0.057907330991731586, 0.9380987620660517, 0.03383411638680276, 0.9642723170238786, 0.994024447405867, 0.9248897444917556, 0.06822957131496558, 0.9839133262899755, 0.0035133513492554805, 0.0175667567462774, 0.11242724317617538, 0.8677977832661037, 0.01264715068872993, 0.9738306030322046, 0.037309801435478324, 0.955130916748245, 0.30239729068589416, 0.0419164561346784, 0.6047945813717883, 0.023952260648387656, 0.026946293229436112, 0.0056845967702133324, 0.9891198380171199, 0.9875719082610338, 0.9612738699574572, 0.9768523755366232, 0.012478628862533626, 0.9733330512776228, 0.6836904075792093, 0.31164686423221905, 0.0024158671645908452, 0.046347781315398906, 0.06952167197309836, 0.7724630219233152, 0.11329457654875288, 0.00733146734844858, 0.9530907552983154, 0.04032307041646719, 0.9869692658786318, 0.01127540391392641, 0.9809601405115976, 0.16106614648129836, 0.202505494847846, 0.12040867261223276, 0.3010216815305819, 0.2157973613050405, 0.48215961381063593, 0.09867452561706037, 0.11997925273892569, 0.2063194626538535, 0.0930680184797274, 0.9134028857746928, 0.013366871499141847, 0.017822495332189128, 0.053467485996567386, 0.9964776668587729, 0.9983547183875516, 0.9941498398526541, 0.0657029086115253, 0.9292268503630008, 0.0063501958141389744, 0.6413697772280365, 0.002116731938046325, 0.0063501958141389744, 0.34291057396350466, 0.317147454980704, 0.27835265926440994, 0.22791942483322766, 0.176516320509138, 0.9949601950256284, 0.1318647960740153, 0.0030666231645119836, 0.17479752037718305, 0.6593239803700764, 0.030666231645119835, 0.16629796669730662, 0.7317110534681491, 0.038511108077271004, 0.05251514737809682, 0.010503029475619366, 0.20469782836236744, 0.5909201460272117, 0.030897785413187537, 0.1371089227710197, 0.03862223176648442, 0.9983433501345055, 0.13255243908989914, 0.8076450939896179, 0.036991378350669527, 0.012330459450223175, 0.009247844587667382, 0.026032466420405104, 0.005206493284081021, 0.8538648985892875, 0.10933635896570144, 0.005771099650542614, 0.9378036932131747, 0.037512147728526984, 0.020198848776899148, 0.9469172310742818, 0.024756006041157692, 0.024756006041157692, 0.9848831438804891, 0.007405136420154054, 0.14929127614244853, 0.01658791957138317, 0.7713382600693174, 0.060822371761738284, 0.2481627996727, 0.360459932485486, 0.0707056021413838, 0.22598064998128548, 0.09427413618851173, 0.993579049687883, 0.9944871901199713, 0.9900680239026811, 0.9908860480311901, 0.09335079828836018, 0.02465870143466118, 0.6587395954688058, 0.22192831291195061, 0.9955764481807317, 0.9914447706497959, 0.05053545946343851, 0.02613903075695095, 0.03833724511019473, 0.29798495062924085, 0.5889994930566281, 0.0774452676344879, 0.17316413774452913, 0.2558304346577466, 0.2192832297066399, 0.2741040371332999, 0.09064255260872121, 0.11487373003877539, 0.37154472059416416, 0.15436157473960443, 0.2687865792704159, 0.1757686683897648, 0.10998390361230896, 0.26211117216017554, 0.14595994684998012, 0.3063103109950287, 0.9873625647010424, 0.9789689527883862, 0.0796681084970119, 0.921873826893995], \"Term\": [\"000\", \"000\", \"000\", \"000\", \"000\", \"000m\", \"2004\", \"2004\", \"2004\", \"2004\", \"2004\", \"2005\", \"2005\", \"2005\", \"2005\", \"2005\", \"2bn\", \"2bn\", \"3g\", \"5bn\", \"5bn\", \"actor\", \"actor\", \"actors\", \"actress\", \"actress\", \"album\", \"album\", \"analysts\", \"analysts\", \"angels\", \"apple\", \"arsenal\", \"asylum\", \"athens\", \"athens\", \"athens\", \"athletics\", \"athletics\", \"award\", \"award\", \"award\", \"awards\", \"awards\", \"ball\", \"ball\", \"band\", \"band\", \"bank\", \"bank\", \"bank\", \"barcelona\", \"bbc\", \"bbc\", \"bbc\", \"bbc\", \"bbc\", \"best\", \"best\", \"best\", \"best\", \"best\", \"blair\", \"blair\", \"blunkett\", \"bmw\", \"boss\", \"boss\", \"boss\", \"boss\", \"boss\", \"britain\", \"britain\", \"britain\", \"britain\", \"britain\", \"british\", \"british\", \"british\", \"british\", \"british\", \"broadband\", \"brown\", \"brown\", \"brown\", \"bt\", \"business\", \"business\", \"business\", \"business\", \"business\", \"cabinet\", \"cabinet\", \"camera\", \"campaign\", \"campaign\", \"campaign\", \"campaign\", \"captain\", \"captain\", \"celtic\", \"ceremony\", \"ceremony\", \"champions\", \"champions\", \"chancellor\", \"chancellor\", \"chart\", \"chart\", \"chelsea\", \"chief\", \"chief\", \"chief\", \"chief\", \"chief\", \"china\", \"china\", \"china\", \"club\", \"club\", \"club\", \"coach\", \"coach\", \"comedy\", \"comedy\", \"commons\", \"companies\", \"companies\", \"companies\", \"company\", \"company\", \"company\", \"company\", \"company\", \"computer\", \"computer\", \"computers\", \"concert\", \"conservative\", \"conservative\", \"conservatives\", \"constitution\", \"construction\", \"conte\", \"content\", \"content\", \"content\", \"content\", \"council\", \"council\", \"council\", \"council\", \"creditors\", \"cup\", \"currency\", \"dance\", \"data\", \"data\", \"data\", \"deal\", \"deal\", \"deal\", \"deal\", \"deal\", \"debt\", \"debt\", \"debt\", \"december\", \"december\", \"december\", \"december\", \"december\", \"dem\", \"democrats\", \"democrats\", \"dems\", \"deutsche\", \"deutsche\", \"deutsche\", \"devices\", \"digital\", \"digital\", \"director\", \"director\", \"director\", \"director\", \"director\", \"dollar\", \"dollar\", \"download\", \"drake\", \"drama\", \"drama\", \"drama\", \"drama\", \"driscoll\", \"ebbers\", \"economic\", \"economic\", \"economist\", \"economists\", \"economy\", \"economy\", \"election\", \"election\", \"election\", \"elvis\", \"england\", \"england\", \"england\", \"england\", \"euros\", \"exchange\", \"exchange\", \"exchange\", \"expected\", \"expected\", \"expected\", \"expected\", \"expected\", \"exports\", \"fa\", \"federer\", \"ferguson\", \"ferguson\", \"festival\", \"fiat\", \"figures\", \"figures\", \"figures\", \"figures\", \"files\", \"film\", \"film\", \"film\", \"films\", \"films\", \"films\", \"final\", \"final\", \"final\", \"final\", \"final\", \"financial\", \"financial\", \"financial\", \"financial\", \"firm\", \"firm\", \"firm\", \"firm\", \"firm\", \"football\", \"football\", \"football\", \"forecast\", \"forecast\", \"forecast\", \"forsyth\", \"france\", \"france\", \"france\", \"france\", \"france\", \"fuel\", \"fuel\", \"fuel\", \"gadget\", \"gadgets\", \"game\", \"game\", \"game\", \"game\", \"gamers\", \"games\", \"games\", \"games\", \"games\", \"games\", \"gaming\", \"gara\", \"gas\", \"gas\", \"gazprom\", \"gdp\", \"general\", \"general\", \"general\", \"general\", \"general\", \"glazer\", \"gm\", \"goal\", \"goal\", \"goal\", \"goal\", \"good\", \"good\", \"good\", \"good\", \"good\", \"google\", \"government\", \"government\", \"government\", \"growth\", \"growth\", \"growth\", \"half\", \"half\", \"half\", \"half\", \"half\", \"hodgson\", \"holmes\", \"home\", \"home\", \"home\", \"home\", \"home\", \"howard\", \"howard\", \"howard\", \"howard\", \"imf\", \"immigration\", \"including\", \"including\", \"including\", \"including\", \"including\", \"india\", \"india\", \"india\", \"india\", \"india\", \"indonesia\", \"information\", \"information\", \"information\", \"information\", \"information\", \"injury\", \"injury\", \"injury\", \"internet\", \"internet\", \"internet\", \"investment\", \"investment\", \"investment\", \"investment\", \"investment\", \"investors\", \"investors\", \"ipod\", \"ireland\", \"ireland\", \"ireland\", \"ireland\", \"ireland\", \"issue\", \"issue\", \"issue\", \"issue\", \"issue\", \"jobs\", \"jobs\", \"jobs\", \"jobs\", \"judges\", \"just\", \"just\", \"just\", \"just\", \"just\", \"kilroy\", \"labour\", \"labour\", \"labour\", \"lanka\", \"law\", \"law\", \"law\", \"law\", \"law\", \"leader\", \"leader\", \"leader\", \"leader\", \"league\", \"league\", \"league\", \"league\", \"lending\", \"lib\", \"liberal\", \"like\", \"like\", \"like\", \"like\", \"like\", \"london\", \"london\", \"london\", \"london\", \"london\", \"lord\", \"lord\", \"lords\", \"mac\", \"machines\", \"make\", \"make\", \"make\", \"make\", \"make\", \"manifesto\", \"marathon\", \"market\", \"market\", \"market\", \"markets\", \"markets\", \"markets\", \"match\", \"match\", \"match\", \"match\", \"matches\", \"medal\", \"microsoft\", \"minister\", \"minister\", \"minister\", \"ministers\", \"ministers\", \"minutes\", \"minutes\", \"minutes\", \"minutes\", \"minutes\", \"mobile\", \"mobiles\", \"mourinho\", \"mp\", \"mp\", \"mps\", \"mr\", \"mr\", \"mr\", \"mr\", \"mr\", \"music\", \"music\", \"musical\", \"muslim\", \"nadal\", \"net\", \"net\", \"net\", \"net\", \"networks\", \"networks\", \"new\", \"new\", \"new\", \"new\", \"new\", \"newcastle\", \"newcastle\", \"nominated\", \"nominated\", \"nominations\", \"nominations\", \"nuclear\", \"number\", \"number\", \"number\", \"number\", \"number\", \"oil\", \"oil\", \"old\", \"old\", \"old\", \"old\", \"old\", \"olympic\", \"olympic\", \"olympic\", \"online\", \"online\", \"online\", \"online\", \"open\", \"open\", \"open\", \"open\", \"open\", \"oscar\", \"oscar\", \"parliament\", \"parry\", \"party\", \"party\", \"party\", \"pc\", \"pc\", \"people\", \"people\", \"people\", \"people\", \"people\", \"phone\", \"phone\", \"phone\", \"phones\", \"plans\", \"plans\", \"plans\", \"plans\", \"plans\", \"play\", \"play\", \"play\", \"play\", \"play\", \"players\", \"players\", \"players\", \"players\", \"players\", \"police\", \"police\", \"police\", \"police\", \"political\", \"political\", \"political\", \"political\", \"portable\", \"premiership\", \"premiership\", \"prescott\", \"prices\", \"prices\", \"prime\", \"prime\", \"prime\", \"prize\", \"prize\", \"prize\", \"prize\", \"profits\", \"profits\", \"public\", \"public\", \"public\", \"public\", \"public\", \"radcliffe\", \"rangers\", \"rap\", \"rapper\", \"rate\", \"rate\", \"rate\", \"rate\", \"rate\", \"rates\", \"rates\", \"rates\", \"rates\", \"record\", \"record\", \"record\", \"record\", \"record\", \"referee\", \"retailers\", \"rise\", \"rise\", \"rise\", \"rise\", \"rise\", \"robinson\", \"robinson\", \"rock\", \"rock\", \"rock\", \"rock\", \"roddick\", \"rose\", \"rose\", \"rose\", \"rosneft\", \"rugby\", \"rupees\", \"said\", \"said\", \"said\", \"said\", \"said\", \"sales\", \"sales\", \"sales\", \"sales\", \"say\", \"say\", \"say\", \"say\", \"say\", \"says\", \"says\", \"says\", \"says\", \"says\", \"search\", \"search\", \"search\", \"search\", \"season\", \"season\", \"season\", \"sec\", \"second\", \"second\", \"second\", \"second\", \"second\", \"secretary\", \"secretary\", \"securities\", \"seed\", \"seed\", \"semi\", \"service\", \"service\", \"service\", \"service\", \"service\", \"services\", \"services\", \"services\", \"services\", \"set\", \"set\", \"set\", \"set\", \"set\", \"shadow\", \"shares\", \"silk\", \"singer\", \"singer\", \"site\", \"site\", \"site\", \"site\", \"sites\", \"sites\", \"slam\", \"slam\", \"slowdown\", \"software\", \"software\", \"song\", \"song\", \"sony\", \"sony\", \"spam\", \"squad\", \"squad\", \"sri\", \"star\", \"star\", \"star\", \"star\", \"starring\", \"starring\", \"stars\", \"stars\", \"state\", \"state\", \"state\", \"state\", \"state\", \"stock\", \"stock\", \"striker\", \"supplies\", \"suspects\", \"takeover\", \"takeover\", \"tax\", \"tax\", \"tax\", \"team\", \"team\", \"team\", \"team\", \"technology\", \"technology\", \"technology\", \"tennis\", \"theatre\", \"theatre\", \"time\", \"time\", \"time\", \"time\", \"time\", \"told\", \"told\", \"told\", \"told\", \"told\", \"tony\", \"tony\", \"tony\", \"tony\", \"tories\", \"tory\", \"tournament\", \"trading\", \"trading\", \"tv\", \"tv\", \"tv\", \"tv\", \"tv\", \"uk\", \"uk\", \"uk\", \"uk\", \"ukip\", \"united\", \"united\", \"united\", \"united\", \"united\", \"use\", \"use\", \"use\", \"use\", \"use\", \"used\", \"used\", \"used\", \"used\", \"used\", \"users\", \"using\", \"using\", \"using\", \"using\", \"using\", \"victory\", \"victory\", \"victory\", \"victory\", \"video\", \"video\", \"video\", \"video\", \"virus\", \"virus\", \"virus\", \"voters\", \"voters\", \"wales\", \"wales\", \"wales\", \"wales\", \"way\", \"way\", \"way\", \"way\", \"way\", \"web\", \"websites\", \"wenger\", \"westminster\", \"win\", \"win\", \"win\", \"win\", \"windows\", \"wireless\", \"won\", \"won\", \"won\", \"won\", \"won\", \"world\", \"world\", \"world\", \"world\", \"world\", \"year\", \"year\", \"year\", \"year\", \"year\", \"years\", \"years\", \"years\", \"years\", \"years\", \"yen\", \"yugansk\", \"yukos\", \"yukos\"]}, \"R\": 30, \"lambda.step\": 0.01, \"plot.opts\": {\"xlab\": \"PC1\", \"ylab\": \"PC2\"}, \"topic.order\": [3, 1, 4, 5, 2]};\n",
              "\n",
              "function LDAvis_load_lib(url, callback){\n",
              "  var s = document.createElement('script');\n",
              "  s.src = url;\n",
              "  s.async = true;\n",
              "  s.onreadystatechange = s.onload = callback;\n",
              "  s.onerror = function(){console.warn(\"failed to load library \" + url);};\n",
              "  document.getElementsByTagName(\"head\")[0].appendChild(s);\n",
              "}\n",
              "\n",
              "if(typeof(LDAvis) !== \"undefined\"){\n",
              "   // already loaded: just create the visualization\n",
              "   !function(LDAvis){\n",
              "       new LDAvis(\"#\" + \"ldavis_el591399100180712488342602665\", ldavis_el591399100180712488342602665_data);\n",
              "   }(LDAvis);\n",
              "}else if(typeof define === \"function\" && define.amd){\n",
              "   // require.js is available: use it to load d3/LDAvis\n",
              "   require.config({paths: {d3: \"https://d3js.org/d3.v5\"}});\n",
              "   require([\"d3\"], function(d3){\n",
              "      window.d3 = d3;\n",
              "      LDAvis_load_lib(\"https://cdn.jsdelivr.net/gh/bmabey/pyLDAvis@3.3.1/pyLDAvis/js/ldavis.v3.0.0.js\", function(){\n",
              "        new LDAvis(\"#\" + \"ldavis_el591399100180712488342602665\", ldavis_el591399100180712488342602665_data);\n",
              "      });\n",
              "    });\n",
              "}else{\n",
              "    // require.js not available: dynamically load d3 & LDAvis\n",
              "    LDAvis_load_lib(\"https://d3js.org/d3.v5.js\", function(){\n",
              "         LDAvis_load_lib(\"https://cdn.jsdelivr.net/gh/bmabey/pyLDAvis@3.3.1/pyLDAvis/js/ldavis.v3.0.0.js\", function(){\n",
              "                 new LDAvis(\"#\" + \"ldavis_el591399100180712488342602665\", ldavis_el591399100180712488342602665_data);\n",
              "            })\n",
              "         });\n",
              "}\n",
              "</script>"
            ]
          },
          "metadata": {},
          "execution_count": 293
        }
      ]
    },
    {
      "cell_type": "markdown",
      "source": [
        "the model has correctly clustered into sports, politics, business, tech and entertainment"
      ],
      "metadata": {
        "id": "Wq0a1R8mZ78D"
      }
    },
    {
      "cell_type": "code",
      "source": [
        ""
      ],
      "metadata": {
        "id": "7SLjn9j0agck"
      },
      "execution_count": null,
      "outputs": []
    }
  ]
}